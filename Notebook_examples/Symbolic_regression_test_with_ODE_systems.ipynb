{
 "cells": [
  {
   "cell_type": "code",
   "execution_count": null,
   "id": "66746395",
   "metadata": {
    "lines_to_next_cell": 0
   },
   "outputs": [],
   "source": []
  },
  {
   "cell_type": "code",
   "execution_count": null,
   "id": "88fff1f0",
   "metadata": {},
   "outputs": [],
   "source": [
    "using Kinbiont\n",
    "using DifferentialEquations\n",
    "using CSV\n",
    "using SymbolicRegression\n",
    "using Plots\n",
    "using StatsBase\n",
    "using Distributions\n",
    "using OptimizationBBO\n",
    "using Optimization\n",
    "using NaNMath"
   ]
  },
  {
   "cell_type": "markdown",
   "id": "551af899",
   "metadata": {
    "lines_to_next_cell": 2
   },
   "source": [
    "In this example, we simulate a system of ODEs with Kinbiont.\n",
    "One of the parameters in the system (param[4]) is affected by an experimental feature.\n",
    "The dependence of this parameter on the feature is **quadratic**: param[4] = param0 * (1 - feature)^2.\n",
    "The goal is to fit the ODE system to data generated under different feature values\n",
    "and then apply symbolic regression to recover the underlying relationship."
   ]
  },
  {
   "cell_type": "code",
   "execution_count": null,
   "id": "cced0a8b",
   "metadata": {},
   "outputs": [],
   "source": [
    "# Function defining the unknown quadratic response of the parameter to the feature\n",
    "function unknown_response(feature)\n",
    "    response = (1 - feature)^2\n",
    "    return response\n",
    "end"
   ]
  },
  {
   "cell_type": "code",
   "execution_count": null,
   "id": "083b2df7",
   "metadata": {},
   "outputs": [],
   "source": [
    "# Function defining time-dependent activity, used in the ODE system\n",
    "function time_dep(time)\n",
    "    activity = exp((- (time - 20)^2) / 20)\n",
    "    return activity\n",
    "end"
   ]
  },
  {
   "cell_type": "code",
   "execution_count": null,
   "id": "bda2016c",
   "metadata": {},
   "outputs": [],
   "source": [
    "# Defining the system of ODEs a tres state system. Where, the first state are bacteria reproduciing eating the nutrient (u[4), the production of the second state has a time dependent activity and the third state is produced by the second state with a constant maturation rate.\n",
    "function model_1(du, u, param, t)\n",
    "    # u[1]: Population 1\n",
    "    # u[2]: Intermediate state 1\n",
    "    # u[3]: Intermediate state 2\n",
    "    # u[4]: Available resource\n",
    "    \n",
    "    du[1] = param[1] * u[1] * u[4]  # Growth equation\n",
    "    du[2] = time_dep(t) * param[4] * u[1] - param[3] * u[2] - param[2] * u[2]  # Intermediate process\n",
    "    du[3] = param[3] * u[2] - param[2] * u[3]  # Second intermediate process\n",
    "    du[4] = -du[1]  # Resource depletion\n",
    "end"
   ]
  },
  {
   "cell_type": "code",
   "execution_count": null,
   "id": "059ac18a",
   "metadata": {},
   "outputs": [],
   "source": [
    "# Initial conditions for the variables\n",
    "u0 = [0.1, 0.0, 0.0, 1.0]"
   ]
  },
  {
   "cell_type": "code",
   "execution_count": null,
   "id": "75f75fd4",
   "metadata": {},
   "outputs": [],
   "source": [
    "# Parameters: [growth rate, degradation rate, conversion rate, feature-dependent parameter]\n",
    "param = [0.1, 0.001, 0.5, 0.42]\n",
    "lb1 = [0.01, 0.0001, 0.1, 0.0]\n",
    "ub1 = [0.2, 0.3, 1.1, 1.0]\n",
    "param_guess = lb1 .+ (ub1 .- lb1) ./ 2"
   ]
  },
  {
   "cell_type": "code",
   "execution_count": null,
   "id": "009257c8",
   "metadata": {},
   "outputs": [],
   "source": [
    "param0 = param[4]  # Store initial value of the feature-dependent parameter\n",
    "noise_value = 0.01  # Noise level"
   ]
  },
  {
   "cell_type": "code",
   "execution_count": null,
   "id": "76dc1b5d",
   "metadata": {},
   "outputs": [],
   "source": [
    "# Defining the range of the perturbation on the feature\n",
    "results_fit = Any\n",
    "feature_range = 0.0:0.1:2.0"
   ]
  },
  {
   "cell_type": "code",
   "execution_count": null,
   "id": "eee4e26e",
   "metadata": {},
   "outputs": [],
   "source": [
    "plot(0, 0)  # Empty plot for visualization"
   ]
  },
  {
   "cell_type": "code",
   "execution_count": null,
   "id": "64737746",
   "metadata": {},
   "outputs": [],
   "source": [
    "for f in feature_range\n",
    "    # Quadratic dependence of param[4] on the feature\n",
    "    param[4] = param0 * unknown_response(f)\n",
    "\n",
    "    # Calling the simulation function\n",
    "    Simulation = ODEs_system_sim(\n",
    "        model_1,  # Model function\n",
    "        u0,       # Initial conditions\n",
    "        0.0,      # Start time\n",
    "        100.0,    # End time\n",
    "        2.0,      # Time step\n",
    "        param     # Model parameters\n",
    "    )\n",
    "\n",
    "    # Extracting simulation results\n",
    "    sol_time = reduce(hcat, Simulation.t)\n",
    "    sol_t = reduce(hcat, Simulation.u)\n",
    "\n",
    "    # Adding uniform random noise to simulation data\n",
    "    sol_t_noise = [sol_t[i, :] .+ rand(Uniform(-0.05, 0.05), size(sol_t)[2]) for i in 1:size(sol_t)[1]]\n",
    "    sol_t_noise = permutedims(reduce(hcat, sol_t_noise))\n",
    "    \n",
    "    data = vcat(sol_time, sol_t_noise)  # Final dataset\n",
    "\n",
    "    # Plot data with noise for different system variables\n",
    "    display(scatter(data[1, :], data[2, :]))\n",
    "    display(scatter!(data[1, :], data[3, :]))\n",
    "    display(scatter!(data[1, :], data[4, :]))\n",
    "    display(scatter!(data[1, :], data[5, :]))\n",
    "\n",
    "    # Fit ODE system to noisy data\n",
    "    fit = fit_ODEs_System(\n",
    "        data,\n",
    "        string(f),\n",
    "        model_1, \n",
    "        param_guess,\n",
    "        u0;\n",
    "        lb=lb1,\n",
    "        ub=ub1\n",
    "    )\n",
    "\n",
    "    display(plot!(fit[3]))  # Plot fitted model results\n",
    "\n",
    "    # Storing fitted results for symbolic regression\n",
    "    if f == feature_range[1]\n",
    "        results_fit = fit[2]\n",
    "    else\n",
    "        results_fit = vcat(results_fit, reduce(hcat, fit[2][2, :]))\n",
    "    end\n",
    "end"
   ]
  },
  {
   "cell_type": "code",
   "execution_count": null,
   "id": "2ad33771",
   "metadata": {},
   "outputs": [],
   "source": [
    "# Scatter plot of feature value vs. estimated parameter p4\n",
    "scatter(results_fit[2:end, 1], results_fit[2:end, 6], xlabel=\"Feature value\", ylabel=\"p4\")"
   ]
  },
  {
   "cell_type": "code",
   "execution_count": null,
   "id": "ff91e68c",
   "metadata": {},
   "outputs": [],
   "source": [
    "# Setting options for symbolic regression\n",
    "options = SymbolicRegression.Options(\n",
    "    binary_operators=[+, /, *, -],\n",
    "    unary_operators=[square],\n",
    "    constraints=nothing,\n",
    "    elementwise_loss=nothing,\n",
    "    loss_function=nothing,\n",
    "    tournament_selection_n=12,\n",
    "    tournament_selection_p=0.86,\n",
    "    topn=12,\n",
    "    complexity_of_operators=nothing,\n",
    "    complexity_of_constants=nothing,\n",
    "    complexity_of_variables=nothing,\n",
    "    parsimony=0.05,\n",
    "    dimensional_constraint_penalty=nothing,\n",
    "    alpha=0.100000,\n",
    "    maxsize=10,\n",
    "    maxdepth=nothing\n",
    ")"
   ]
  },
  {
   "cell_type": "code",
   "execution_count": null,
   "id": "94cc1337",
   "metadata": {},
   "outputs": [],
   "source": [
    "# Generating feature matrix for symbolic regression\n",
    "feature_matrix = [[string(f), f] for f in feature_range]\n",
    "feature_matrix = permutedims(reduce(hcat, feature_matrix))"
   ]
  },
  {
   "cell_type": "code",
   "execution_count": null,
   "id": "5038e114",
   "metadata": {},
   "outputs": [],
   "source": [
    "results_fit[:, 2] = results_fit[:, 1]\n",
    "results_fit = permutedims(results_fit)"
   ]
  },
  {
   "cell_type": "code",
   "execution_count": null,
   "id": "87450d0a",
   "metadata": {},
   "outputs": [],
   "source": [
    "# Performing symbolic regression on the fitted results\n",
    "gr_sy_reg = Kinbiont.downstream_symbolic_regression(results_fit, feature_matrix, 6; options=options)"
   ]
  },
  {
   "cell_type": "code",
   "execution_count": null,
   "id": "0457d48f",
   "metadata": {
    "lines_to_next_cell": 2
   },
   "outputs": [],
   "source": [
    "# Plot results of symbolic regression\n",
    "scatter(results_fit[2, 2:end], results_fit[6, 2:end], xlabel=\"Feature value\", ylabel=\"Growth rate\")\n",
    "hline!(unique(gr_sy_reg[3][:, 1]), label=[\"Eq. 1\" nothing], line=(3, :green, :dash))\n",
    "plot!(unique(results_fit[2, 2:end]), unique(gr_sy_reg[3][:, 2]), label=[\"Eq. 2\" nothing], line=(3, :red))\n",
    "plot!(unique(results_fit[2, 2:end]), unique(gr_sy_reg[3][:, 3]), label=[\"Eq. 3\" nothing], line=(3, :blue, :dashdot))"
   ]
  }
 ],
 "metadata": {
  "jupytext": {
   "cell_metadata_filter": "-all",
   "main_language": "julia",
   "notebook_metadata_filter": "-all"
  }
 },
 "nbformat": 4,
 "nbformat_minor": 5
}
