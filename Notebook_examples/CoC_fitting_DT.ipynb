{
 "cells": [
  {
   "cell_type": "code",
   "execution_count": null,
   "id": "4d8dfcfd",
   "metadata": {},
   "outputs": [],
   "source": [
    "using Kinbiont\n",
    "using CSV\n",
    "using DataFrames\n",
    "using Plots\n",
    "using Statistics\n",
    "# data from \"Construction and Modeling of a Coculture Microplate for Real-Time Measurement of Microbial Interactions\"\n",
    "# strain annotation \n",
    "A0 = [1,11,21,31,41,51,13,33,53,7,17,37,47,57,38,48,58]\n",
    "LP = [12,32,52,5,15,25,35,45,55,27,8,9,19,29,10,20,30]\n",
    "LB = [4,14,24,34,44,54,16,36,56,18,28,39,49,59,40,50,60]"
   ]
  },
  {
   "cell_type": "code",
   "execution_count": null,
   "id": "90683cf5",
   "metadata": {},
   "outputs": [],
   "source": [
    "# load data\n",
    "data = CSV.read(\"../data_examples/DATA_Gut_Microbiome_CoC.csv\", DataFrame)\n",
    "# convet time column from in elapsed time from the start in hours, the delta time in the data is 15 minutes"
   ]
  },
  {
   "cell_type": "code",
   "execution_count": null,
   "id": "6bfb6540",
   "metadata": {},
   "outputs": [],
   "source": [
    "delta_time = 15/60\n",
    "time_seq = 0:delta_time:(size(data,1)-1)*delta_time\n",
    "time_seq = [ time_seq[i] for i in 1: length(time_seq)]\n",
    "data[!,:Time] = time_seq "
   ]
  },
  {
   "cell_type": "code",
   "execution_count": null,
   "id": "e97a297f",
   "metadata": {},
   "outputs": [],
   "source": [
    "index_tot = 2:1:size(data,2)\n",
    "A0_index = A0.+1\n",
    "LP_index = LP.+1\n",
    "LB_index = LB.+1\n",
    "blanS1_index = setdiff(index_tot, [A0_index; LP_index; LB_index])"
   ]
  },
  {
   "cell_type": "code",
   "execution_count": null,
   "id": "474b9eda",
   "metadata": {},
   "outputs": [],
   "source": [
    "### evaluating blank values by doing the mean of the blank columns\n",
    "data_blanS1_values = Matrix(data[:,blanS1_index])\n",
    "#blanS1_value = mean.(reduce(vcat,eachrow(data_blanS1_values)))\n",
    "blanS1_value =  mean(data_blanS1_values,dims = (2))"
   ]
  },
  {
   "cell_type": "code",
   "execution_count": null,
   "id": "7939faf7",
   "metadata": {},
   "outputs": [],
   "source": [
    "# Intializing the model for fitting with Kinbiont\n",
    "model =\"aHPM\"\n",
    "results_matrix = Kinbiont.initialize_df_results(model)"
   ]
  },
  {
   "cell_type": "code",
   "execution_count": null,
   "id": "462ac8f5",
   "metadata": {},
   "outputs": [],
   "source": [
    "p_guess = [0.2, 0.001, 1.00, 1.0]\n",
    "ub_ahpm = [3.0, 1.0,3.00, 5.0]\n",
    "lb_ahpm = [0.001, 0.0,0.2, 0.0]\n",
    "# Fitting all AO data\n",
    "# Not interacting A0\n",
    "# AO, -\n",
    "# [1,21,41];\n",
    "A0 = [1,21,41].+1"
   ]
  },
  {
   "cell_type": "code",
   "execution_count": null,
   "id": "6cc03293",
   "metadata": {},
   "outputs": [],
   "source": [
    "data_A0 = data[:,A0] #.- blanS1_value"
   ]
  },
  {
   "cell_type": "code",
   "execution_count": null,
   "id": "879b3699",
   "metadata": {},
   "outputs": [],
   "source": [
    "# mean of the replicates\n",
    "data_A0_mean = mean(Matrix(data_A0),dims=2)"
   ]
  },
  {
   "cell_type": "code",
   "execution_count": null,
   "id": "ffe1ac9d",
   "metadata": {},
   "outputs": [],
   "source": [
    "# Formatting data for Kinbiont\n",
    "data_to_fit = permutedims( [time_seq data_A0_mean])"
   ]
  },
  {
   "cell_type": "code",
   "execution_count": null,
   "id": "811c2f53",
   "metadata": {
    "lines_to_next_cell": 2
   },
   "outputs": [],
   "source": [
    "# Performing ODE fitting\n",
    "results_ODE_fit = Kinbiont.fitting_one_well_ODE_constrained(\n",
    "    data_to_fit, \n",
    "    \"AO_NA\",\n",
    "    \"CoC_DT\",\n",
    "    model,\n",
    "    p_guess;\n",
    "    lb = lb_ahpm,\n",
    "    ub = ub_ahpm,\n",
    ")\n",
    "Plots.scatter(data_to_fit[1,:],data_to_fit[2,:], xlabel=\"Time [h]\", ylabel=\"OD [Arb. Units]\", label=[\"Data \" nothing],color=:black,markersize =2 ,size = (300,300))\n",
    "Plots.plot!(results_ODE_fit[4],results_ODE_fit[3], xlabel=\"Time [h]\", ylabel=\"OD [Arb. Units]\",label=[\"fit \" nothing],color=:red,markersize =4 ,size = (300,300))\n",
    "results_matrix = [results_matrix results_ODE_fit[2]]"
   ]
  },
  {
   "cell_type": "markdown",
   "id": "307b3778",
   "metadata": {
    "lines_to_next_cell": 2
   },
   "source": [
    "AO, LP\n",
    "[11,31,51,7]; AO"
   ]
  },
  {
   "cell_type": "code",
   "execution_count": null,
   "id": "5ed230be",
   "metadata": {},
   "outputs": [],
   "source": [
    "A0 =  [11,31,51,7].+1"
   ]
  },
  {
   "cell_type": "code",
   "execution_count": null,
   "id": "feaa0944",
   "metadata": {},
   "outputs": [],
   "source": [
    "data_A0 = data[:,A0] #.- blanS1_value"
   ]
  },
  {
   "cell_type": "code",
   "execution_count": null,
   "id": "c81eb515",
   "metadata": {},
   "outputs": [],
   "source": [
    "# mean of the replicates\n",
    "data_A0_mean = mean(Matrix(data_A0),dims=2)"
   ]
  },
  {
   "cell_type": "code",
   "execution_count": null,
   "id": "76db0fc1",
   "metadata": {},
   "outputs": [],
   "source": [
    "# Formatting data for Kinbiont\n",
    "data_to_fit = permutedims( [time_seq data_A0_mean])"
   ]
  },
  {
   "cell_type": "code",
   "execution_count": null,
   "id": "383ce274",
   "metadata": {},
   "outputs": [],
   "source": [
    "# Performing ODE fitting\n",
    "results_ODE_fit = Kinbiont.fitting_one_well_ODE_constrained(\n",
    "    data_to_fit, \n",
    "    \"AO_LP\",\n",
    "    \"CoC_DT\",\n",
    "    model,\n",
    "    p_guess;\n",
    "    lb = lb_ahpm,\n",
    "    ub = ub_ahpm,\n",
    ")"
   ]
  },
  {
   "cell_type": "code",
   "execution_count": null,
   "id": "300f07f3",
   "metadata": {},
   "outputs": [],
   "source": [
    "Plots.scatter(data_to_fit[1,:],data_to_fit[2,:], xlabel=\"Time [h]\", ylabel=\"OD [Arb. Units]\", label=[\"Data \" nothing],color=:black,markersize =2 ,size = (300,300))\n",
    "Plots.plot!(results_ODE_fit[4],results_ODE_fit[3], xlabel=\"Time [h]\", ylabel=\"OD [Arb. Units]\",label=[\"fit \" nothing],color=:red,markersize =4 ,size = (300,300))\n",
    "results_matrix = [results_matrix results_ODE_fit[2]]"
   ]
  },
  {
   "cell_type": "code",
   "execution_count": null,
   "id": "3b911f0d",
   "metadata": {},
   "outputs": [],
   "source": []
  },
  {
   "cell_type": "code",
   "execution_count": null,
   "id": "19cc1dc5",
   "metadata": {},
   "outputs": [],
   "source": []
  },
  {
   "cell_type": "markdown",
   "id": "9cf5e60a",
   "metadata": {
    "lines_to_next_cell": 2
   },
   "source": [
    "AO, LB\n",
    "[13,33,53,17]; "
   ]
  },
  {
   "cell_type": "code",
   "execution_count": null,
   "id": "3626625e",
   "metadata": {},
   "outputs": [],
   "source": [
    "A0 = [13,33,53,17].+1"
   ]
  },
  {
   "cell_type": "code",
   "execution_count": null,
   "id": "1c84a7f0",
   "metadata": {},
   "outputs": [],
   "source": [
    "data_A0 = data[:,A0] #.- blanS1_value"
   ]
  },
  {
   "cell_type": "code",
   "execution_count": null,
   "id": "2611465e",
   "metadata": {},
   "outputs": [],
   "source": [
    "# mean of the replicates\n",
    "data_A0_mean = mean(Matrix(data_A0),dims=2)"
   ]
  },
  {
   "cell_type": "code",
   "execution_count": null,
   "id": "5f04e7a1",
   "metadata": {},
   "outputs": [],
   "source": [
    "# Formatting data for Kinbiont\n",
    "data_to_fit = permutedims( [time_seq data_A0_mean])"
   ]
  },
  {
   "cell_type": "code",
   "execution_count": null,
   "id": "2cd0bde5",
   "metadata": {
    "lines_to_next_cell": 2
   },
   "outputs": [],
   "source": [
    "# Performing ODE fitting\n",
    "results_ODE_fit = Kinbiont.fitting_one_well_ODE_constrained(\n",
    "    data_to_fit, \n",
    "    \"AO_LB\",\n",
    "    \"CoC_DT\",\n",
    "    model,\n",
    "    p_guess;\n",
    "    lb = lb_ahpm,\n",
    "    ub = ub_ahpm,\n",
    ")\n",
    "Plots.scatter(data_to_fit[1,:],data_to_fit[2,:], xlabel=\"Time [h]\", ylabel=\"OD [Arb. Units]\", label=[\"Data \" nothing],color=:black,markersize =2 ,size = (300,300))\n",
    "Plots.plot!(results_ODE_fit[4],results_ODE_fit[3], xlabel=\"Time [h]\", ylabel=\"OD [Arb. Units]\",label=[\"fit \" nothing],color=:red,markersize =4 ,size = (300,300))\n",
    "results_matrix = [results_matrix results_ODE_fit[2]]"
   ]
  },
  {
   "cell_type": "markdown",
   "id": "215a0af8",
   "metadata": {},
   "source": [
    "AO, AO\n",
    "[37,47,57];"
   ]
  },
  {
   "cell_type": "code",
   "execution_count": null,
   "id": "e578d822",
   "metadata": {},
   "outputs": [],
   "source": []
  },
  {
   "cell_type": "code",
   "execution_count": null,
   "id": "9e1095de",
   "metadata": {},
   "outputs": [],
   "source": [
    "A0 =[37,47,57].+1"
   ]
  },
  {
   "cell_type": "code",
   "execution_count": null,
   "id": "bd5888f2",
   "metadata": {},
   "outputs": [],
   "source": [
    "data_A0 = data[:,A0] #.- blanS1_value"
   ]
  },
  {
   "cell_type": "code",
   "execution_count": null,
   "id": "94598ded",
   "metadata": {},
   "outputs": [],
   "source": [
    "# mean of the replicates\n",
    "data_A0_mean = mean(Matrix(data_A0),dims=2)"
   ]
  },
  {
   "cell_type": "code",
   "execution_count": null,
   "id": "af7a79eb",
   "metadata": {},
   "outputs": [],
   "source": [
    "# Formatting data for Kinbiont\n",
    "data_to_fit = permutedims( [time_seq data_A0_mean])"
   ]
  },
  {
   "cell_type": "code",
   "execution_count": null,
   "id": "8faed9d6",
   "metadata": {},
   "outputs": [],
   "source": [
    "# Performing ODE fitting\n",
    "results_ODE_fit = Kinbiont.fitting_one_well_ODE_constrained(\n",
    "    data_to_fit, \n",
    "    \"AO_AO\",\n",
    "    \"CoC_DT\",\n",
    "    model,\n",
    "    p_guess;\n",
    "    lb = lb_ahpm,\n",
    "    ub = ub_ahpm,\n",
    ")\n",
    "Plots.scatter(data_to_fit[1,:],data_to_fit[2,:], xlabel=\"Time [h]\", ylabel=\"OD [Arb. Units]\", label=[\"Data \" nothing],color=:black,markersize =2 ,size = (300,300))\n",
    "Plots.plot!(results_ODE_fit[4],results_ODE_fit[3], xlabel=\"Time [h]\", ylabel=\"OD [Arb. Units]\",label=[\"fit \" nothing],color=:red,markersize =4 ,size = (300,300))\n",
    "results_matrix = [results_matrix results_ODE_fit[2]]"
   ]
  },
  {
   "cell_type": "code",
   "execution_count": null,
   "id": "028bef19",
   "metadata": {
    "lines_to_next_cell": 2
   },
   "outputs": [],
   "source": []
  },
  {
   "cell_type": "markdown",
   "id": "b4e9b513",
   "metadata": {
    "lines_to_next_cell": 2
   },
   "source": [
    "Creating feature Matrix"
   ]
  },
  {
   "cell_type": "code",
   "execution_count": null,
   "id": "7b330d2f",
   "metadata": {
    "lines_to_next_cell": 2
   },
   "outputs": [],
   "source": [
    "label_row = [\"AO_NA\",\"AO_LP\",\"AO_LB\",\"AO_AO\"]\n",
    "starting_0 = zeros(Int,4,3)\n",
    "feature_matrix = hcat(label_row,starting_0)\n",
    "feature_matrix[2,2] = 1 \n",
    "feature_matrix[3,3] = 1 \n",
    "feature_matrix[4,4] = 1 \n",
    "feature_names = [\"LP\",\"LB\",\"AO\"]"
   ]
  },
  {
   "cell_type": "code",
   "execution_count": null,
   "id": "afb62d0a",
   "metadata": {},
   "outputs": [],
   "source": [
    "# DT regression of Nmax against the feature matrix\n",
    "using Random"
   ]
  },
  {
   "cell_type": "code",
   "execution_count": null,
   "id": "5fe9f82e",
   "metadata": {},
   "outputs": [],
   "source": [
    "# Parameters of the decision tree\n",
    "depth = -1  # No depth limit"
   ]
  },
  {
   "cell_type": "code",
   "execution_count": null,
   "id": "77f14a04",
   "metadata": {
    "lines_to_next_cell": 2
   },
   "outputs": [],
   "source": [
    "# Set random seed for reproducibility\n",
    "seed = Random.seed!(1234)"
   ]
  },
  {
   "cell_type": "code",
   "execution_count": null,
   "id": "b6c55c50",
   "metadata": {},
   "outputs": [],
   "source": [
    "# Decision tree regression ON Nmax\n",
    "dt = Kinbiont.downstream_decision_tree_regression(results_matrix,\n",
    "        feature_matrix,\n",
    "        6;  # Row to learn\n",
    "        do_pruning=false,\n",
    "        verbose=true,\n",
    "        do_cross_validation=false,\n",
    "        max_depth=depth, \n",
    "        seed=seed,\n",
    "        min_samples_leaf =1,\n",
    "        min_purity_increase= 0.001, \n",
    "        min_samples_split=2\n",
    "    )"
   ]
  },
  {
   "cell_type": "code",
   "execution_count": null,
   "id": "fa9a0348",
   "metadata": {
    "lines_to_next_cell": 2
   },
   "outputs": [],
   "source": [
    "# Visualizing the decision tree\n",
    "using DecisionTree\n",
    "using AbstractTrees\n",
    "using MLJDecisionTreeInterface\n",
    "using TreeRecipe\n",
    "wt = DecisionTree.wrap(dt[1])\n",
    "p2 = Plots.plot(wt, 0.9, 0.2; size=(1400, 700), connect_labels=[\"yes\", \"no\"])"
   ]
  },
  {
   "cell_type": "code",
   "execution_count": null,
   "id": "ce7e439b",
   "metadata": {},
   "outputs": [],
   "source": [
    "# Decision tree regression exponential max growht rate\n",
    "dt = Kinbiont.downstream_decision_tree_regression(results_matrix,\n",
    "        feature_matrix,\n",
    "        8;  # Row to learn\n",
    "        do_pruning=false,\n",
    "        verbose=true,\n",
    "        do_cross_validation=false,\n",
    "        max_depth=depth, \n",
    "        seed=seed,\n",
    "        min_samples_leaf =1,\n",
    "        min_purity_increase= 0.0001, \n",
    "        min_samples_split=2\n",
    "    )"
   ]
  },
  {
   "cell_type": "code",
   "execution_count": null,
   "id": "ae5b1e05",
   "metadata": {},
   "outputs": [],
   "source": [
    "# Visualizing the decision tree\n",
    "using DecisionTree\n",
    "using AbstractTrees\n",
    "using MLJDecisionTreeInterface\n",
    "using TreeRecipe\n",
    "wt = DecisionTree.wrap(dt[1])\n",
    "p2 = Plots.plot(wt, 0.9, 0.2; size=(1400, 700), connect_labels=[\"yes\", \"no\"])"
   ]
  }
 ],
 "metadata": {
  "jupytext": {
   "cell_metadata_filter": "-all",
   "main_language": "julia",
   "notebook_metadata_filter": "-all"
  }
 },
 "nbformat": 4,
 "nbformat_minor": 5
}
