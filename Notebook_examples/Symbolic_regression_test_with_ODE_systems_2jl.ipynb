{
 "cells": [
  {
   "cell_type": "code",
   "execution_count": null,
   "id": "9feb50b4",
   "metadata": {},
   "outputs": [],
   "source": [
    "using Kinbiont\n",
    "using DifferentialEquations\n",
    "using CSV\n",
    "using SymbolicRegression\n",
    "using Plots\n",
    "using StatsBase\n",
    "using SymbolicRegression\n",
    "using Distributions\n",
    "using OptimizationBBO\n",
    "using Optimization\n",
    "using NaNMath\n",
    "# Generate a dataset with an unknown dependence on a feature \n",
    "function unknown_response(feature)\n",
    "\n",
    "    response = (1 - feature)^2\n",
    "    return response"
   ]
  },
  {
   "cell_type": "code",
   "execution_count": null,
   "id": "1241b2fe",
   "metadata": {},
   "outputs": [],
   "source": [
    "end"
   ]
  },
  {
   "cell_type": "code",
   "execution_count": null,
   "id": "befdadd0",
   "metadata": {},
   "outputs": [],
   "source": [
    "function time_dep(time)\n",
    "\n",
    "    activity = exp((- (time-20)^2)./20)\n",
    "    return     activity "
   ]
  },
  {
   "cell_type": "code",
   "execution_count": null,
   "id": "fe09e4ea",
   "metadata": {
    "lines_to_next_cell": 2
   },
   "outputs": [],
   "source": [
    "end"
   ]
  },
  {
   "cell_type": "code",
   "execution_count": null,
   "id": "19ed0322",
   "metadata": {
    "lines_to_next_cell": 2
   },
   "outputs": [],
   "source": [
    "function model_1(du, u, param, t)\n",
    "    # Define the ODEs\n",
    "    du[1] = param[1] * u[1] * u[4]\n",
    "    du[2] = time_dep(t)*param[4] * u[1] - param[3] * u[2] - param[2] * u[2]\n",
    "    du[3] = param[3] * u[2] - param[2] * u[3]\n",
    "    du[4] = -du[1]\n",
    "end"
   ]
  },
  {
   "cell_type": "code",
   "execution_count": null,
   "id": "f79a4e42",
   "metadata": {},
   "outputs": [],
   "source": [
    "u0 = [0.1, 0.0, 0.0,1.0]  # Initial conditions for the variables"
   ]
  },
  {
   "cell_type": "code",
   "execution_count": null,
   "id": "d283505f",
   "metadata": {},
   "outputs": [],
   "source": [
    "# Parameters\n",
    "param = [0.1, 0.001, 0.5, 0.42]\n",
    "lb1 =  [0.01, 0.0001, 0.1, 0.0]\n",
    "ub1=  [0.2, 0.3, 1.1,1.0]\n",
    "param_guess = lb1 .+ (ub1 .- lb1) ./ 2"
   ]
  },
  {
   "cell_type": "code",
   "execution_count": null,
   "id": "305cc2d3",
   "metadata": {},
   "outputs": [],
   "source": [
    "param0 = param[4]\n",
    "noise_value = 0.01"
   ]
  },
  {
   "cell_type": "code",
   "execution_count": null,
   "id": "72892157",
   "metadata": {},
   "outputs": [],
   "source": [
    "# defining the range of the perturbation on feature\n",
    "results_fit = Any"
   ]
  },
  {
   "cell_type": "code",
   "execution_count": null,
   "id": "920d62a8",
   "metadata": {},
   "outputs": [],
   "source": [
    "feature_range = 0.0:0.1:2.0"
   ]
  },
  {
   "cell_type": "code",
   "execution_count": null,
   "id": "0b8b05fd",
   "metadata": {},
   "outputs": [],
   "source": [
    "results_fit = Any\n",
    "plot(0, 0)\n",
    "for f in feature_range\n",
    "\n",
    "    # changing the parameters with unknown perturbation \n",
    "    param[4] = param0 * unknown_response(f)\n",
    "\n",
    "\n",
    "    # Calling the simulation function\n",
    "    Simulation =  ODEs_system_sim(\n",
    "        model_1, #string of the model\n",
    "        u0, # starting condition\n",
    "        0.0, # start time of the sim\n",
    "        100.0, # final time of the sim\n",
    "        2.0, # delta t for poisson approx\n",
    "        param; # parameters of the ODE model\n",
    "    )\n",
    "    \n",
    "    # Plotting scatterplot of data without noise\n",
    "\n",
    "    #adding uniform random noise\n",
    "    sol_time = reduce(hcat, Simulation.t)\n",
    "    sol_t = reduce(hcat,Simulation.u)\n",
    "    noise_unifom = rand(Uniform(-0.05,0.05),size(sol_t)[2])\n",
    "    sol_t_noise = [sol_t[i,:] .+ rand(Uniform(-0.05,0.05),size(sol_t)[2]) for i in 1:size(sol_t)[1]]\n",
    "    sol_t_noise =permutedims(reduce(hcat,sol_t_noise))\n",
    "    \n",
    "    data = vcat(sol_time,sol_t_noise)\n",
    "    # Plot data with noise\n",
    "    display(scatter(data[1,:],data[2,:]))\n",
    "    display( scatter!(data[1,:],data[3,:]))\n",
    "    display(scatter!(data[1,:],data[4,:]))\n",
    "    display( scatter!(data[1,:],data[5,:]))\n",
    "\n",
    "    \n",
    "\n",
    "   fit = fit_ODEs_System(data,\n",
    "                    string(f),\n",
    "                    model_1, \n",
    "                    param_guess,\n",
    "                    u0;\n",
    "                    lb= lb1,\n",
    "                   ub = ub1,\n",
    "                  # set_of_equations_to_fit = [1,3,4]\n",
    "    )\n",
    "\n",
    "    display(plot!(fit[3]))\n",
    "\n",
    "\n",
    "    if f == feature_range[1]\n",
    "        results_fit = fit[2]\n",
    "    else\n",
    "        results_fit = vcat(results_fit, reduce(hcat,fit[2][2,:]))\n",
    "    end"
   ]
  },
  {
   "cell_type": "code",
   "execution_count": null,
   "id": "71114bbe",
   "metadata": {},
   "outputs": [],
   "source": []
  },
  {
   "cell_type": "code",
   "execution_count": null,
   "id": "24621cc9",
   "metadata": {},
   "outputs": [],
   "source": [
    "end"
   ]
  },
  {
   "cell_type": "code",
   "execution_count": null,
   "id": "614f4c80",
   "metadata": {
    "lines_to_next_cell": 2
   },
   "outputs": [],
   "source": [
    "scatter(results_fit[2:end,1],results_fit[2:end,6],xlabel=\"Feature value\", ylabel=\"p4\",)"
   ]
  },
  {
   "cell_type": "code",
   "execution_count": null,
   "id": "05c3e3e9",
   "metadata": {},
   "outputs": [],
   "source": [
    "# setting option for symbolic regression\n",
    "options = SymbolicRegression.Options(\n",
    "    binary_operators=[+, /, *, -],\n",
    "    unary_operators=[square],\n",
    "    constraints=nothing,\n",
    "    elementwise_loss=nothing,\n",
    "    loss_function=nothing,\n",
    "    tournament_selection_n=12,\n",
    "    tournament_selection_p=0.86,\n",
    "    topn=12,\n",
    "    complexity_of_operators=nothing,\n",
    "    complexity_of_constants=nothing,\n",
    "    complexity_of_variables=nothing,\n",
    "    parsimony=0.05,\n",
    "    dimensional_constraint_penalty=nothing,\n",
    "    alpha=0.100000,\n",
    "    maxsize=10,\n",
    "    maxdepth=nothing\n",
    ")\n",
    "# generating feature matrix\n",
    "# the first column is the label as a string of the feature value we used for the fitting labeling"
   ]
  },
  {
   "cell_type": "code",
   "execution_count": null,
   "id": "27773ad3",
   "metadata": {},
   "outputs": [],
   "source": [
    "feature_matrix = [[string(f),f] for f in feature_range]\n",
    "feature_matrix = permutedims(reduce(hcat,feature_matrix))\n",
    "results_fit[:,2] =results_fit[:,1] \n",
    "results_fit = permutedims(results_fit)\n",
    "gr_sy_reg = Kinbiont.downstream_symbolic_regression(results_fit, feature_matrix, 6; options=options)"
   ]
  },
  {
   "cell_type": "code",
   "execution_count": null,
   "id": "dc379f32",
   "metadata": {},
   "outputs": [],
   "source": [
    "scatter(results_fit[2,2:end],results_fit[6,2:end,],xlabel=\"Feature value\", ylabel=\"Growth rate\",)\n",
    "hline!(unique(gr_sy_reg[3][:, 1]), label=[\"Eq. 1\" nothing], line=(3, :green, :dash))\n",
    "plot!(unique(results_fit[2,2:end]), unique(gr_sy_reg[3][:, 2]), label=[\"Eq. 2\" nothing], line=(3, :red))\n",
    "plot!(unique(results_fit[2,2:end]), unique(gr_sy_reg[3][:, 3]), label=[\"Eq. 3\" nothing], line=(3, :blue, :dashdot))\n",
    "x = -10.0:0.1:10.0"
   ]
  },
  {
   "cell_type": "code",
   "execution_count": null,
   "id": "091d31e9",
   "metadata": {},
   "outputs": [],
   "source": [
    "plot(x,exp.(.-x.^2))\n",
    "plot!(x,exp.(.-(x .-5).^2))\n",
    "plot!(x,exp.((.-(x .-5).^2)./4))"
   ]
  }
 ],
 "metadata": {
  "jupytext": {
   "cell_metadata_filter": "-all",
   "main_language": "julia",
   "notebook_metadata_filter": "-all"
  }
 },
 "nbformat": 4,
 "nbformat_minor": 5
}
