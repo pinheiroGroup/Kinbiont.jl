{
 "cells": [
  {
   "cell_type": "code",
   "execution_count": null,
   "id": "26f87d95",
   "metadata": {},
   "outputs": [],
   "source": [
    "using Kinbiont\n",
    "using DifferentialEquations\n",
    "using CSV\n",
    "using Distributions\n",
    "using StatsBase\n",
    "using OptimizationBBO\n",
    "using Optimization\n",
    "using OptimizationOptimJL\n",
    "path_to_data = string(\"../data_examples/real_dataset_tests/dataset/Monod_AA_detection/exp_s7/channel_1.csv\")\n",
    "path_to_annotation = string(\"/Users/fabrizio.angaroni/Documents/JMAKi_utilities/real_dataset_tests/dataset/Monod_AA_detection/exp_s7/annotation.csv\")"
   ]
  },
  {
   "cell_type": "code",
   "execution_count": null,
   "id": "3a40fec6",
   "metadata": {},
   "outputs": [],
   "source": [
    "fit_log_lin = fit_one_file_Log_Lin(\n",
    "    \" \", #label of the experiment\n",
    "    path_to_data; # path to the folder to analyze\n",
    "    path_to_annotation=path_to_annotation,# path to the annotation of the wells\n",
    "    avg_replicate=true, # if true the average between replicates is fitted. If false all replicate are fitted indipendelitly\n",
    "  )"
   ]
  },
  {
   "cell_type": "code",
   "execution_count": null,
   "id": "301f0ab2",
   "metadata": {},
   "outputs": [],
   "source": [
    "# fitting ODE\n",
    "model = \"baranyi_richards\""
   ]
  },
  {
   "cell_type": "code",
   "execution_count": null,
   "id": "76c18600",
   "metadata": {},
   "outputs": [],
   "source": [
    "lb_param = [0.001,0.1,0.0,0.01]\n",
    "ub_param =[0.1,5.0 ,1000.0,5.01]\n",
    "param_guess =[0.01,1.0 ,500.0,1.01]"
   ]
  },
  {
   "cell_type": "code",
   "execution_count": null,
   "id": "e11b8a23",
   "metadata": {},
   "outputs": [],
   "source": [
    "fit_od = fit_file_ODE(\n",
    "    \"test\", #label of the experiment\n",
    "    path_to_data, # path to the folder to analyze\n",
    "    model, # string of the used model\n",
    "    param_guess;\n",
    "    path_to_annotation=path_to_annotation,# path to the annotation of the wells\n",
    "    integrator=Tsit5(), # selection of sciml integrator\n",
    "    lb = lb_param, \n",
    "    ub =ub_param,\n",
    "    maxiters =5\n",
    ")"
   ]
  },
  {
   "cell_type": "code",
   "execution_count": null,
   "id": "c6eb3c2c",
   "metadata": {},
   "outputs": [],
   "source": []
  },
  {
   "cell_type": "code",
   "execution_count": null,
   "id": "ab3effd9",
   "metadata": {},
   "outputs": [],
   "source": [
    "fit_od = fit_file_ODE(\n",
    "    \"test\", #label of the experiment\n",
    "    path_to_data, # path to the folder to analyze\n",
    "    model, # string of the used model\n",
    "    param_guess;\n",
    "    path_to_annotation=path_to_annotation,# path to the annotation of the wells\n",
    "    integrator=Tsit5(), # selection of sciml integrator\n",
    "    #lb = lb_param,\n",
    "   # ub =ub_param,\n",
    "  #  multistart = true,\n",
    "    n_restart = 10,\n",
    "    abstol = 0.0001,\n",
    "    maxiters =5\n",
    ")\n",
    "# fitting MOdel selection"
   ]
  },
  {
   "cell_type": "code",
   "execution_count": null,
   "id": "26e90041",
   "metadata": {
    "lines_to_next_cell": 2
   },
   "outputs": [],
   "source": []
  },
  {
   "cell_type": "code",
   "execution_count": null,
   "id": "df745512",
   "metadata": {},
   "outputs": [],
   "source": [
    "model_1 = \"baranyi_richards\""
   ]
  },
  {
   "cell_type": "code",
   "execution_count": null,
   "id": "32bd494b",
   "metadata": {
    "lines_to_next_cell": 2
   },
   "outputs": [],
   "source": [
    "lb_param_1 = [0.001,    0.1 , 0.0   , 0.01]\n",
    "ub_param_1 = [0.1  ,    5.0 , 1000.0, 5.01]\n",
    "param_guess_1 =[0.01,1.0 ,500.0,1.01]"
   ]
  },
  {
   "cell_type": "code",
   "execution_count": null,
   "id": "2c0ec661",
   "metadata": {},
   "outputs": [],
   "source": [
    "model_2 = \"aHPM\""
   ]
  },
  {
   "cell_type": "code",
   "execution_count": null,
   "id": "f809124b",
   "metadata": {},
   "outputs": [],
   "source": [
    "lb_param_2 = [0.001,0.0001,0.01,0.01]\n",
    "ub_param_2 =[0.1,0.1 ,2.0,5.01]\n",
    "param_guess_2 =[0.01,0.01 ,1.0,1.01]"
   ]
  },
  {
   "cell_type": "code",
   "execution_count": null,
   "id": "d4406f82",
   "metadata": {
    "lines_to_next_cell": 2
   },
   "outputs": [],
   "source": [
    "list_of_models = [model_1,  model_2]\n",
    "list_ub_param = [ub_param_1,ub_param_2]\n",
    "list_lb_param = [lb_param_1, lb_param_2]\n",
    "list_guess = [param_guess_1, param_guess_2]"
   ]
  },
  {
   "cell_type": "code",
   "execution_count": null,
   "id": "e278591d",
   "metadata": {
    "lines_to_next_cell": 2
   },
   "outputs": [],
   "source": [
    "@time ms_file = ODE_model_selection_file(\n",
    "    \"\", #label of the experiment\n",
    "    path_to_data, # path to the folder to analyze\n",
    "    list_of_models, # ode model to use \n",
    "    list_guess;\n",
    "    lb_param_array=list_lb_param, # lower bound param\n",
    "    ub_param_array=list_ub_param, # upper bound param\n",
    "    path_to_annotation=path_to_annotation,# path to the annotation of the wells\n",
    "    maxiters =5\n",
    ")"
   ]
  },
  {
   "cell_type": "code",
   "execution_count": null,
   "id": "f6e2e6c5",
   "metadata": {
    "lines_to_next_cell": 2
   },
   "outputs": [],
   "source": [
    "@time ms_file = ODE_model_selection_file(\n",
    "    \"\", #label of the experiment\n",
    "    path_to_data, # path to the folder to analyze\n",
    "    list_of_models, # ode model to use \n",
    "    list_guess;\n",
    "    path_to_annotation=path_to_annotation,# path to the annotation of the wells\n",
    "    maxiters =5\n",
    ")"
   ]
  },
  {
   "cell_type": "markdown",
   "id": "31458dc7",
   "metadata": {},
   "source": [
    "fitting segmented ODE"
   ]
  },
  {
   "cell_type": "code",
   "execution_count": null,
   "id": "f43c7d67",
   "metadata": {},
   "outputs": [],
   "source": [
    "@time ms_file =  segmentation_ODE_file(\n",
    "    \" \", #label of the experiment\n",
    "    path_to_data, # path to the folder to analyze\n",
    "    list_of_models, # ode model to use \n",
    "    list_guess, #  param\n",
    "    1;\n",
    "    path_to_annotation=path_to_annotation,# path to the annotation of the wells\n",
    "    detect_number_cpd=false,\n",
    "    fixed_cpd=true,\n",
    "    type_of_curve=\"deriv\",\n",
    "    win_size=7, # numebr of the point to generate intial condition\n",
    "     maxiters =5,\n",
    "    lb_param_array=list_lb_param, # lower bound param\n",
    "    ub_param_array=list_ub_param, # upper bound param\n",
    ")"
   ]
  },
  {
   "cell_type": "markdown",
   "id": "906fa560",
   "metadata": {},
   "source": [
    "fitting NL"
   ]
  },
  {
   "cell_type": "code",
   "execution_count": null,
   "id": "db534caf",
   "metadata": {},
   "outputs": [],
   "source": [
    "nl_model = [\"NL_Richards\"]\n",
    "p_guess = [[1.0,1.0,0.01,300.0]]\n",
    "lb_nl =[[0.01,0.01,0.000001,00.01]]\n",
    "ub_nl =p_guess.*50"
   ]
  },
  {
   "cell_type": "code",
   "execution_count": null,
   "id": "c2871cf6",
   "metadata": {},
   "outputs": [],
   "source": [
    "@time fit_nl = fit_NL_model_selection_file(\n",
    "    \"TEST\", #label of the experiment\n",
    "    path_to_data    , # path to the folder to analyze\n",
    "    nl_model, # ode model to use\n",
    "    p_guess;# initial guess param\n",
    "    lb_param_array =lb_nl, # lower bound param\n",
    "    ub_param_array = ub_nl, # upper bound param\n",
    "    path_to_annotation = path_to_annotation,# path to the annotation of the wells"
   ]
  },
  {
   "cell_type": "code",
   "execution_count": null,
   "id": "56b7d9c0",
   "metadata": {
    "lines_to_next_cell": 2
   },
   "outputs": [],
   "source": [
    ")"
   ]
  },
  {
   "cell_type": "code",
   "execution_count": null,
   "id": "f1445406",
   "metadata": {},
   "outputs": [],
   "source": [
    "@time fit_nl = fit_NL_model_selection_file(\n",
    "    \"TEST\", #label of the experiment\n",
    "    path_to_data    , # path to the folder to analyze\n",
    "    nl_model, # ode model to use\n",
    "    p_guess;# initial guess param\n",
    "    path_to_annotation = path_to_annotation,# path to the annotation of the wells"
   ]
  },
  {
   "cell_type": "code",
   "execution_count": null,
   "id": "a22821b7",
   "metadata": {
    "lines_to_next_cell": 2
   },
   "outputs": [],
   "source": [
    ")"
   ]
  },
  {
   "cell_type": "markdown",
   "id": "32f4536b",
   "metadata": {
    "lines_to_next_cell": 2
   },
   "source": [
    "testing model selection"
   ]
  },
  {
   "cell_type": "code",
   "execution_count": null,
   "id": "0f248654",
   "metadata": {},
   "outputs": [],
   "source": [
    "nl_model = [\"NL_Richards\",\"NL_Bertalanffy\"]\n",
    "p_guess = [[1.0,1.0,0.01,300.0],[0.08,1.0,0.01,1.0]]\n",
    "lb_nl =[[0.01,0.01,0.000001,00.01],[0.00,0.01,0.001,00.01]]\n",
    "ub_nl =p_guess.*50"
   ]
  },
  {
   "cell_type": "code",
   "execution_count": null,
   "id": "8dbc41b5",
   "metadata": {},
   "outputs": [],
   "source": [
    "@time fit_nl = fit_NL_model_selection_file(\n",
    "    \"TEST\", #label of the experiment\n",
    "    path_to_data    , # path to the folder to analyze\n",
    "    nl_model, # ode model to use\n",
    "    p_guess;# initial guess param\n",
    "    lb_param_array =lb_nl, # lower bound param\n",
    "    ub_param_array = ub_nl, # upper bound param\n",
    "    path_to_annotation = path_to_annotation,# path to the annotation of the wells"
   ]
  },
  {
   "cell_type": "code",
   "execution_count": null,
   "id": "cd59398a",
   "metadata": {
    "lines_to_next_cell": 2
   },
   "outputs": [],
   "source": [
    ")"
   ]
  },
  {
   "cell_type": "code",
   "execution_count": null,
   "id": "44c94e60",
   "metadata": {},
   "outputs": [],
   "source": [
    "# fitting Segmented BL\n",
    "ms_segmentation = fit_NL_segmentation_file(\n",
    "    \"test\", #label of the experiment\n",
    "    path_to_data, # path to the folder to analyze\n",
    "    nl_model, # ode model to use\n",
    "    p_guess,# initial guess param\n",
    "    1;\n",
    "    lb_param_array=lb_nl, # lower bound param\n",
    "    ub_param_array=ub_nl, # upper bound param\n",
    "    path_to_annotation = path_to_annotation,# path to the annotation of the wells\n",
    ")"
   ]
  }
 ],
 "metadata": {
  "jupytext": {
   "cell_metadata_filter": "-all",
   "main_language": "julia",
   "notebook_metadata_filter": "-all"
  },
  "kernelspec": {
   "display_name": "Julia 1.11.3",
   "language": "julia",
   "name": "julia-1.11"
  },
  "language_info": {
   "file_extension": ".jl",
   "mimetype": "application/julia",
   "name": "julia",
   "version": "1.11.3"
  }
 },
 "nbformat": 4,
 "nbformat_minor": 5
}
