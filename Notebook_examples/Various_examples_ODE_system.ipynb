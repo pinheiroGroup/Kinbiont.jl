{
 "cells": [
  {
   "cell_type": "code",
   "execution_count": null,
   "id": "68a08d94",
   "metadata": {},
   "outputs": [],
   "source": [
    "using Kinbiont\n",
    "using DifferentialEquations\n",
    "using OptimizationBBO\n",
    "using NaNMath\n",
    "using Plots\n",
    "using Distributions\n",
    "# examples from Genome-Scale Reconstruction of Microbial Dynamic Phenotype: Successes and Challenges\n",
    "# Extremely High Proteins Concentration: Macromolecular Crowding\n",
    "function enzyme_aggregation(du, u, param, t)\n",
    "    e, x, y, m = u\n",
    "    k1, k2, k3, k4, k_cat, n, e0 = param\n",
    "    \n",
    "    du[1] = k4 * x - k3 * m * e + k2 * y^n - k1 * e + k_cat * x  # Free active enzymes\n",
    "    du[2] = k3 * m * e - k4 * x - k_cat * x                      # Enzyme-substrate complex\n",
    "    du[3] = k1 * e - k2 * y^n                                    # Inactive aggregates\n",
    "    du[4] = -du[1]                                              # Substrate degradation rate\n",
    "end"
   ]
  },
  {
   "cell_type": "code",
   "execution_count": null,
   "id": "c2c557c4",
   "metadata": {
    "lines_to_next_cell": 2
   },
   "outputs": [],
   "source": [
    "u0 = [1.0, 0.1, 0.1, 1.0]  # Initial conditions [e, x, y, m]\n",
    "param = [0.1, 0.1, 0.05, 0.05, 0.02, 2, 1.0]  # [k1, k2, k3, k4, k_cat, n, e0]"
   ]
  },
  {
   "cell_type": "code",
   "execution_count": null,
   "id": "a8a2bc0d",
   "metadata": {},
   "outputs": [],
   "source": [
    "Simulation =  ODEs_system_sim(\n",
    "    enzyme_aggregation, #string of the model\n",
    "    u0, # starting condition\n",
    "    0.0, # start time of the sim\n",
    "    30.0, # final time of the sim\n",
    "    1.0, # delta t for poisson approx\n",
    "    param; # parameters of the ODE model\n",
    ")"
   ]
  },
  {
   "cell_type": "markdown",
   "id": "e6f9ff12",
   "metadata": {
    "lines_to_next_cell": 2
   },
   "source": [
    "Plot the data"
   ]
  },
  {
   "cell_type": "code",
   "execution_count": null,
   "id": "93039cca",
   "metadata": {},
   "outputs": [],
   "source": [
    "scatter(Simulation)"
   ]
  },
  {
   "cell_type": "code",
   "execution_count": null,
   "id": "cd730d23",
   "metadata": {},
   "outputs": [],
   "source": [
    "# Examples of structured model\n",
    "function structured_model(du, u, param, t)\n",
    "    s, x, m1, m2, m3, m4, p1, p2 = u\n",
    "    qs, Y, v1, v2, v3, v4, v5 = param\n",
    "    \n",
    "    du[1] = -qs * u[2] * u[1]                                 # Extracellular substrate\n",
    "    du[2] = Y * qs * u[2] * u[1]                                         # Cell mass\n",
    "    du[3] = qs * x - v1 * x                                    # Intracellular metabolite M1\n",
    "    du[4] = v1 * x - v2 * x - v4 * x                           # Intracellular metabolite M2\n",
    "    du[5] = v2 * x - v3 * x                                    # Intracellular metabolite M3\n",
    "    du[6] = v4 * x - v5 * x                                    # Intracellular metabolite M4\n",
    "    du[7] = v3 * x                                             # Secreted product P1\n",
    "    du[8] = v5 * x                                             # Secreted product P2\n",
    "end"
   ]
  },
  {
   "cell_type": "code",
   "execution_count": null,
   "id": "651bbac7",
   "metadata": {},
   "outputs": [],
   "source": [
    "u0_structured = [1.0, 0.5, 0.1, 0.1, 0.1, 0.1, 0.0, 0.0]  # Initial conditions for metabolism\n",
    "param_structured = [0.1, 0.5, 0.05, 0.05, 0.02, 0.02, 0.01]  # Parameters for metabolism"
   ]
  },
  {
   "cell_type": "code",
   "execution_count": null,
   "id": "4851af7a",
   "metadata": {},
   "outputs": [],
   "source": []
  },
  {
   "cell_type": "code",
   "execution_count": null,
   "id": "63b213e3",
   "metadata": {},
   "outputs": [],
   "source": [
    "Simulation =  ODEs_system_sim(\n",
    "    structured_model, #string of the model\n",
    "    u0_structured, # starting condition\n",
    "    0.0, # start time of the sim\n",
    "    50.0, # final time of the sim\n",
    "    1.0, # delta t for poisson approx\n",
    "    param_structured; # parameters of the ODE model\n",
    ")"
   ]
  },
  {
   "cell_type": "markdown",
   "id": "bbb585e8",
   "metadata": {
    "lines_to_next_cell": 2
   },
   "source": [
    "Plot the data"
   ]
  },
  {
   "cell_type": "code",
   "execution_count": null,
   "id": "f5fd7357",
   "metadata": {},
   "outputs": [],
   "source": [
    "scatter(Simulation)"
   ]
  },
  {
   "cell_type": "markdown",
   "id": "fdbc4cc5",
   "metadata": {},
   "source": [
    "############################ From Baldazzi et al. eLife 2023;12:e79815. DOI: https://doi.org/10.7554/eLife.79815 Resource allocation accounts for the  large variability of rate- yield phenotypes    across bacterial strains"
   ]
  },
  {
   "cell_type": "code",
   "execution_count": null,
   "id": "a08d8639",
   "metadata": {
    "lines_to_next_cell": 2
   },
   "outputs": [],
   "source": [
    "function ode_system_1(du, u, p, t)\n",
    "    # Unpack variables\n",
    "    C, U, Mu, R, Mc, Mer, Mef = u\n",
    "    Vmc, Vmer, ρmef, Vmef, ρru, Vr, Vmu, γ, χu, χr, χc, χer, χef = p\n",
    "\n",
    "    # Define the ODEs\n",
    "    du[1] = Vmc - Vmer - ρmef * Vmef - ρru * (Vr + Vmu) - γ * C\n",
    "    du[2] = Vmu - γ * U\n",
    "    du[3] = χu * Vr - γ * Mu\n",
    "    du[4] = χr * Vr - γ * R\n",
    "    du[5] = χc * Vr - γ * Mc\n",
    "    du[6] = χer * Vr - γ * Mer\n",
    "    du[7] = χef * Vr - γ * Mef\n",
    "end"
   ]
  },
  {
   "cell_type": "code",
   "execution_count": null,
   "id": "41ba9d87",
   "metadata": {},
   "outputs": [],
   "source": [
    "u0 = [1.0, 0.5, 0.1, 0.1, 0.1, 0.1, 0.0]  # Initial conditions for metabolism\n",
    "param = [0.1, 0.5, 0.05, 0.05, 0.02, 0.02, 0.01,0.1, 0.5, 0.05, 0.05, 0.02, 0.02, 0.0,0.1]  # Parameters for metabolism"
   ]
  },
  {
   "cell_type": "code",
   "execution_count": null,
   "id": "79c7e850",
   "metadata": {},
   "outputs": [],
   "source": []
  },
  {
   "cell_type": "code",
   "execution_count": null,
   "id": "729bdb7d",
   "metadata": {},
   "outputs": [],
   "source": [
    "Simulation =  ODEs_system_sim(\n",
    "    ode_system_1, #string of the model\n",
    "    u0, # starting condition\n",
    "    0.0, # start time of the sim\n",
    "    50.0, # final time of the sim\n",
    "    1.0, # delta t for poisson approx\n",
    "    param; # parameters of the ODE model\n",
    ")\n",
    "scatter(Simulation)"
   ]
  },
  {
   "cell_type": "code",
   "execution_count": null,
   "id": "3d1ede99",
   "metadata": {
    "lines_to_next_cell": 2
   },
   "outputs": [],
   "source": []
  },
  {
   "cell_type": "code",
   "execution_count": null,
   "id": "fce21bc7",
   "metadata": {},
   "outputs": [],
   "source": [
    "function ode_system2(du, u, p, t)\n",
    "    # Unpack variables\n",
    "    c, u, mu, r, mc, mer, mef, a_star, a = u\n",
    "    vmc, vmer, ρmef, vmef, ρru, vr, vmu, μ, γ, χu, χr, χc, χer, χef, nmer, nmef, nr, nmu, vd = p\n",
    "\n",
    "    # Define the ODEs\n",
    "    du[1] = vmc - vmer - ρmef * vmef - ρru * (vr + vmu) - (μ + γ) * c\n",
    "    du[2] = vmu - (μ + γ) * u\n",
    "    du[3] = χu * vr - (μ + γ) * mu\n",
    "    du[4] = χr * vr - (μ + γ) * r\n",
    "    du[5] = χc * vr - (μ + γ) * mc\n",
    "    du[6] = χer * vr - (μ + γ) * mer\n",
    "    du[7] = χef * vr - (μ + γ) * mef\n",
    "    du[8] = nmer * vmer + nmef * vmef - nr * vr - nmu * vmu - vd\n",
    "    du[9] = -nmer * vmer - nmef * vmef + nr * vr + nmu * vmu + vd\n",
    "end"
   ]
  },
  {
   "cell_type": "code",
   "execution_count": null,
   "id": "5e4d2362",
   "metadata": {},
   "outputs": [],
   "source": [
    "# Initial conditions\n",
    "u0 = [1.0, 0.5, 0.1, 0.1, 0.1, 0.1, 0.0, 0.0, 0.0]  # Initial conditions for metabolism and energy"
   ]
  },
  {
   "cell_type": "code",
   "execution_count": null,
   "id": "309c1de5",
   "metadata": {
    "lines_to_next_cell": 2
   },
   "outputs": [],
   "source": [
    "# Parameters\n",
    "param = [0.1, 0.5, 0.05, 0.05, 0.02, 0.02, 0.01, 0.1, 0.1, 0.5, 0.05, 0.05, 0.02, 0.02, 0.0, 0.1, 0.1, 0.1, 0.1, 0.1]"
   ]
  },
  {
   "cell_type": "code",
   "execution_count": null,
   "id": "b7540310",
   "metadata": {},
   "outputs": [],
   "source": [
    "Simulation =  ODEs_system_sim(\n",
    "    ode_system2, #string of the model\n",
    "    u0, # starting condition\n",
    "    0.0, # start time of the sim\n",
    "    50.0, # final time of the sim\n",
    "    1.0, # delta t for poisson approx\n",
    "    param; # parameters of the ODE model\n",
    ")\n",
    "scatter(Simulation)"
   ]
  },
  {
   "cell_type": "code",
   "execution_count": null,
   "id": "e9c5a4fb",
   "metadata": {},
   "outputs": [],
   "source": []
  },
  {
   "cell_type": "code",
   "execution_count": null,
   "id": "34422b98",
   "metadata": {},
   "outputs": [],
   "source": [
    "function vd(a_star, kd)\n",
    "    return kd * a_star\n",
    "end"
   ]
  },
  {
   "cell_type": "code",
   "execution_count": null,
   "id": "60075d22",
   "metadata": {},
   "outputs": [],
   "source": [
    "function vmc(mc)\n",
    "    return 49.6 # Placeholder, replace with actual function if needed\n",
    "end"
   ]
  },
  {
   "cell_type": "code",
   "execution_count": null,
   "id": "2ef67623",
   "metadata": {},
   "outputs": [],
   "source": [
    "function vmer(mer, c, a)\n",
    "    return 4.6 # Placeholder, replace with actual function if needed\n",
    "end"
   ]
  },
  {
   "cell_type": "code",
   "execution_count": null,
   "id": "e6db3a38",
   "metadata": {},
   "outputs": [],
   "source": [
    "function vmef(mef, c, a)\n",
    "    return 9.8 # Placeholder, replace with actual function if needed\n",
    "end"
   ]
  },
  {
   "cell_type": "code",
   "execution_count": null,
   "id": "fc270aac",
   "metadata": {},
   "outputs": [],
   "source": [
    "function vr(r, c, a_star)\n",
    "    return 19.2 # Placeholder, replace with actual function if needed\n",
    "end"
   ]
  },
  {
   "cell_type": "code",
   "execution_count": null,
   "id": "ab401b9f",
   "metadata": {},
   "outputs": [],
   "source": [
    "function vmu(mu, c, a_star)\n",
    "    return 6.5 # Placeholder, replace with actual function if needed\n",
    "end"
   ]
  },
  {
   "cell_type": "code",
   "execution_count": null,
   "id": "527844e4",
   "metadata": {},
   "outputs": [],
   "source": [
    "function ode_system4(du, u, p, t)\n",
    "    # Unpack variables\n",
    "    c, u, mu, r, mc, mer, mef, a_star, a = u\n",
    "    kd, ρmef, ρru, γ, χu, χr, χc, χer, χef, nmer, nmef, nr, nmu, β = p\n",
    "\n",
    "    # Calculate μ\n",
    "    μ = β * (vmc(mc) - vmer(mer, c, a) - ρmef * vmef(mef, c, a) - (ρru - 1) * (vr(r, c, a_star) + vmu(mu, c, a_star))) - γ\n",
    "\n",
    "    # Define the ODEs\n",
    "    du[1] = vmc(mc) - vmer(mer, c, a) - ρmef * vmef(mef, c, a) - ρru * (vr(r, c, a_star) + vmu(mu, c, a_star)) - (μ + γ) * c\n",
    "    du[2] = vmu(mu, c, a_star) - (μ + γ) * u\n",
    "    du[3] = χu * vr(r, c, a_star) - (μ + γ) * mu\n",
    "    du[4] = χr * vr(r, c, a_star) - (μ + γ) * r\n",
    "    du[5] = χc * vr(r, c, a_star) - (μ + γ) * mc\n",
    "    du[6] = χer * vr(r, c, a_star) - (μ + γ) * mer\n",
    "    du[7] = χef * vr(r, c, a_star) - (μ + γ) * mef\n",
    "    du[8] = nmer * vmer(mer, c, a) + nmef * vmef(mef, c, a) - nr * vr(r, c, a_star) - nmu * vmu(mu, c, a_star) - vd(a_star, kd)\n",
    "    du[9] = -nmer * vmer(mer, c, a) - nmef * vmef(mef, c, a) + nr * vr(r, c, a_star) + nmu * vmu(mu, c, a_star) + vd(a_star, kd)\n",
    "end"
   ]
  },
  {
   "cell_type": "code",
   "execution_count": null,
   "id": "acbebbc7",
   "metadata": {},
   "outputs": [],
   "source": [
    "# Initial conditions\n",
    "u0 = [0.35, 10.2, 11.1, 13.2, 2.7, 1.9, 1.1, 0.009, 0.011]  # Initial conditions for metabolism and energy"
   ]
  },
  {
   "cell_type": "code",
   "execution_count": null,
   "id": "df650538",
   "metadata": {},
   "outputs": [],
   "source": [
    "# Parameters\n",
    "param = [0.1, 0.05, 0.02, 0.027, 0.5, 0.05, 0.05, 0.02, 0.02, 0.1, 0.1, 0.1, 0.1, 40.65]"
   ]
  },
  {
   "cell_type": "code",
   "execution_count": null,
   "id": "988f2f20",
   "metadata": {
    "lines_to_next_cell": 2
   },
   "outputs": [],
   "source": [
    "Simulation =  ODEs_system_sim(\n",
    "    ode_system4, #string of the model\n",
    "    u0, # starting condition\n",
    "    0.0, # start time of the sim\n",
    "    50.0, # final time of the sim\n",
    "    1.0, # delta t for poisson approx\n",
    "    param; # parameters of the ODE model\n",
    ")\n",
    "scatter(Simulation)"
   ]
  },
  {
   "cell_type": "markdown",
   "id": "5e691db9",
   "metadata": {},
   "source": [
    "## from  A bacterial size law revealed by a coarse grained model of cell physiology"
   ]
  },
  {
   "cell_type": "code",
   "execution_count": null,
   "id": "06b3afd7",
   "metadata": {},
   "outputs": [],
   "source": []
  },
  {
   "cell_type": "code",
   "execution_count": null,
   "id": "f277fd29",
   "metadata": {},
   "outputs": [],
   "source": [
    "function ode_system5(du, u, p, t)\n",
    "    # Unpack variables\n",
    "    A, E, Ra, Q, X, U, Ri = u\n",
    "    kE, fE, fR, kcm_on, kcm_off, fQ, fX, fU, s, asat = p\n",
    "\n",
    "    # Define the ODEs\n",
    "    du[1] = kE - s*Ra * A / (A + asat)\n",
    "    du[2] = fE * s*Ra * A / (A + asat)\n",
    "    du[3] = fR * s*Ra * A / (A + asat) - kcm_on * Ra + kcm_off * Ri\n",
    "    du[4] = fQ * s*Ra * A / (A + asat)\n",
    "    du[5] = fX * s*Ra * A / (A + asat)\n",
    "    du[6] = fU * s*Ra * A / (A + asat)\n",
    "    du[7] = kcm_on * Ra - kcm_off * Ri\n",
    "end"
   ]
  },
  {
   "cell_type": "code",
   "execution_count": null,
   "id": "202e4e5c",
   "metadata": {},
   "outputs": [],
   "source": [
    "# Initial conditions\n",
    "u0 = [1.0, 0.5, 0.1, 0.1, 0.1, 0.1, 0.0]  # Initial conditions for the variables"
   ]
  },
  {
   "cell_type": "code",
   "execution_count": null,
   "id": "7fefddab",
   "metadata": {},
   "outputs": [],
   "source": [
    "# Parameters\n",
    "param = [0.1, 0.5, 0.05, 0.05, 0.02, 0.02, 0.01, 0.1, 0.5, 0.05]"
   ]
  },
  {
   "cell_type": "code",
   "execution_count": null,
   "id": "6b092751",
   "metadata": {},
   "outputs": [],
   "source": []
  },
  {
   "cell_type": "code",
   "execution_count": null,
   "id": "52ec14f3",
   "metadata": {},
   "outputs": [],
   "source": [
    "Simulation =  ODEs_system_sim(\n",
    "    ode_system5, #string of the model\n",
    "    u0, # starting condition\n",
    "    0.0, # start time of the sim\n",
    "    50.0, # final time of the sim\n",
    "    1.0, # delta t for poisson approx\n",
    "    param; # parameters of the ODE model\n",
    ")\n",
    "scatter(Simulation)"
   ]
  },
  {
   "cell_type": "markdown",
   "id": "42fb473e",
   "metadata": {},
   "source": [
    "#########################################################"
   ]
  },
  {
   "cell_type": "code",
   "execution_count": null,
   "id": "18ef3864",
   "metadata": {},
   "outputs": [],
   "source": []
  },
  {
   "cell_type": "code",
   "execution_count": null,
   "id": "e6d1d3cd",
   "metadata": {},
   "outputs": [],
   "source": [
    "function Central_dogma(du, u, param, t)\n",
    "    # Unpack variables\n",
    "    DNA, RNA, P, nutrients = u\n",
    "    yield, ktr, ktl, kdeg_RNA, kdeg_P  = param\n",
    "\n",
    "\n",
    "    # Define the ODEs\n",
    "    # du[1] ODE DNA replication using nutrients\n",
    "    du[1] = + yield * DNA * nutrients\n",
    "    # du[2] ODE rna dynamics\n",
    "    du[2] = ktr * DNA - kdeg_RNA * RNA\n",
    "    # du[3] protein translation\n",
    "    du[3] = ktl * RNA - kdeg_P * P\n",
    "    # nutrient consumption\n",
    "    du[4] = -yield * DNA * nutrients"
   ]
  },
  {
   "cell_type": "code",
   "execution_count": null,
   "id": "093e88ce",
   "metadata": {},
   "outputs": [],
   "source": [
    "end"
   ]
  },
  {
   "cell_type": "code",
   "execution_count": null,
   "id": "d43b63ed",
   "metadata": {},
   "outputs": [],
   "source": [
    "u0 = [1.0, 0.0, 0.0,  1.1]  # Initial conditions for the variables"
   ]
  },
  {
   "cell_type": "code",
   "execution_count": null,
   "id": "496026aa",
   "metadata": {},
   "outputs": [],
   "source": [
    "# Parameters\n",
    "param = [0.1, 0.05, 0.05, 0.05, 0.002, 0.002]"
   ]
  },
  {
   "cell_type": "code",
   "execution_count": null,
   "id": "17c0bbac",
   "metadata": {},
   "outputs": [],
   "source": []
  },
  {
   "cell_type": "code",
   "execution_count": null,
   "id": "145ee093",
   "metadata": {},
   "outputs": [],
   "source": [
    "Simulation =  ODEs_system_sim(\n",
    "    Central_dogma, #string of the model\n",
    "    u0, # starting condition\n",
    "    0.0, # start time of the sim\n",
    "    50.0, # final time of the sim\n",
    "    1.0, # delta t for poisson approx\n",
    "    param; # parameters of the ODE model\n",
    ")\n",
    "scatter(Simulation)"
   ]
  },
  {
   "cell_type": "markdown",
   "id": "1c064a46",
   "metadata": {},
   "source": [
    "concentration version "
   ]
  },
  {
   "cell_type": "code",
   "execution_count": null,
   "id": "8b7761a6",
   "metadata": {},
   "outputs": [],
   "source": []
  },
  {
   "cell_type": "markdown",
   "id": "033f63c7",
   "metadata": {},
   "source": [
    "#########################################################"
   ]
  },
  {
   "cell_type": "code",
   "execution_count": null,
   "id": "99e75d56",
   "metadata": {},
   "outputs": [],
   "source": []
  },
  {
   "cell_type": "code",
   "execution_count": null,
   "id": "39936548",
   "metadata": {},
   "outputs": [],
   "source": [
    "function Central_dogma_with_ribo(du, u, param, t)\n",
    "    # Unpack variables\n",
    "    DNA, RNA, P, R, nutrients = u\n",
    "    yield, ktr, ktl, kdeg_RNA, kdeg_P , R_size = param\n",
    "\n",
    "\n",
    "    # Define the ODEs\n",
    "    # du[1] ODE DNA replication using nutrients\n",
    "    du[1] = + yield * DNA * nutrients\n",
    "    # du[2] ODE rna dynamics\n",
    "    du[2] = ktr * DNA - kdeg_RNA * RNA\n",
    "    # du[3] protein translation\n",
    "    du[3] = (1-R_size)  * ktl * R* RNA - (1-R_size)  * kdeg_P * P\n",
    "    # du[4] ribosome dynamics   \n",
    "    du[4] = R_size * ktl * R * RNA - R * kdeg_P\n",
    "    # nutrient consumption\n",
    "    du[5] = -yield * DNA * nutrients"
   ]
  },
  {
   "cell_type": "code",
   "execution_count": null,
   "id": "9b58f3bf",
   "metadata": {},
   "outputs": [],
   "source": [
    "end"
   ]
  },
  {
   "cell_type": "code",
   "execution_count": null,
   "id": "aaec6ce8",
   "metadata": {},
   "outputs": [],
   "source": []
  },
  {
   "cell_type": "code",
   "execution_count": null,
   "id": "d41c8784",
   "metadata": {},
   "outputs": [],
   "source": [
    "u0 = [0.2, 0.0, 0.0,  0.1,1.1]  # Initial conditions for the variables"
   ]
  },
  {
   "cell_type": "code",
   "execution_count": null,
   "id": "fe411dcf",
   "metadata": {},
   "outputs": [],
   "source": [
    "# Parameters\n",
    "param = [0.1, 0.05, 0.05, 0.002, 0.002, 0.6]"
   ]
  },
  {
   "cell_type": "code",
   "execution_count": null,
   "id": "859edd30",
   "metadata": {},
   "outputs": [],
   "source": []
  },
  {
   "cell_type": "code",
   "execution_count": null,
   "id": "b689dfae",
   "metadata": {},
   "outputs": [],
   "source": [
    "Simulation =  ODEs_system_sim(\n",
    "    Central_dogma_with_ribo, #string of the model\n",
    "    u0, # starting condition\n",
    "    0.0, # start time of the sim\n",
    "    60.0, # final time of the sim\n",
    "    1.0, # delta t for poisson approx\n",
    "    param; # parameters of the ODE model\n",
    ")\n",
    "scatter(Simulation)"
   ]
  }
 ],
 "metadata": {
  "jupytext": {
   "cell_metadata_filter": "-all",
   "main_language": "julia",
   "notebook_metadata_filter": "-all"
  }
 },
 "nbformat": 4,
 "nbformat_minor": 5
}
