{
 "cells": [
  {
   "cell_type": "code",
   "execution_count": null,
   "id": "4c2427f5",
   "metadata": {},
   "outputs": [],
   "source": [
    "using Kinbiont\n",
    "using DifferentialEquations\n",
    "using CSV\n",
    "using Distributions\n",
    "using Plots\n",
    "using StatsBase\n",
    "using OptimizationBBO\n",
    "using Optimization\n",
    "using OptimizationOptimJL"
   ]
  },
  {
   "cell_type": "code",
   "execution_count": null,
   "id": "2774a3f7",
   "metadata": {},
   "outputs": [],
   "source": [
    "# Simulating data with an ODE\n",
    "model = \"triple_piecewise_adjusted_logistic\"\n",
    "n_start = [0.1]\n",
    "tstart = 0.0\n",
    "tmax = 500.0\n",
    "delta_t = 15.0"
   ]
  },
  {
   "cell_type": "code",
   "execution_count": null,
   "id": "535c19e1",
   "metadata": {},
   "outputs": [],
   "source": [
    "param_of_ode = [0.06, 1.0, 200, 0.5, 0.001, 450, -0.0002]"
   ]
  },
  {
   "cell_type": "code",
   "execution_count": null,
   "id": "13f2efcc",
   "metadata": {},
   "outputs": [],
   "source": [
    "# Calling the simulation function\n",
    "sim = ODE_sim(model, n_start, tstart, tmax, delta_t, param_of_ode)"
   ]
  },
  {
   "cell_type": "code",
   "execution_count": null,
   "id": "a3c8e32b",
   "metadata": {
    "lines_to_next_cell": 2
   },
   "outputs": [],
   "source": [
    "# Plotting scatterplot of data without noise\n",
    "Plots.scatter(sim, xlabel=\"Time\", ylabel=\"Arb. Units\", label=[\"Data \" nothing], color=:blue, size=(300, 300))"
   ]
  },
  {
   "cell_type": "code",
   "execution_count": null,
   "id": "77ab15c0",
   "metadata": {
    "lines_to_next_cell": 2
   },
   "outputs": [],
   "source": [
    "#adding uniform random noise\n",
    "noise_unifom = rand(Uniform(-0.05,0.05),length(sim.t))"
   ]
  },
  {
   "cell_type": "code",
   "execution_count": null,
   "id": "d7ecb246",
   "metadata": {},
   "outputs": [],
   "source": [
    "data_t = reduce(hcat,sim.t)\n",
    "data_o = reduce(hcat,sim.u)\n",
    "data_OD = vcat(data_t,data_o)\n",
    "data_OD[2,:] = data_OD[2,:] .+ noise_unifom\n",
    "# ploting scatterplot of data with noise"
   ]
  },
  {
   "cell_type": "code",
   "execution_count": null,
   "id": "68615c07",
   "metadata": {
    "lines_to_next_cell": 2
   },
   "outputs": [],
   "source": [
    "Plots.scatter(data_OD[1,:],data_OD[2,:], xlabel=\"Time\", ylabel=\"Arb. Units\", label=[\"Data \" nothing],color=:red,markersize =2 ,size = (300,300))"
   ]
  },
  {
   "cell_type": "code",
   "execution_count": null,
   "id": "3b06a786",
   "metadata": {
    "lines_to_next_cell": 2
   },
   "outputs": [],
   "source": [
    "res_log_lin = fitting_one_well_Log_Lin(\n",
    "    data_OD, # dataset first row times second row OD\n",
    "   \"test\", # name of the well\n",
    "    \"test log-lin fitting\"; #label of the experiment\n",
    "    type_of_smoothing=\"rolling_avg\", # type of smoothing\n",
    "    pt_avg=7, # number of the point for rolling avg not used in the other cases\n",
    "    pt_smoothing_derivative=7, # number of poits to smooth the derivative\n",
    "    pt_min_size_of_win=7, # minimum size of the exp windows in number of smooted points\n",
    ")"
   ]
  },
  {
   "cell_type": "markdown",
   "id": "36b02c8d",
   "metadata": {
    "lines_to_next_cell": 2
   },
   "source": [
    "Fitting with ODE"
   ]
  },
  {
   "cell_type": "code",
   "execution_count": null,
   "id": "0492c909",
   "metadata": {},
   "outputs": [],
   "source": [
    "model =\"aHPM\"\n",
    "# Upper bounds of the parameters of the ODE"
   ]
  },
  {
   "cell_type": "code",
   "execution_count": null,
   "id": "3df18f54",
   "metadata": {},
   "outputs": [],
   "source": [
    "# Lower bounds of the parameters of the ODE\n",
    "P_GUESS = [0.01, 0.001, 1.00, 1]\n",
    "ub_ahpm = P_GUESS.*4\n",
    "lb_ahpm = P_GUESS./4\n",
    "# Performing ODE fitting WITHOUT RESTART \n",
    "@time results_ODE_fit = fitting_one_well_ODE_constrained(\n",
    "    data_OD, \n",
    "    \"test\",\n",
    "    \"test_ODE\",\n",
    "    model,\n",
    "    P_GUESS;\n",
    ")\n",
    "Plots.scatter(data_OD[1,:],data_OD[2,:], xlabel=\"Time\", ylabel=\"Arb. Units\", label=[\"Data \" nothing],color=:red,markersize =2 ,size = (300,300))\n",
    "Plots.plot!(results_ODE_fit[4],results_ODE_fit[3], xlabel=\"Time\", ylabel=\"Arb. Units\", label=[\"fit \" nothing],color=:red,markersize =2 ,size = (300,300))"
   ]
  },
  {
   "cell_type": "markdown",
   "id": "d79eae84",
   "metadata": {},
   "source": [
    "Performing ODE fitting WITH BOUNDS AND RESTART "
   ]
  },
  {
   "cell_type": "code",
   "execution_count": null,
   "id": "beb09554",
   "metadata": {},
   "outputs": [],
   "source": [
    "@time results_ODE_fit = fitting_one_well_ODE_constrained(\n",
    "    data_OD, \n",
    "    \"test\",\n",
    "    \"test_ODE\",\n",
    "    model,\n",
    "    P_GUESS;\n",
    "    multistart = true,\n",
    "   lb = lb_ahpm,\n",
    "   ub = ub_ahpm"
   ]
  },
  {
   "cell_type": "code",
   "execution_count": null,
   "id": "1ba10de9",
   "metadata": {},
   "outputs": [],
   "source": [
    ")"
   ]
  },
  {
   "cell_type": "code",
   "execution_count": null,
   "id": "b6231dd6",
   "metadata": {},
   "outputs": [],
   "source": [
    "Plots.scatter(data_OD[1,:],data_OD[2,:], xlabel=\"Time\", ylabel=\"Arb. Units\", label=[\"Data \" nothing],color=:red,markersize =2 ,size = (300,300))\n",
    "Plots.plot!(results_ODE_fit[4],results_ODE_fit[3], xlabel=\"Time\", ylabel=\"Arb. Units\", label=[\"fit \" nothing],color=:red,markersize =2 ,size = (300,300))"
   ]
  },
  {
   "cell_type": "code",
   "execution_count": null,
   "id": "61338f66",
   "metadata": {},
   "outputs": [],
   "source": []
  },
  {
   "cell_type": "markdown",
   "id": "a75f10b2",
   "metadata": {},
   "source": [
    "Performing ODE fitting WITH BOUNDS "
   ]
  },
  {
   "cell_type": "code",
   "execution_count": null,
   "id": "7bdcb1b6",
   "metadata": {},
   "outputs": [],
   "source": [
    "@time results_ODE_fit = fitting_one_well_ODE_constrained(\n",
    "    data_OD, \n",
    "    \"test\",\n",
    "    \"test_ODE\",\n",
    "    model,\n",
    "    P_GUESS;\n",
    "    optimizer =BBO_adaptive_de_rand_1_bin_radiuslimited(),\n",
    "    lb = lb_ahpm,\n",
    "   ub = ub_ahpm"
   ]
  },
  {
   "cell_type": "code",
   "execution_count": null,
   "id": "521e2467",
   "metadata": {},
   "outputs": [],
   "source": [
    ")"
   ]
  },
  {
   "cell_type": "code",
   "execution_count": null,
   "id": "5fbe297f",
   "metadata": {},
   "outputs": [],
   "source": [
    "Plots.scatter(data_OD[1,:],data_OD[2,:], xlabel=\"Time\", ylabel=\"Arb. Units\", label=[\"Data \" nothing],color=:red,markersize =2 ,size = (300,300))\n",
    "Plots.plot!(results_ODE_fit[4],results_ODE_fit[3], xlabel=\"Time\", ylabel=\"Arb. Units\", label=[\"fit \" nothing],color=:red,markersize =2 ,size = (300,300))"
   ]
  },
  {
   "cell_type": "code",
   "execution_count": null,
   "id": "c7784f00",
   "metadata": {},
   "outputs": [],
   "source": []
  },
  {
   "cell_type": "code",
   "execution_count": null,
   "id": "945da24e",
   "metadata": {},
   "outputs": [],
   "source": [
    "# performing fitting \n",
    "# Custom ODE function\n",
    "function ODE_custom(du, u, param, t)\n",
    "    du[1] = u[1] * (1 - u[1]) * param[2] + param[1] * u[1]\n",
    "end\n",
    "custom_ub = [1.2, 1.1]\n",
    "custom_lb = [0.0001, 0.00000001]"
   ]
  },
  {
   "cell_type": "code",
   "execution_count": null,
   "id": "3593090b",
   "metadata": {},
   "outputs": [],
   "source": [
    "param_guess = [0.01,2.0]"
   ]
  },
  {
   "cell_type": "code",
   "execution_count": null,
   "id": "a49580c0",
   "metadata": {},
   "outputs": [],
   "source": [
    "# Performing custom ODE fitting without restart\n",
    "@time results_ODE_fit = fitting_one_well_custom_ODE(\n",
    "    data_OD, # dataset first row times second row OD\n",
    "   \"test\", # name of the well\n",
    "    \"test custom ode\", #label of the experiment\n",
    "   ODE_custom, # ode model to use\n",
    "   param_guess,\n",
    "    1; # number ode in the system\n",
    "  )\n",
    "\n",
    "  Plots.scatter(data_OD[1,:],data_OD[2,:], xlabel=\"Time\", ylabel=\"Arb. Units\", label=[\"Data \" nothing],color=:red,markersize =2 ,size = (300,300))\n",
    "  Plots.plot!(results_ODE_fit[4],results_ODE_fit[3], xlabel=\"Time\", ylabel=\"Arb. Units\", label=[\"fit \" nothing],color=:red,markersize =2 ,size = (300,300))"
   ]
  },
  {
   "cell_type": "markdown",
   "id": "19a6a327",
   "metadata": {},
   "source": [
    "Performing custom ODE fitting with restart"
   ]
  },
  {
   "cell_type": "code",
   "execution_count": null,
   "id": "b4cbccbe",
   "metadata": {},
   "outputs": [],
   "source": [
    "@time results_ODE_fit = fitting_one_well_custom_ODE(\n",
    "    data_OD, # dataset first row times second row OD\n",
    "   \"test\", # name of the well\n",
    "    \"test custom ode\", #label of the experiment\n",
    "   ODE_custom, # ode model to use\n",
    "   param_guess,\n",
    "    1; # number ode in the system\n",
    "    multistart = true,\n",
    "   lb = custom_lb,\n",
    "   ub = custom_ub    )\n",
    "\n",
    "   Plots.scatter(data_OD[1,:],data_OD[2,:], xlabel=\"Time\", ylabel=\"Arb. Units\", label=[\"Data \" nothing],color=:red,markersize =2 ,size = (300,300))\n",
    "   Plots.plot!(results_ODE_fit[4],results_ODE_fit[3], xlabel=\"Time\", ylabel=\"Arb. Units\", label=[\"fit \" nothing],color=:red,markersize =2 ,size = (300,300))"
   ]
  },
  {
   "cell_type": "code",
   "execution_count": null,
   "id": "626ec217",
   "metadata": {},
   "outputs": [],
   "source": [
    "# Number of steps for Morris sensitivity analysis\n",
    "n_step_sensitivity = 2\n",
    "P_GUESS = [0.01, 0.001, 1.00, 1]\n",
    "ub_ahpm = P_GUESS.*5\n",
    "lb_ahpm = P_GUESS./5\n",
    "# Performing Morris sensitivity analysis\n",
    "@time sensitivity_test = one_well_morris_sensitivity(\n",
    "    data_OD, \n",
    "    \"test\",\n",
    "     \"test_sensitivity\",\n",
    "      \"aHPM\", \n",
    "      lb_ahpm,\n",
    "       ub_ahpm,\n",
    "    N_step_morris=n_step_sensitivity ;\n",
    ")"
   ]
  },
  {
   "cell_type": "code",
   "execution_count": null,
   "id": "1dcd3e6b",
   "metadata": {},
   "outputs": [],
   "source": [
    "plot(sensitivity_test[2][3,2:end])\n",
    "plot(sensitivity_test[2][4,2:end])\n",
    "plot(sensitivity_test[2][5,2:end])\n",
    "plot(sensitivity_test[2][6,2:end])\n",
    "plot(sensitivity_test[2][7,2:end])\n",
    "plot(sensitivity_test[2][8,2:end])\n",
    "plot(sensitivity_test[2][9,2:end])"
   ]
  },
  {
   "cell_type": "code",
   "execution_count": null,
   "id": "07b8c111",
   "metadata": {},
   "outputs": [],
   "source": [
    "@time sensitivity_test = one_well_morris_sensitivity(\n",
    "    data_OD, \n",
    "    \"test\",\n",
    "     \"test_sensitivity\",\n",
    "      \"aHPM\", \n",
    "      lb_ahpm,\n",
    "       ub_ahpm,\n",
    "    N_step_morris=n_step_sensitivity ;\n",
    "    multistart=true\n",
    ")"
   ]
  },
  {
   "cell_type": "code",
   "execution_count": null,
   "id": "6ab43191",
   "metadata": {},
   "outputs": [],
   "source": [
    "plot(sensitivity_test[2][3,2:end])\n",
    "plot(sensitivity_test[2][4,2:end])\n",
    "plot(sensitivity_test[2][5,2:end])\n",
    "plot(sensitivity_test[2][6,2:end])\n",
    "plot(sensitivity_test[2][7,2:end])\n",
    "plot(sensitivity_test[2][8,2:end])\n",
    "plot(sensitivity_test[2][9,2:end])\n",
    "# Models candidates and their parameter bounds\n",
    "list_of_models = [\"aHPM\",   \"baranyi_roberts\"]\n",
    "ub_1 =[ 0.1 , 0.1 , 0.1 , 5.001    ]\n",
    "lb_1 =[ 0.0001 , 0.001,0.0  , 0.001 ]\n",
    "p1_guess = lb_1 .+ (ub_1.-lb_1)./2"
   ]
  },
  {
   "cell_type": "code",
   "execution_count": null,
   "id": "c1890785",
   "metadata": {
    "lines_to_next_cell": 2
   },
   "outputs": [],
   "source": []
  },
  {
   "cell_type": "code",
   "execution_count": null,
   "id": "acc2f3d2",
   "metadata": {},
   "outputs": [],
   "source": [
    "ub_4 =[ 1.2 , 5.1 , 500.0  ,5.0,5.0  ]\n",
    "lb_4 =[ 0.0001 , 0.1, 0.00 ,0.2,0.2 ]\n",
    "p4_guess = lb_4 .+ (ub_4.-lb_4)./2"
   ]
  },
  {
   "cell_type": "code",
   "execution_count": null,
   "id": "355acf0a",
   "metadata": {},
   "outputs": [],
   "source": [
    "list_ub = [ub_1, ub_4]\n",
    "list_lb =[lb_1,  lb_4]\n",
    "list_guess = [p1_guess,  p4_guess]"
   ]
  },
  {
   "cell_type": "code",
   "execution_count": null,
   "id": "a1cb6efb",
   "metadata": {},
   "outputs": [],
   "source": [
    "# Performing model selection without box\n",
    "results_ms = ODE_Model_selection(\n",
    "    data_OD,\n",
    "    \"test\", \n",
    "    \"test_model_selection\",\n",
    "    list_of_models,\n",
    "    list_guess;\n",
    ")"
   ]
  },
  {
   "cell_type": "code",
   "execution_count": null,
   "id": "ed4de4c7",
   "metadata": {},
   "outputs": [],
   "source": [
    "Plots.scatter(data_OD[1,:],data_OD[2,:], xlabel=\"Time\", ylabel=\"Arb. Units\", label=[\"Data \" nothing],color=:red,markersize =2 ,size = (300,300))\n",
    "Plots.plot!(results_ms[4],results_ms[3], xlabel=\"Time\", ylabel=\"Arb. Units\", label=[\"fit \" nothing],color=:red,markersize =2 ,size = (300,300))"
   ]
  },
  {
   "cell_type": "code",
   "execution_count": null,
   "id": "c35b44a3",
   "metadata": {},
   "outputs": [],
   "source": [
    "# Performing model selection with box and multistart\n",
    "results_ms = ODE_Model_selection(\n",
    "    data_OD,\n",
    "    \"test\", \n",
    "    \"test_model_selection\",\n",
    "    list_of_models,\n",
    "    list_guess;\n",
    "    multistart = true,\n",
    "    lb_param_array = list_lb,\n",
    "    ub_param_array = list_ub  \n",
    ")"
   ]
  },
  {
   "cell_type": "code",
   "execution_count": null,
   "id": "802de8a1",
   "metadata": {},
   "outputs": [],
   "source": [
    "Plots.scatter(data_OD[1,:],data_OD[2,:], xlabel=\"Time\", ylabel=\"Arb. Units\", label=[\"Data \" nothing],color=:red,markersize =2 ,size = (300,300))\n",
    "Plots.plot!(results_ms[4],results_ms[3], xlabel=\"Time\", ylabel=\"Arb. Units\", label=[\"fit \" nothing],color=:red,markersize =2 ,size = (300,300))"
   ]
  },
  {
   "cell_type": "markdown",
   "id": "9ff4a649",
   "metadata": {},
   "source": [
    "testing NL fitting"
   ]
  },
  {
   "cell_type": "code",
   "execution_count": null,
   "id": "9628dc57",
   "metadata": {},
   "outputs": [],
   "source": [
    "nl_model = [\"NL_Richards\"]\n",
    "p_guess = [[1.0,1.0,0.01,300.0]]\n",
    "lb_nl =[[0.01,0.01,0.000001,00.01]]\n",
    "ub_nl =p_guess.*3"
   ]
  },
  {
   "cell_type": "code",
   "execution_count": null,
   "id": "7bc3ba72",
   "metadata": {
    "lines_to_next_cell": 2
   },
   "outputs": [],
   "source": []
  },
  {
   "cell_type": "code",
   "execution_count": null,
   "id": "9bf3564d",
   "metadata": {},
   "outputs": [],
   "source": [
    "# single fit\n",
    "@time nl_fit = NL_model_selection(data_OD, # dataset first row times second row OD\n",
    "\"test\", \n",
    "\"test_model_selection\",\n",
    "nl_model, #  model to use\n",
    "p_guess;\n",
    ")"
   ]
  },
  {
   "cell_type": "code",
   "execution_count": null,
   "id": "f93dbb0a",
   "metadata": {},
   "outputs": [],
   "source": [
    "Plots.scatter(data_OD[1,:],data_OD[2,:], xlabel=\"Time\", ylabel=\"Arb. Units\", label=[\"Data \" nothing],color=:red,markersize =2 ,size = (300,300))\n",
    "Plots.plot!(nl_fit[4],nl_fit[3], xlabel=\"Time\", ylabel=\"Arb. Units\", label=[\"fit \" nothing],color=:red,markersize =2 ,size = (300,300))"
   ]
  },
  {
   "cell_type": "code",
   "execution_count": null,
   "id": "29b90c1d",
   "metadata": {},
   "outputs": [],
   "source": [
    "# single fit with box\n",
    "@time nl_fit =  NL_model_selection(data_OD, # dataset first row times second row OD\n",
    "\"test\", \n",
    "\"test_model_selection\",\n",
    "nl_model, #  model to use\n",
    "p_guess;\n",
    "optimizer =BBO_adaptive_de_rand_1_bin_radiuslimited(),\n",
    "#multistart = true,\n",
    "lb_param_array =lb_nl,\n",
    "ub_param_array = ub_nl"
   ]
  },
  {
   "cell_type": "code",
   "execution_count": null,
   "id": "5671458a",
   "metadata": {},
   "outputs": [],
   "source": [
    ")"
   ]
  },
  {
   "cell_type": "code",
   "execution_count": null,
   "id": "af33e086",
   "metadata": {},
   "outputs": [],
   "source": [
    "Plots.scatter(data_OD[1,:],data_OD[2,:], xlabel=\"Time\", ylabel=\"Arb. Units\", label=[\"Data \" nothing],color=:red,markersize =2 ,size = (300,300))\n",
    "Plots.plot!(nl_fit[4],nl_fit[3], xlabel=\"Time\", ylabel=\"Arb. Units\", label=[\"fit \" nothing],color=:red,markersize =2 ,size = (300,300))\n",
    "# single fit with box and multistart\n",
    "@time nl_fit =  NL_model_selection(data_OD, # dataset first row times second row OD\n",
    "\"test\", \n",
    "\"test_model_selection\",\n",
    "nl_model, #  model to use\n",
    "p_guess;\n",
    "#optimizer =BBO_adaptive_de_rand_1_bin_radiuslimited(),\n",
    "multistart = true,\n",
    "lb_param_array =lb_nl,\n",
    "ub_param_array = ub_nl"
   ]
  },
  {
   "cell_type": "code",
   "execution_count": null,
   "id": "7be27307",
   "metadata": {},
   "outputs": [],
   "source": [
    ")"
   ]
  },
  {
   "cell_type": "code",
   "execution_count": null,
   "id": "ae5c4209",
   "metadata": {},
   "outputs": [],
   "source": [
    "Plots.scatter(data_OD[1,:],data_OD[2,:], xlabel=\"Time\", ylabel=\"Arb. Units\", label=[\"Data \" nothing],color=:red,markersize =2 ,size = (300,300))\n",
    "Plots.plot!(nl_fit[4],nl_fit[3], xlabel=\"Time\", ylabel=\"Arb. Units\", label=[\"fit \" nothing],color=:red,markersize =2 ,size = (300,300))"
   ]
  },
  {
   "cell_type": "code",
   "execution_count": null,
   "id": "b5d93edf",
   "metadata": {},
   "outputs": [],
   "source": [
    "# single fit with box  gradient\n",
    "@time nl_fit =  NL_model_selection(data_OD, # dataset first row times second row OD\n",
    "\"test\", \n",
    "\"test_model_selection\",\n",
    "nl_model, #  model to use\n",
    "p_guess;\n",
    "#multistart = true,\n",
    "optimizer= BFGS(), \n",
    "auto_diff_method = Optimization.AutoFiniteDiff()"
   ]
  },
  {
   "cell_type": "code",
   "execution_count": null,
   "id": "928ff8ff",
   "metadata": {},
   "outputs": [],
   "source": [
    ")"
   ]
  },
  {
   "cell_type": "code",
   "execution_count": null,
   "id": "610c864b",
   "metadata": {},
   "outputs": [],
   "source": [
    "Plots.scatter(data_OD[1,:],data_OD[2,:], xlabel=\"Time\", ylabel=\"Arb. Units\", label=[\"Data \" nothing],color=:red,markersize =2 ,size = (300,300))\n",
    "Plots.plot!(nl_fit[4],nl_fit[3], xlabel=\"Time\", ylabel=\"Arb. Units\", label=[\"fit \" nothing],color=:red,markersize =2 ,size = (300,300))"
   ]
  },
  {
   "cell_type": "code",
   "execution_count": null,
   "id": "cdd62329",
   "metadata": {},
   "outputs": [],
   "source": []
  },
  {
   "cell_type": "code",
   "execution_count": null,
   "id": "5bcd0da6",
   "metadata": {},
   "outputs": [],
   "source": [
    "# single fit with box  gradient\n",
    "@time nl_fit =  NL_model_selection(data_OD, # dataset first row times second row OD\n",
    "\"test\", \n",
    "\"test_model_selection\",\n",
    "nl_model, #  model to use\n",
    "p_guess;\n",
    "#multistart = true,\n",
    "optimizer= BFGS(), \n",
    "auto_diff_method = Optimization.AutoFiniteDiff()"
   ]
  },
  {
   "cell_type": "code",
   "execution_count": null,
   "id": "e96962f3",
   "metadata": {},
   "outputs": [],
   "source": [
    ")"
   ]
  },
  {
   "cell_type": "code",
   "execution_count": null,
   "id": "084d0a7e",
   "metadata": {},
   "outputs": [],
   "source": [
    "Plots.scatter(data_OD[1,:],data_OD[2,:], xlabel=\"Time\", ylabel=\"Arb. Units\", label=[\"Data \" nothing],color=:red,markersize =2 ,size = (300,300))\n",
    "Plots.plot!(nl_fit[4],nl_fit[3], xlabel=\"Time\", ylabel=\"Arb. Units\", label=[\"fit \" nothing],color=:red,markersize =2 ,size = (300,300))"
   ]
  },
  {
   "cell_type": "code",
   "execution_count": null,
   "id": "0f3ba99a",
   "metadata": {},
   "outputs": [],
   "source": []
  },
  {
   "cell_type": "markdown",
   "id": "ed3b281d",
   "metadata": {
    "lines_to_next_cell": 2
   },
   "source": [
    "Bootstrap"
   ]
  },
  {
   "cell_type": "code",
   "execution_count": null,
   "id": "d73cb2b3",
   "metadata": {},
   "outputs": [],
   "source": [
    "@time nl_fit =  NL_model_selection(data_OD, # dataset first row times second row OD\n",
    "\"test\", \n",
    "\"test_model_selection\",\n",
    "nl_model, #  model to use\n",
    "p_guess;\n",
    "nrep =5,\n",
    "method_of_fitting =\"Bootstrap\",\n",
    ")\n",
    "Plots.scatter(data_OD[1,:],data_OD[2,:], xlabel=\"Time\", ylabel=\"Arb. Units\", label=[\"Data \" nothing],color=:red,markersize =2 ,size = (300,300))\n",
    "Plots.plot!(nl_fit[4],nl_fit[3], xlabel=\"Time\", ylabel=\"Arb. Units\", label=[\"fit \" nothing],color=:red,markersize =2 ,size = (300,300))"
   ]
  },
  {
   "cell_type": "code",
   "execution_count": null,
   "id": "4bd84771",
   "metadata": {},
   "outputs": [],
   "source": []
  },
  {
   "cell_type": "code",
   "execution_count": null,
   "id": "520f26c5",
   "metadata": {},
   "outputs": [],
   "source": [
    "# single fit with box  \n",
    "@time nl_fit =  NL_model_selection(data_OD, # dataset first row times second row OD\n",
    "\"test\", \n",
    "\"test_model_selection\",\n",
    "nl_model, #  model to use\n",
    "p_guess;\n",
    "method_of_fitting =\"Bootstrap\",\n",
    "multistart = true,\n",
    "nrep =5,\n",
    "lb_param_array = lb_nl,\n",
    "ub_param_array = ub_nl\n",
    ")"
   ]
  },
  {
   "cell_type": "code",
   "execution_count": null,
   "id": "5f681247",
   "metadata": {},
   "outputs": [],
   "source": [
    "Plots.scatter(data_OD[1,:],data_OD[2,:], xlabel=\"Time\", ylabel=\"Arb. Units\", label=[\"Data \" nothing],color=:red,markersize =2 ,size = (300,300))\n",
    "Plots.plot!(nl_fit[4],nl_fit[3], xlabel=\"Time\", ylabel=\"Arb. Units\", label=[\"fit \" nothing],color=:red,markersize =2 ,size = (300,300))"
   ]
  },
  {
   "cell_type": "code",
   "execution_count": null,
   "id": "aecd4bc6",
   "metadata": {},
   "outputs": [],
   "source": []
  },
  {
   "cell_type": "markdown",
   "id": "3b8b3c8f",
   "metadata": {},
   "source": [
    "sensitivity_test works only with box constrains"
   ]
  },
  {
   "cell_type": "code",
   "execution_count": null,
   "id": "ce4ec225",
   "metadata": {},
   "outputs": [],
   "source": []
  },
  {
   "cell_type": "code",
   "execution_count": null,
   "id": "b4d01529",
   "metadata": {},
   "outputs": [],
   "source": [
    "# single fit with box  \n",
    "@time nl_fit =  NL_model_selection(data_OD, # dataset first row times second row OD\n",
    "\"test\", \n",
    "\"test_model_selection\",\n",
    "nl_model, #  model to use\n",
    "p_guess;\n",
    "nrep =3,\n",
    "method_of_fitting =\"Morris_sensitivity\",\n",
    "multistart = true,\n",
    "lb_param_array = lb_nl,\n",
    "ub_param_array = ub_nl\n",
    ")"
   ]
  },
  {
   "cell_type": "code",
   "execution_count": null,
   "id": "61d97d07",
   "metadata": {},
   "outputs": [],
   "source": [
    "Plots.scatter(data_OD[1,:],data_OD[2,:], xlabel=\"Time\", ylabel=\"Arb. Units\", label=[\"Data \" nothing],color=:red,markersize =2 ,size = (300,300))\n",
    "Plots.plot!(nl_fit[4],nl_fit[3], xlabel=\"Time\", ylabel=\"Arb. Units\", label=[\"fit \" nothing],color=:red,markersize =2 ,size = (300,300))"
   ]
  },
  {
   "cell_type": "code",
   "execution_count": null,
   "id": "0f6c6dba",
   "metadata": {
    "lines_to_next_cell": 2
   },
   "outputs": [],
   "source": []
  },
  {
   "cell_type": "markdown",
   "id": "0cf26289",
   "metadata": {},
   "source": [
    "model selection"
   ]
  },
  {
   "cell_type": "code",
   "execution_count": null,
   "id": "d1726b8b",
   "metadata": {},
   "outputs": [],
   "source": []
  }
 ],
 "metadata": {
  "jupytext": {
   "cell_metadata_filter": "-all",
   "main_language": "julia",
   "notebook_metadata_filter": "-all"
  }
 },
 "nbformat": 4,
 "nbformat_minor": 5
}
