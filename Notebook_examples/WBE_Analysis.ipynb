{
 "cells": [
  {
   "cell_type": "markdown",
   "metadata": {},
   "source": [
    "# Wastewater-Based Epidemiology Analysis with KinBiont.jl\n",
    "\n",
    "This notebook demonstrates the application of KinBiont.jl for Wastewater-Based Epidemiology (WBE) analysis. It covers sampling strategies, time series analysis, and bacterial/viral detection methods."
   ]
  },
  {
   "cell_type": "code",
   "execution_count": null,
   "metadata": {},
   "outputs": [],
   "source": [
    "# Import required packages\n",
    "using Pkg\n",
    "Pkg.activate(\".\")\n",
    "\n",
    "# Add KinBiont if not already installed\n",
    "if !haskey(Pkg.project().dependencies, \"KinBiont\")\n",
    "    Pkg.add(path=\"../../\")\n",
    "end\n",
    "\n",
    "# Import other necessary packages\n",
    "using KinBiont\n",
    "using Plots\n",
    "using CSV\n",
    "using DataFrames\n",
    "using Statistics\n",
    "using Dates"
   ]
  },
  {
   "cell_type": "markdown",
   "metadata": {},
   "source": [
    "## 1. Sampling Strategy Optimization\n",
    "\n",
    "WBE relies on effective sampling strategies to detect pathogens in wastewater. Here we'll explore optimal sampling approaches based on microbial kinetics."
   ]
  },
  {
   "cell_type": "markdown",
   "metadata": {},
   "source": [
    "### 1.1 Sampling frequency determination\n",
    "\n",
    "Determining optimal sampling frequency based on pathogen decay rates and expected population dynamics."
   ]
  },
  {
   "cell_type": "code",
   "execution_count": null,
   "metadata": {},
   "outputs": [],
   "source": [
    "# Example: Modeling viral decay in wastewater samples\n",
    "# Parameters for a first-order decay model\n",
    "decay_rate = 0.2  # Example decay rate per day\n",
    "initial_concentration = 1000.0  # Initial viral concentration\n",
    "days = 0:0.1:10\n",
    "\n",
    "# Simple exponential decay model\n",
    "concentration = [initial_concentration * exp(-decay_rate * t) for t in days]\n",
    "\n",
    "# Plot decay curve\n",
    "plot(days, concentration, \n",
    "     label=\"Viral concentration\", \n",
    "     xlabel=\"Time (days)\", \n",
    "     ylabel=\"Concentration\",\n",
    "     title=\"Viral decay in wastewater\")"
   ]
  },
  {
   "cell_type": "markdown",
   "metadata": {},
   "source": [
    "### 1.2 Spatial sampling optimization\n",
    "\n",
    "Evaluating different sampling locations in a wastewater network to maximize detection probability."
   ]
  },
  {
   "cell_type": "code",
   "execution_count": null,
   "metadata": {},
   "outputs": [],
   "source": [
    "# Simulate concentration at different sampling points\n",
    "sampling_points = [\"Treatment Plant\", \"Main Collector\", \"Residential Zone A\", \"Residential Zone B\", \"Industrial Zone\"]\n",
    "mean_concentrations = [100, 250, 400, 180, 50]\n",
    "variability = [0.2, 0.3, 0.4, 0.25, 0.15]  # Coefficient of variation\n",
    "\n",
    "# Generate random samples with appropriate variability\n",
    "using Random\n",
    "Random.seed!(123)\n",
    "\n",
    "samples = DataFrame()\n",
    "for (i, point) in enumerate(sampling_points)\n",
    "    # Simulate 10 samples from each location with appropriate variability\n",
    "    conc = mean_concentrations[i] .* (1 .+ variability[i] .* randn(10))\n",
    "    samples[!, Symbol(point)] = max.(0, conc)  # Ensure no negative concentrations\n",
    "end\n",
    "\n",
    "# Calculate detection probability (assuming detection limit of 50)\n",
    "detection_limit = 50\n",
    "detection_prob = [mean(col .> detection_limit) for col in eachcol(samples)]\n",
    "\n",
    "# Plot detection probabilities\n",
    "bar(sampling_points, detection_prob, \n",
    "    label=\"Detection probability\", \n",
    "    title=\"Pathogen Detection Probability by Location\",\n",
    "    ylabel=\"Probability\",\n",
    "    rotation=45)"
   ]
  },
  {
   "cell_type": "markdown",
   "metadata": {},
   "source": [
    "## 2. Time Series Analysis Applications\n",
    "\n",
    "Analyzing temporal patterns in wastewater data using KinBiont's time series capabilities."
   ]
  },
  {
   "cell_type": "markdown",
   "metadata": {},
   "source": [
    "### 2.1 Change Point Detection for Outbreak Identification"
   ]
  },
  {
   "cell_type": "code",
   "execution_count": null,
   "metadata": {},
   "outputs": [],
   "source": [
    "# Simulate a time series with an outbreak event\n",
    "days = 1:100\n",
    "baseline = 10 .+ 2 .* sin.(2π .* days ./ 7)  # Weekly cycles\n",
    "outbreak = zeros(100)\n",
    "outbreak[40:60] = 30 .* exp.(-0.2 .* abs.(collect(40:60) .- 50))  # Outbreak peak at day 50\n",
    "\n",
    "# Add noise\n",
    "signal = baseline + outbreak + 3 .* randn(100)\n",
    "signal = max.(0, signal)  # No negative concentrations\n",
    "\n",
    "# Apply KinBiont's change point detection\n",
    "# Create sample data structure\n",
    "time_data = collect(days)\n",
    "wbe_data = KinBiont.structure_data_kinbiont(\"WBE_sample\", time_data, signal)\n",
    "\n",
    "# Apply change point detection\n",
    "change_points = KinBiont.cpd_function(wbe_data.time, wbe_data.signal, \"PELT\")\n",
    "\n",
    "# Plot the results\n",
    "p = plot(wbe_data.time, wbe_data.signal, \n",
    "        label=\"WBE signal\", \n",
    "        title=\"Change Point Detection for Outbreak Identification\",\n",
    "        xlabel=\"Days\", \n",
    "        ylabel=\"Viral concentration\")\n",
    "\n",
    "# Add vertical lines for change points\n",
    "for cp in change_points\n",
    "    vline!([wbe_data.time[cp]], label=\"\", color=:red, linestyle=:dash)\n",
    "end\n",
    "\n",
    "display(p)"
   ]
  },
  {
   "cell_type": "markdown",
   "metadata": {},
   "source": [
    "### 2.2 Trend Analysis and Forecasting"
   ]
  },
  {
   "cell_type": "code",
   "execution_count": null,
   "metadata": {},
   "outputs": [],
   "source": [
    "# Create training and test datasets\n",
    "train_period = 1:80\n",
    "test_period = 81:100\n",
    "\n",
    "train_data = KinBiont.structure_data_kinbiont(\"WBE_train\", time_data[train_period], signal[train_period])\n",
    "\n",
    "# Fit a logistic growth model - useful for modeling disease spread\n",
    "model_str = \"logistic\"\n",
    "time_range = collect(train_data.time[1]:0.1:100)  # For prediction\n",
    "\n",
    "# Fit model to training data\n",
    "fitted_params = KinBiont.NL_fit_one_well(train_data, model_str, false)\n",
    "\n",
    "# Generate predictions\n",
    "predictions = KinBiont.NL_model_functions(model_str, fitted_params, time_range)\n",
    "\n",
    "# Plot original data and predictions\n",
    "p = plot(train_data.time, train_data.signal, label=\"Training data\", marker=:circle)\n",
    "plot!(time_data[test_period], signal[test_period], label=\"Test data\", marker=:circle)\n",
    "plot!(time_range, predictions, label=\"Prediction\", lw=2)\n",
    "xlabel!(\"Days\")\n",
    "ylabel!(\"Viral load\")\n",
    "title!(\"WBE Trend Analysis and Forecasting\")\n",
    "\n",
    "display(p)"
   ]
  },
  {
   "cell_type": "markdown",
   "metadata": {},
   "source": [
    "## 3. Bacterial Analysis Methods\n",
    "\n",
    "Applying KinBiont's microbial kinetics models to analyze bacterial populations in wastewater."
   ]
  },
  {
   "cell_type": "markdown",
   "metadata": {},
   "source": [
    "### 3.1 Modeling Bacterial Growth Dynamics"
   ]
  },
  {
   "cell_type": "code",
   "execution_count": null,
   "metadata": {},
   "outputs": [],
   "source": [
    "# Simulate bacterial growth with competition using ODE system\n",
    "# Two bacterial populations competing for resources\n",
    "\n",
    "function competitive_growth!(du, u, p, t)\n",
    "    # u[1], u[2]: bacterial populations\n",
    "    # u[3]: resource\n",
    "    r1, r2, K1, K2, c1, c2 = p\n",
    "    \n",
    "    # Competitive growth equations\n",
    "    du[1] = r1 * u[1] * (1 - u[1]/K1 - c1*u[2]/K1) * u[3]/(u[3] + 10)\n",
    "    du[2] = r2 * u[2] * (1 - u[2]/K2 - c2*u[1]/K2) * u[3]/(u[3] + 5)\n",
    "    du[3] = -0.1 * (du[1] + du[2])  # Resource consumption\n",
    "end\n",
    "\n",
    "# Initial conditions and parameters\n",
    "u0 = [10.0, 5.0, 100.0]  # Initial populations and resource\n",
    "tspan = (0.0, 100.0)\n",
    "p = [0.1, 0.08, 1000.0, 800.0, 0.8, 0.6]  # Growth parameters\n",
    "\n",
    "# Solve the ODE system\n",
    "prob = KinBiont.ODEProblem(competitive_growth!, u0, tspan, p)\n",
    "sol = KinBiont.solve(prob, KinBiont.Tsit5())\n",
    "\n",
    "# Plot results\n",
    "times = 0:1:100\n",
    "p1 = plot(sol.t, [sol[1, i] for i in 1:length(sol.t)], \n",
    "         label=\"Bacteria 1\", lw=2, \n",
    "         title=\"Bacterial Population Dynamics\",\n",
    "         xlabel=\"Time (hours)\", \n",
    "         ylabel=\"Population\")\n",
    "plot!(sol.t, [sol[2, i] for i in 1:length(sol.t)], \n",
    "      label=\"Bacteria 2\", lw=2)\n",
    "\n",
    "p2 = plot(sol.t, [sol[3, i] for i in 1:length(sol.t)], \n",
    "         label=\"Resource\", lw=2, \n",
    "         title=\"Resource Depletion\",\n",
    "         xlabel=\"Time (hours)\", \n",
    "         ylabel=\"Resource Concentration\")\n",
    "\n",
    "plot(p1, p2, layout=(2,1), size=(800, 600))"
   ]
  },
  {
   "cell_type": "markdown",
   "metadata": {},
   "source": [
    "### 3.2 Indicator Bacteria Analysis for Fecal Contamination"
   ]
  },
  {
   "cell_type": "code",
   "execution_count": null,
   "metadata": {},
   "outputs": [],
   "source": [
    "# Simulate multiple indicator bacteria concentration with decay and regrowth\n",
    "function indicator_dynamics!(du, u, p, t)\n",
    "    # u[1]: E. coli, u[2]: Enterococci\n",
    "    r_growth1, r_growth2, K1, K2, decay1, decay2, temp_effect = p\n",
    "    \n",
    "    # Temperature effect (simulating diurnal variation)\n",
    "    temp = 20 + 5 * sin(2π * t / 24)  # Daily temperature cycle\n",
    "    temp_factor = exp(temp_effect * (temp - 20) / 10)  # Q10 temperature scaling\n",
    "    \n",
    "    # Population dynamics with growth and decay\n",
    "    du[1] = r_growth1 * u[1] * (1 - u[1]/K1) * temp_factor - decay1 * u[1]\n",
    "    du[2] = r_growth2 * u[2] * (1 - u[2]/K2) * temp_factor - decay2 * u[2]\n",
    "end\n",
    "\n",
    "# Initial conditions and parameters\n",
    "u0 = [1000.0, 500.0]  # Initial indicators (CFU/100mL)\n",
    "tspan = (0.0, 120.0)  # 5 days in hours\n",
    "p = [0.05, 0.03, 10000.0, 5000.0, 0.1, 0.08, 0.8]  # Growth/decay parameters\n",
    "\n",
    "# Solve the system\n",
    "prob = KinBiont.ODEProblem(indicator_dynamics!, u0, tspan, p)\n",
    "sol = KinBiont.solve(prob, KinBiont.Tsit5())\n",
    "\n",
    "# Plot results\n",
    "p1 = plot(sol.t, [sol[1, i] for i in 1:length(sol.t)], \n",
    "         label=\"E. coli\", lw=2, \n",
    "         title=\"Indicator Bacteria Dynamics\",\n",
    "         xlabel=\"Time (hours)\", \n",
    "         ylabel=\"Concentration (CFU/100mL)\",\n",
    "         yscale=:log10)  # Log scale for better visualization\n",
    "\n",
    "plot!(sol.t, [sol[2, i] for i in 1:length(sol.t)], \n",
    "      label=\"Enterococci\", lw=2)\n",
    "\n",
    "# Add regulatory limit lines\n",
    "hline!([235], linestyle=:dash, color=:red, label=\"E. coli limit\")\n",
    "hline!([70], linestyle=:dash, color=:orange, label=\"Enterococci limit\")\n",
    "\n",
    "display(p1)"
   ]
  },
  {
   "cell_type": "markdown",
   "metadata": {},
   "source": [
    "## 4. Integrating Multiple Data Sources for WBE\n",
    "\n",
    "Combining wastewater data with other epidemiological data sources."
   ]
  },
  {
   "cell_type": "code",
   "execution_count": null,
   "metadata": {},
   "outputs": [],
   "source": [
    "# Simulate WBE data alongside clinical case data\n",
    "days = 1:100\n",
    "clinical_delay = 7  # Clinical cases lag behind wastewater signals\n",
    "\n",
    "# Create base epidemic curve with wastewater signal\n",
    "base_signal = 5 .+ zeros(100)\n",
    "base_signal[30:80] .+= 50 .* exp.(-0.01 .* ((30:80) .- 55).^2)  # Gaussian outbreak\n",
    "\n",
    "# Add noise to wastewater signal\n",
    "ww_signal = base_signal .+ 3 .* randn(100)\n",
    "ww_signal = max.(0, ww_signal)  # No negative values\n",
    "\n",
    "# Create clinical cases with delay\n",
    "clinical_cases = zeros(100)\n",
    "clinical_cases[1:(100-clinical_delay)] = base_signal[(clinical_delay+1):100] ./ 5  # Scaled and delayed\n",
    "clinical_cases .+= 1 .* randn(100)\n",
    "clinical_cases = round.(max.(0, clinical_cases))  # Integer counts, no negatives\n",
    "\n",
    "# Plot comparison\n",
    "p = plot(days, ww_signal, \n",
    "        label=\"Wastewater viral RNA\", \n",
    "        xlabel=\"Day\", \n",
    "        ylabel=\"Concentration\")\n",
    "\n",
    "# Add clinical cases on secondary y-axis\n",
    "p2 = twinx(p)\n",
    "plot!(p2, days, clinical_cases, \n",
    "      label=\"Clinical cases\", \n",
    "      color=:red, \n",
    "      ylabel=\"Number of cases\")\n",
    "\n",
    "title!(\"Comparison of Wastewater Signal and Clinical Cases\")\n",
    "display(p)"
   ]
  },
  {
   "cell_type": "markdown",
   "metadata": {},
   "source": [
    "## 5. Machine Learning for WBE Pattern Recognition\n",
    "\n",
    "Using KinBiont's ML capabilities for pattern recognition in wastewater data."
   ]
  },
  {
   "cell_type": "code",
   "execution_count": null,
   "metadata": {},
   "outputs": [],
   "source": [
    "# Generate synthetic training data\n",
    "n_samples = 200\n",
    "features = DataFrame()\n",
    "\n",
    "# Features: viral concentration, temp, pH, flow rate, turbidity\n",
    "features.viral_conc = max.(0, 100 .+ 50 .* randn(n_samples))\n",
    "features.temp = 15 .+ 5 .* randn(n_samples)\n",
    "features.pH = 7 .+ 0.5 .* randn(n_samples)\n",
    "features.flow_rate = max.(0, 50 .+ 10 .* randn(n_samples))\n",
    "features.turbidity = max.(0, 5 .+ 2 .* randn(n_samples))\n",
    "\n",
    "# Target: outbreak status (1 = yes, 0 = no)\n",
    "# Define a simple rule: viral_conc > 150 AND temp < 18 increases outbreak probability\n",
    "p_outbreak = 0.1 .+ 0.8 .* (features.viral_conc .> 150) .* (features.temp .< 18)\n",
    "outbreak = rand(n_samples) .< p_outbreak\n",
    "\n",
    "# Train a decision tree model using KinBiont's ML functionality\n",
    "X = Matrix(features)\n",
    "y = Int.(outbreak)\n",
    "\n",
    "# Split data into training and testing sets\n",
    "train_idx = rand(1:n_samples, Int(floor(0.7 * n_samples)))\n",
    "test_idx = setdiff(1:n_samples, train_idx)\n",
    "\n",
    "X_train = X[train_idx, :]\n",
    "y_train = y[train_idx]\n",
    "X_test = X[test_idx, :]\n",
    "y_test = y[test_idx]\n",
    "\n",
    "# Train decision tree model\n",
    "model = KinBiont.train_decision_tree(X_train, y_train, names(features), [\"No Outbreak\", \"Outbreak\"])\n",
    "\n",
    "# Predict on test set\n",
    "predictions = KinBiont.predict_decision_tree(model, X_test)\n",
    "\n",
    "# Calculate accuracy\n",
    "accuracy = sum(predictions .== y_test) / length(y_test)\n",
    "println(\"Model accuracy: $(round(accuracy * 100, digits=2))%\")\n",
    "\n",
    "# Visualize decision tree\n",
    "KinBiont.visualize_decision_tree(model, names(features), [\"No Outbreak\", \"Outbreak\"])"
   ]
  },
  {
   "cell_type": "markdown",
   "metadata": {},
   "source": [
    "## 6. Conclusion and Next Steps\n",
    "\n",
    "This notebook has demonstrated several applications of KinBiont.jl for Wastewater-Based Epidemiology:\n",
    "\n",
    "1. **Sampling Strategy Optimization**:\n",
    "   - Determining optimal sampling frequency based on pathogen decay rates\n",
    "   - Spatial sampling optimization to maximize detection probability\n",
    "\n",
    "2. **Time Series Analysis**:\n",
    "   - Change point detection for outbreak identification\n",
    "   - Trend analysis and forecasting of pathogen concentrations\n",
    "\n",
    "3. **Bacterial Analysis Methods**:\n",
    "   - Modeling bacterial growth dynamics in wastewater systems\n",
    "   - Analysis of indicator bacteria for fecal contamination\n",
    "\n",
    "4. **Multi-source Data Integration**:\n",
    "   - Combining wastewater data with clinical case data\n",
    "   - Evaluating leading indicator properties of WBE data\n",
    "\n",
    "5. **Machine Learning Applications**:\n",
    "   - Pattern recognition for outbreak prediction\n",
    "   - Feature importance analysis for WBE signals\n",
    "\n",
    "### Next Steps\n",
    "\n",
    "- Apply these methods to real wastewater surveillance data\n",
    "- Integrate additional data sources (meteorological, mobility, etc.)\n",
    "- Develop more sophisticated predictive models\n",
    "- Validate findings against clinical case data"
   ]
  },
  {
   "cell_type": "code",
   "execution_count": null,
   "metadata": {},
   "outputs": [],
   "source": []
  }
 ],
 "metadata": {
  "kernelspec": {
   "display_name": "Julia 1.11.3",
   "language": "julia",
   "name": "julia-1.11"
  },
  "language_info": {
   "file_extension": ".jl",
   "mimetype": "application/julia",
   "name": "julia",
   "version": "1.11.3"
  }
 },
 "nbformat": 4,
 "nbformat_minor": 4
}
