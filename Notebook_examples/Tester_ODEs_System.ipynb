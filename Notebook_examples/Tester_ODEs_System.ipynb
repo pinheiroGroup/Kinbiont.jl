{
 "cells": [
  {
   "cell_type": "code",
   "execution_count": null,
   "id": "f465cbf8",
   "metadata": {},
   "outputs": [],
   "source": [
    "using Kinbiont\n",
    "using DifferentialEquations\n",
    "using OptimizationBBO\n",
    "using NaNMath\n",
    "using Plots\n",
    "using Distributions"
   ]
  },
  {
   "cell_type": "markdown",
   "id": "ad6c158f",
   "metadata": {},
   "source": [
    "----------------------------------------------\n",
    "Step 1: Generate Simulated Data with the SIR Model\n",
    "----------------------------------------------"
   ]
  },
  {
   "cell_type": "code",
   "execution_count": null,
   "id": "0780a2ed",
   "metadata": {},
   "outputs": [],
   "source": [
    "Simulation = ODEs_system_sim(\n",
    "    \"SIR\",          # Name of the model (Susceptible-Infected-Recovered)\n",
    "    [0.9, 0.1, 0.0], # Initial conditions: [S, I, R]\n",
    "    0.0,            # Start time of the simulation\n",
    "    30.0,           # End time of the simulation\n",
    "    1.0,            # Time step for Poisson approximation\n",
    "    [0.5, 0.3]      # Parameters of the ODE model: [Infection rate, Recovery rate]\n",
    ")"
   ]
  },
  {
   "cell_type": "markdown",
   "id": "39cf2269",
   "metadata": {},
   "source": [
    "----------------------------------------------\n",
    "Step 2: Plot the Simulated Data\n",
    "----------------------------------------------"
   ]
  },
  {
   "cell_type": "code",
   "execution_count": null,
   "id": "fa3639bf",
   "metadata": {},
   "outputs": [],
   "source": [
    "scatter(Simulation)  # Scatter plot of the simulation results"
   ]
  },
  {
   "cell_type": "markdown",
   "id": "b083d5f3",
   "metadata": {},
   "source": [
    "----------------------------------------------\n",
    "Step 3: Add Noise and Format Data for Kinbiont\n",
    "----------------------------------------------"
   ]
  },
  {
   "cell_type": "code",
   "execution_count": null,
   "id": "5f8ee8cc",
   "metadata": {},
   "outputs": [],
   "source": [
    "# Extracting time points and solution values\n",
    "sol_time = reduce(hcat, Simulation.t) \n",
    "sol_t = reduce(hcat, Simulation.u)"
   ]
  },
  {
   "cell_type": "code",
   "execution_count": null,
   "id": "529c3634",
   "metadata": {},
   "outputs": [],
   "source": [
    "# Adding uniform random noise to the simulation data\n",
    "noise_uniform = rand(Uniform(-0.05, 0.05), size(sol_t)[2])\n",
    "sol_t_noise = [sol_t[i, :] .+ rand(Uniform(-0.05, 0.05), size(sol_t)[2]) for i in 1:size(sol_t)[1]]\n",
    "sol_t_noise = permutedims(reduce(hcat, sol_t_noise))"
   ]
  },
  {
   "cell_type": "code",
   "execution_count": null,
   "id": "1e8794c2",
   "metadata": {},
   "outputs": [],
   "source": [
    "# Combining time and noisy solution data\n",
    "data = vcat(sol_time, sol_t_noise)"
   ]
  },
  {
   "cell_type": "code",
   "execution_count": null,
   "id": "e3863354",
   "metadata": {},
   "outputs": [],
   "source": [
    "# Plot the noisy data\n",
    "scatter(data[1, :], data[2, :])  # Susceptible\n",
    "scatter!(data[1, :], data[3, :]) # Infected\n",
    "scatter!(data[1, :], data[4, :]) # Recovered"
   ]
  },
  {
   "cell_type": "markdown",
   "id": "21153eac",
   "metadata": {},
   "source": [
    "----------------------------------------------\n",
    "Step 4: Fit the Full Dataset to the SIR Model\n",
    "----------------------------------------------"
   ]
  },
  {
   "cell_type": "code",
   "execution_count": null,
   "id": "13a05b8a",
   "metadata": {},
   "outputs": [],
   "source": [
    "Start_IC = [0.9, 0.1, 0.0]  # Initial conditions"
   ]
  },
  {
   "cell_type": "code",
   "execution_count": null,
   "id": "89fe5763",
   "metadata": {},
   "outputs": [],
   "source": [
    "fit = fit_ODEs_System(\n",
    "    data,\n",
    "    \"test\",     # Label for the dataset\n",
    "    \"SIR\",      # Model name\n",
    "    [0.1, 0.5], # Initial guess for parameters\n",
    "    Start_IC    # Initial conditions\n",
    ")"
   ]
  },
  {
   "cell_type": "code",
   "execution_count": null,
   "id": "b522d39b",
   "metadata": {},
   "outputs": [],
   "source": [
    "plot!(fit[3])  # Plot the fitted results"
   ]
  },
  {
   "cell_type": "markdown",
   "id": "b8ba7f09",
   "metadata": {},
   "source": [
    "----------------------------------------------\n",
    "Step 5: Remove \"Recovered\" (R) Data and Refit\n",
    "----------------------------------------------"
   ]
  },
  {
   "cell_type": "code",
   "execution_count": null,
   "id": "cf463761",
   "metadata": {},
   "outputs": [],
   "source": [
    "# Keep only time, S (Susceptible), and I (Infected)\n",
    "data_reduced = hcat(data[1, :], data[2, :])\n",
    "data_reduced = permutedims(hcat(data_reduced, data[3, :]))"
   ]
  },
  {
   "cell_type": "code",
   "execution_count": null,
   "id": "8b86b333",
   "metadata": {},
   "outputs": [],
   "source": [
    "# Fit using only the first two states (S and I)\n",
    "fit_res = fit_ODEs_System(\n",
    "    data_reduced,\n",
    "    \"test\",\n",
    "    \"SIR\",\n",
    "    [0.1, 0.5], # Initial guess for parameters\n",
    "    Start_IC;\n",
    "    set_of_equation_to_fit = [1, 2]  # Only fit S and I equations\n",
    ")"
   ]
  },
  {
   "cell_type": "markdown",
   "id": "329605d7",
   "metadata": {},
   "source": [
    "----------------------------------------------\n",
    "Step 6: Plot the Data and New Fit\n",
    "----------------------------------------------"
   ]
  },
  {
   "cell_type": "code",
   "execution_count": null,
   "id": "c0466b28",
   "metadata": {},
   "outputs": [],
   "source": [
    "scatter(data[1, :], data[2, :])  # Susceptible\n",
    "scatter!(data[1, :], data[3, :]) # Infected\n",
    "scatter!(data[1, :], data[4, :]) # Recovered\n",
    "plot!(fit_res[3])  # Plot the fitted model without R measurements"
   ]
  }
 ],
 "metadata": {
  "jupytext": {
   "cell_metadata_filter": "-all",
   "main_language": "julia",
   "notebook_metadata_filter": "-all"
  }
 },
 "nbformat": 4,
 "nbformat_minor": 5
}
