{
 "cells": [
  {
   "cell_type": "code",
   "execution_count": null,
   "id": "e45aefe6",
   "metadata": {
    "lines_to_next_cell": 0
   },
   "outputs": [],
   "source": []
  },
  {
   "cell_type": "code",
   "execution_count": null,
   "id": "43aba406",
   "metadata": {},
   "outputs": [],
   "source": [
    "using Kinbiont\n",
    "using Plots\n",
    "# Data from \"Mechanistic Modelling of Biomass Growth, Glucose Consumption and Ethanol Production by Kluyveromyces marxianus in Batch Fermentation\"\n",
    "# Time points\n",
    "Times =  [0, 1, 2, 3, 4, 5, 6, 7, 8, 9, 10, 11, 12,13] "
   ]
  },
  {
   "cell_type": "code",
   "execution_count": null,
   "id": "c97d4d08",
   "metadata": {
    "lines_to_next_cell": 2
   },
   "outputs": [],
   "source": []
  },
  {
   "cell_type": "code",
   "execution_count": null,
   "id": "3946103f",
   "metadata": {},
   "outputs": [],
   "source": [
    "Biomass_data  = [\n",
    "    0.468731172  0.444631883  0.438607061  0.40848295   0.456681528  0.492830462  0.46270635   0.474755995\n",
    "    0.522954573  0.456681528  0.504880106  0.468731172  0.535004217  0.571153151  0.643451018  0.679599952\n",
    "    0.631401374  0.565128329  0.583202796  0.528979395  0.571153151  0.685624774  0.745872997  0.926617665\n",
    "    0.721773708  0.691649596  0.643451018  0.601277262  0.872394264  0.99289071   0.908543198  0.99289071\n",
    "    1.2338836    1.221833956  1.089287866  1.023014821  1.089287866  1.221833956  1.348355224  1.486926136\n",
    "    1.691770093  1.703819737  1.559224003  1.517050247  1.595372936  1.758043138  1.872514761  1.830341005\n",
    "    2.08338354   2.137606941  2.017110495  2.234004097  2.378599831  2.655741656  2.396674298  2.462947343\n",
    "    2.764188456  2.740089167  2.547294855  2.408723943  2.679840945  2.908784191  3.041330281  2.98710688\n",
    "    2.896734546  2.914809013  2.818411857  2.728039523  3.017230992  3.131702615  3.57151464   3.613688396\n",
    "    3.282323171  3.161826726  2.963007591  3.240149416  3.342571394  3.553440174  3.758284131  3.939028799\n",
    "    3.583564285  3.463067839  3.432943728  3.553440174  3.583564285  3.746234486  3.824557176  3.987227377\n",
    "    3.824557176  3.764308953  3.70406073   3.643812508  3.710085552  3.902879865  4.029401133  4.119773467\n",
    "    3.764308953  3.824557176  3.710085552  3.577539463  3.872755754  4.017351488  4.005301844  4.1559224\n",
    "    3.908904687  3.945053621  3.824557176  3.619713218  3.975177732  3.96915291   4.065550066  3.933003976\n",
    "]"
   ]
  },
  {
   "cell_type": "code",
   "execution_count": null,
   "id": "da7b701e",
   "metadata": {},
   "outputs": [],
   "source": []
  },
  {
   "cell_type": "code",
   "execution_count": null,
   "id": "5d410905",
   "metadata": {},
   "outputs": [],
   "source": [
    "EtOH_data = [\n",
    "    0.037920993  0.037955528  0.071828461  0.112707621  0.066732466  0.076307765  0.070576306  0.036942649\n",
    "    1.664911255  1.66494579   0.673451842  0.737532687  0.733467879  0.727575387  0.729577824  1.619393569\n",
    "    1.17063084   1.170665375  0.922704232  0.690171787  1.113828204  0.881222103  0.996581345  0.975940176\n",
    "    2.409423544  2.409458079  2.437737451  2.160643039  2.142362594  1.889280085  2.014877531  1.772334518\n",
    "    2.816364339  2.816398874  3.407346927  2.486350506  2.207032689  2.44862484   2.326884955  1.878030917\n",
    "    3.086112368  3.086146903  4.390656444  3.052103346  3.610182225  4.458111751  4.033203179  2.11193492\n",
    "    6.643269579  6.643304114  5.510745421  4.474035199  4.174240973  4.648144602  4.410248979  6.195545216\n",
    "    8.454793771  8.454828306  7.003755453  5.692160503  5.120869732  6.104915811  5.611948962  6.565579224\n",
    "    9.32277955   9.322814085  7.868183955  7.977268704  7.595568846  7.680126099  7.636903664  7.372987633\n",
    "    7.724387217  7.724421752  6.913379365  7.363786683  6.424730787  7.284445296  6.853644232  7.500142139\n",
    "    7.730531907  7.730566442  7.63926066   7.773314842  7.532224563  8.394148756  7.96224285   8.274083243\n",
    "    8.02910974   8.029144275  7.87591785   8.079650743  8.788945686  8.640012963  8.713535516  7.7024435\n",
    "    8.06677012   8.066804655  7.569066356  8.637448719  8.640160276  9.212615824  8.925444241  8.225621348\n",
    "    8.344401902  8.344436437  7.652371454  8.761853946  9.037756139  9.445811175  9.240839848  8.458481914\n",
    "]"
   ]
  },
  {
   "cell_type": "code",
   "execution_count": null,
   "id": "9f368fb6",
   "metadata": {},
   "outputs": [],
   "source": []
  },
  {
   "cell_type": "code",
   "execution_count": null,
   "id": "76f1dfc6",
   "metadata": {},
   "outputs": [],
   "source": [
    "Sugar_data = [\n",
    "    20.37003121  20.37003121  20.37003121  20.37003121  20.36155687  20.36155687  20.37003121  20.07785998\n",
    "    19.30916875  17.63605116  19.32271875  17.64960116  19.01482173  19.01482173  19.02329607  18.87508901\n",
    "    18.9243581   14.46204477  19.10995068  18.98475374  18.51146642  20.02445002  19.27643256  17.73687491\n",
    "    16.94378974  13.23115554  16.1295282   15.24935665  14.84454689  15.23720605  15.04935081  15.15668027\n",
    "    13.47203273  13.38040151  13.13647224  13.80858522  13.64363658  14.27466885  13.96762705  15.41865932\n",
    "    12.86308717  11.9056968    9.379571969  11.61330599   9.675264049  11.60646554  10.64933914  12.56274223\n",
    "    8.284602021   8.503052127   6.112489049   8.817863385   7.366867013   7.993347727   7.688581714  10.0741084\n",
    "    4.476584282   3.531950426   2.073042238   4.09011057    3.333255529   4.217015814   3.783610015   2.898749955\n",
    "    0.734564091   0.265551198   0.632154101   0.989480354   0.124117407   0.201552197   0.171309146   2.142528278\n",
    "    0.112985052   0.361286285   0.103444292   0.153773988   0.060745755   0.085896014   0.081795229   0.262355928\n",
    "    0.110534214   0.245023748   0.115465066   0.115523419   0.097975142   0.086654607   0.100789218   0.464123999\n",
    "    0.101372751   0.263864845   0.099592976   0.085588191   0.097041489   0.098617027   0.106303602   0.264451983\n",
    "    0.073713301   0.219410495   0.123080168   0.072283646   0.069557099   0.06512225    0.075814018   0.258874389\n",
    "    0.067381971   0.208150559   0.070095398   0.065456313   0.056427613   0.062204587   0.067790444   0.270159583\n",
    "]"
   ]
  },
  {
   "cell_type": "code",
   "execution_count": null,
   "id": "98512634",
   "metadata": {},
   "outputs": [],
   "source": []
  },
  {
   "cell_type": "markdown",
   "id": "9db495b9",
   "metadata": {},
   "source": [
    "generating the model to fit "
   ]
  },
  {
   "cell_type": "code",
   "execution_count": null,
   "id": "1d3f1361",
   "metadata": {
    "lines_to_next_cell": 2
   },
   "outputs": [],
   "source": [
    "function Monod_xx_batch(du, u, param, t)\n",
    "    B1, S, EtOH = u\n",
    "    K_G,K_E, mu_max_1,Y_1,Y_2,lag= param\n",
    " \n",
    " \n",
    " \n",
    "    # Monod equation\n",
    "    Q = mu_max_1 *(S)/(K_G + S)\n",
    "    inhibition = K_E/( EtOH+ K_E)\n",
    "    lag_factor = t/(t+lag)\n",
    " \n",
    "    mu = Q * inhibition * lag_factor\n",
    " \n",
    "    du[1] =   mu *  B1    #  bio mass dynamics\n",
    " \n",
    "    du[2] =   -  mu *  B1* Y_1     # Substrate dynamics\n",
    " \n",
    "    du[3] =    mu * B1 * Y_2   #  EtOH dynamics"
   ]
  },
  {
   "cell_type": "code",
   "execution_count": null,
   "id": "6fd363a3",
   "metadata": {},
   "outputs": [],
   "source": [
    "end"
   ]
  },
  {
   "cell_type": "code",
   "execution_count": null,
   "id": "7b3a05c5",
   "metadata": {},
   "outputs": [],
   "source": []
  },
  {
   "cell_type": "code",
   "execution_count": null,
   "id": "6f75f82a",
   "metadata": {},
   "outputs": [],
   "source": []
  },
  {
   "cell_type": "code",
   "execution_count": null,
   "id": "ba35ce10",
   "metadata": {},
   "outputs": [],
   "source": [
    "u0 = [data_test[2,1],data_test[3,1],data_test[4,1]] \n",
    "param = [2.5, 0.03 ,0.02, 0.1,2.5, 0.03 ]  #  \n",
    "ub_p = [500.5, 300000.0,96.0,10.0,500.5, 300000.0]\n",
    "lb_p = [0.0, 0.0,0.0,0.0,0.0, 0.0,]\n",
    "replicate_number = 3"
   ]
  },
  {
   "cell_type": "code",
   "execution_count": null,
   "id": "b1d5f3b1",
   "metadata": {},
   "outputs": [],
   "source": [
    "data_test  = permutedims( [Times Biomass_data[:,replicate_number] Sugar_data[:,replicate_number] EtOH_data[:,replicate_number]])"
   ]
  },
  {
   "cell_type": "code",
   "execution_count": null,
   "id": "5ef06274",
   "metadata": {
    "lines_to_next_cell": 2
   },
   "outputs": [],
   "source": [
    "fit_prod_EtOH= Kinbiont.fit_ODEs_System(\n",
    "    data_test,\n",
    "    string(\"EtOH_\",replicate_number),  # Label for dataset\n",
    "    Monod_xx_batch,  # Custom ODE function\n",
    "    param,  # Initial parameter guess\n",
    "    u0 ; # Initial conditions\n",
    "    ub=ub_p,\n",
    "    lb=lb_p,\n",
    "  #  maxiter=100,\n",
    ")\n",
    "fit_prod_EtOH[2]\n",
    "fitting = fit_prod_EtOH[3]\n",
    "solt_to_plot = reduce(hcat,fitting.u)"
   ]
  },
  {
   "cell_type": "code",
   "execution_count": null,
   "id": "7f7c0a84",
   "metadata": {},
   "outputs": [],
   "source": [
    "display(scatter(data_test[1,:], data_test[2,:],xlabel=\"Time [h]\", ylabel=\"[Biomass]/[EtOH]/[Sugar] [g/L]\",label=[\"[Biomass] Data\" nothing],color=:blue,markersize =6 ,size = (700,600),legendposition = :topright,tickfontsize = 20,labelfontsize = 20,legendfontsize =11))\n",
    "display(plot!(data_test[1,:], solt_to_plot[1,:], xlabel=\"Time [h]\", ylabel=\"[Biomass]/[EtOH]/[Sugar] [g/L]\", label=[\"[Biomass] Fit\" nothing],color=:blue,markersize =4 ,size = (700,600),legendposition = :topright,linewidth=4,tickfontsize = 20,labelfontsize = 20,legendfontsize =11))"
   ]
  },
  {
   "cell_type": "code",
   "execution_count": null,
   "id": "579049c0",
   "metadata": {},
   "outputs": [],
   "source": [
    "display(scatter!(data_test[1,:], data_test[3,:],  xlabel=\"Time [h]\", ylabel=\"[Biomass]/[EtOH]/[Sugar] [g/L]\", label=[\"[Sugar] Data\" nothing],color=:red,markersize =6 ,size = (700,600),legendposition = :topright,tickfontsize = 20,labelfontsize = 20,legendfontsize =11,marker=:square))\n",
    "display(plot!(data_test[1,:], solt_to_plot[2,:], xlabel=\"Time [h]\", ylabel=\"[Biomass]/[EtOH]/[Sugar] [g/L]\", label=[\"[Sugar] Fit\" nothing],color=:red,markersize =4 ,size = (700,600),legendposition = :topright,linewidth=4,tickfontsize = 20,labelfontsize = 20,legendfontsize =11,linestyle=:dash))"
   ]
  },
  {
   "cell_type": "code",
   "execution_count": null,
   "id": "40336390",
   "metadata": {
    "lines_to_next_cell": 2
   },
   "outputs": [],
   "source": [
    "display(scatter!(data_test[1,:], data_test[4,:],  xlabel=\"Time [h]\", ylabel=\"[Biomass]/[EtOH]/[Sugar] [g/L]\", label=[\"[EtOH] Data\" nothing],color=:green,markersize =6 ,size = (700,600),legendposition = :topright,tickfontsize = 20,labelfontsize = 20,legendfontsize =11,marker=:diamond))\n",
    "display(plot!(data_test[1,:], solt_to_plot[3,:], xlabel=\"Time [h]\", ylabel=\"[Biomass]/[EtOH]/[Sugar] [g/L]\", label=[\"[Sugar] Fit\" nothing],color=:green,markersize =4 ,size = (700,600),legendposition = :topright,linewidth=4,tickfontsize = 20,labelfontsize = 20,legendfontsize =11,linestyle=:dot))"
   ]
  }
 ],
 "metadata": {
  "jupytext": {
   "cell_metadata_filter": "-all",
   "main_language": "julia",
   "notebook_metadata_filter": "-all"
  }
 },
 "nbformat": 4,
 "nbformat_minor": 5
}
