{
 "cells": [
  {
   "cell_type": "code",
   "execution_count": null,
   "id": "7b698473",
   "metadata": {},
   "outputs": [],
   "source": [
    "using Kinbiont\n",
    "using DifferentialEquations\n",
    "using CSV\n",
    "using SymbolicRegression\n",
    "using Plots\n",
    "using StatsBase\n",
    "using Distributions"
   ]
  },
  {
   "cell_type": "markdown",
   "id": "f048824b",
   "metadata": {},
   "source": [
    "In this example, we will use Kinbiont to generate data about a single species. \n",
    "We suppose that the growth rate depends on an experimental feature, but its exact effect is unknown.\n",
    "Specifically, the perturbation follows a **quadratic** dependence: mu = (1 - feature)^2.\n",
    "The user performs experiments at different conditions and fits the data with a simple model,\n",
    "where the growth rate is an effective parameter fixed by the experimental condition (i.e., mu(feature) -> mu_eff).\n",
    "Finally, applying symbolic regression on the fitted results, we retrieve the relationship between the experimental feature and the effective growth rate."
   ]
  },
  {
   "cell_type": "code",
   "execution_count": null,
   "id": "581c89cd",
   "metadata": {},
   "outputs": [],
   "source": [
    "# Defining the function that alters the growth rate (quadratic dependence)\n",
    "function unknown_response(feature)\n",
    "    response = (1 - feature)^2\n",
    "    return response\n",
    "end"
   ]
  },
  {
   "cell_type": "code",
   "execution_count": null,
   "id": "1e309086",
   "metadata": {},
   "outputs": [],
   "source": [
    "# Defining the used ODE model\n",
    "results_fit = Any"
   ]
  },
  {
   "cell_type": "code",
   "execution_count": null,
   "id": "a0a80307",
   "metadata": {},
   "outputs": [],
   "source": [
    "ODE_models = \"baranyi_richards\""
   ]
  },
  {
   "cell_type": "code",
   "execution_count": null,
   "id": "5825411a",
   "metadata": {},
   "outputs": [],
   "source": [
    "ub_1 = [0.1, 5.1, 500.0, 5.0]\n",
    "lb_1 = [0.0001, 0.1, 0.00, 0.2]\n",
    "p1_guess = lb_1 .+ (ub_1 .- lb_1) ./ 2"
   ]
  },
  {
   "cell_type": "code",
   "execution_count": null,
   "id": "182e59ed",
   "metadata": {},
   "outputs": [],
   "source": [
    "# Defining the range of the perturbation on feature\n",
    "feature_range = 0.0:0.2:2.0"
   ]
  },
  {
   "cell_type": "code",
   "execution_count": null,
   "id": "fe040bc9",
   "metadata": {},
   "outputs": [],
   "source": [
    "# Defining the parameter values for the simulation\n",
    "p_sim = [0.05, 1.0, 50.0, 1.0]\n",
    "psim_1_0 = p_sim[1]\n",
    "t_min = 0.0\n",
    "t_max = 800.0\n",
    "n_start = [0.1]\n",
    "delta_t = 5.0\n",
    "noise_value = 0.03"
   ]
  },
  {
   "cell_type": "code",
   "execution_count": null,
   "id": "30bab3f5",
   "metadata": {},
   "outputs": [],
   "source": [
    "plot(0, 0)\n",
    "for f in feature_range\n",
    "    # Changing the parameters with quadratic unknown perturbation\n",
    "    p_sim[1] = psim_1_0 * unknown_response(f) .+ 0.01\n",
    "\n",
    "    # Calling the simulation function\n",
    "    sim = Kinbiont.ODE_sim(\"baranyi_richards\", n_start, t_min, t_max, delta_t, p_sim)\n",
    "\n",
    "    # Adding uniform random noise\n",
    "    noise_uniform = rand(Uniform(-noise_value, noise_value), length(sim.t))\n",
    "\n",
    "    data_t = reduce(hcat, sim.t)\n",
    "    data_o = reduce(hcat, sim.u)\n",
    "    data_OD = vcat(data_t, data_o)\n",
    "    data_OD[2, :] = data_OD[2, :] .+ noise_uniform\n",
    "\n",
    "    # Plotting scatterplot of data with noise\n",
    "    display(Plots.scatter!(data_OD[1, :], data_OD[2, :], xlabel=\"Time\", ylabel=\"Arb. Units\", label=nothing, color=:red, markersize=2, size=(300, 300)))\n",
    "\n",
    "    results_ODE_fit = fitting_one_well_ODE_constrained(\n",
    "        data_OD,\n",
    "        string(f),\n",
    "        \"test_ODE\",\n",
    "        \"baranyi_richards\",\n",
    "        p1_guess;\n",
    "        lb=lb_1,\n",
    "        ub=ub_1\n",
    "    )\n",
    "\n",
    "    display(Plots.plot!(results_ODE_fit[4], results_ODE_fit[3], xlabel=\"Time\", ylabel=\"Arb. Units\", label=nothing, color=:red, markersize=2, size=(300, 300)))\n",
    "\n",
    "    if f == feature_range[1]\n",
    "        results_fit = results_ODE_fit[2]\n",
    "    else\n",
    "        results_fit = hcat(results_fit, results_ODE_fit[2])\n",
    "    end\n",
    "end"
   ]
  },
  {
   "cell_type": "code",
   "execution_count": null,
   "id": "bf68586d",
   "metadata": {},
   "outputs": [],
   "source": [
    "scatter(results_fit[2, :], results_fit[4, :], xlabel=\"Feature value\", ylabel=\"Growth rate\")"
   ]
  },
  {
   "cell_type": "code",
   "execution_count": null,
   "id": "72c69966",
   "metadata": {},
   "outputs": [],
   "source": [
    "# Setting options for symbolic regression\n",
    "options = SymbolicRegression.Options(\n",
    "    binary_operators=[+, /, *, -],\n",
    "    unary_operators=[square],\n",
    "    constraints=nothing,\n",
    "    elementwise_loss=nothing,\n",
    "    loss_function=nothing,\n",
    "    tournament_selection_n=12,\n",
    "    tournament_selection_p=0.86,\n",
    "    topn=12,\n",
    "    complexity_of_operators=nothing,\n",
    "    complexity_of_constants=nothing,\n",
    "    complexity_of_variables=nothing,\n",
    "    parsimony=0.05,\n",
    "    dimensional_constraint_penalty=nothing,\n",
    "    alpha=0.100000,\n",
    "    maxsize=10,\n",
    "    maxdepth=nothing\n",
    ")"
   ]
  },
  {
   "cell_type": "code",
   "execution_count": null,
   "id": "94136f70",
   "metadata": {},
   "outputs": [],
   "source": [
    "# Generating feature matrix\n",
    "# The first column is the label as a string of the feature value we used for the fitting labeling\n",
    "feature_matrix = [[string(f), f] for f in feature_range]\n",
    "feature_matrix = permutedims(reduce(hcat, feature_matrix))"
   ]
  },
  {
   "cell_type": "code",
   "execution_count": null,
   "id": "0e92508b",
   "metadata": {},
   "outputs": [],
   "source": [
    "# Symbolic regression between the feature and the growth rate (4th row of the results_fit)\n",
    "gr_sy_reg = Kinbiont.downstream_symbolic_regression(results_fit, feature_matrix, 4; options=options)"
   ]
  },
  {
   "cell_type": "code",
   "execution_count": null,
   "id": "85a1af86",
   "metadata": {},
   "outputs": [],
   "source": [
    "scatter(results_fit[2, :], results_fit[4, :], xlabel=\"Feature value\", ylabel=\"Growth rate\")\n",
    "hline!(unique(gr_sy_reg[3][:, 1]), label=[\"Eq. 1\" nothing], line=(3, :green, :dash))\n",
    "plot!(unique(results_fit[2, :]), unique(gr_sy_reg[3][:, 2]), label=[\"Eq. 2\" nothing], line=(3, :red))\n",
    "plot!(unique(results_fit[2, :]), unique(gr_sy_reg[3][:, 3]), label=[\"Eq. 3\" nothing], line=(3, :blue, :dashdot))"
   ]
  }
 ],
 "metadata": {
  "jupytext": {
   "cell_metadata_filter": "-all",
   "main_language": "julia",
   "notebook_metadata_filter": "-all"
  }
 },
 "nbformat": 4,
 "nbformat_minor": 5
}
