{
 "cells": [
  {
   "cell_type": "code",
   "execution_count": null,
   "id": "a2b2ae5b",
   "metadata": {
    "lines_to_next_cell": 2
   },
   "outputs": [],
   "source": [
    "using Kinbiont\n",
    "using DifferentialEquations\n",
    "using CSV\n",
    "using SymbolicRegression\n",
    "using Plots\n",
    "using StatsBase\n",
    "using SymbolicRegression\n",
    "using Distributions\n",
    "# Generate a dataset with an unknown dependence on a feature "
   ]
  },
  {
   "cell_type": "code",
   "execution_count": null,
   "id": "52be6daa",
   "metadata": {},
   "outputs": [],
   "source": [
    "function unknown_response(feature)\n",
    "\n",
    "    response = (1 - feature)^2\n",
    "    return response"
   ]
  },
  {
   "cell_type": "code",
   "execution_count": null,
   "id": "ca6b4767",
   "metadata": {
    "lines_to_next_cell": 2
   },
   "outputs": [],
   "source": [
    "end"
   ]
  },
  {
   "cell_type": "code",
   "execution_count": null,
   "id": "632cadc0",
   "metadata": {},
   "outputs": [],
   "source": [
    "# defining the used ODE model \n",
    "results_fit =  Any"
   ]
  },
  {
   "cell_type": "code",
   "execution_count": null,
   "id": "1fa0782a",
   "metadata": {},
   "outputs": [],
   "source": [
    "ODE_models = \"baranyi_richards\""
   ]
  },
  {
   "cell_type": "code",
   "execution_count": null,
   "id": "acdcea7f",
   "metadata": {
    "lines_to_next_cell": 2
   },
   "outputs": [],
   "source": [
    "ub_1 = [0.1, 5.1, 500.0, 5.0]\n",
    "lb_1 = [0.0001, 0.1, 0.00, 0.2]\n",
    "p1_guess = lb_1 .+ (ub_1 .- lb_1) ./ 2"
   ]
  },
  {
   "cell_type": "markdown",
   "id": "a5c1df92",
   "metadata": {},
   "source": [
    "defining the range of the perturbation on feature"
   ]
  },
  {
   "cell_type": "code",
   "execution_count": null,
   "id": "95b78521",
   "metadata": {},
   "outputs": [],
   "source": [
    "feature_range = 0.0:0.1:2.0"
   ]
  },
  {
   "cell_type": "code",
   "execution_count": null,
   "id": "8534bf3e",
   "metadata": {},
   "outputs": [],
   "source": [
    "# defining the parameters values for the simulation \n",
    "p_sim = [0.05, 1.0, 50.0, 1.0]\n",
    "psim_1_0 =  p_sim[1]\n",
    "t_min = 0.0\n",
    "t_max = 800.0\n",
    "n_start = [0.1]\n",
    "delta_t = 5.0\n",
    "noise_value = 0.03"
   ]
  },
  {
   "cell_type": "code",
   "execution_count": null,
   "id": "4d4ab584",
   "metadata": {},
   "outputs": [],
   "source": [
    "plot(0, 0)\n",
    "for f in feature_range\n",
    "\n",
    "    # changing the parameters with unknown perturbation \n",
    "    p_sim[1] = psim_1_0 * unknown_response(f) .+ 0.01\n",
    "\n",
    "\n",
    "    # Calling the simulation function\n",
    "    sim = Kinbiont.ODE_sim(\"baranyi_richards\", n_start, t_min, t_max, delta_t, p_sim)\n",
    "\n",
    "    # Plotting scatterplot of data without noise\n",
    "\n",
    "    #adding uniform random noise\n",
    "    noise_unifom = rand(Uniform(-noise_value, noise_value), length(sim.t))\n",
    "\n",
    "\n",
    "    data_t = reduce(hcat, sim.t)\n",
    "    data_o = reduce(hcat, sim.u)\n",
    "    data_OD = vcat(data_t, data_o)\n",
    "    data_OD[2, :] = data_OD[2, :] .+ noise_unifom\n",
    "    # ploting scatterplot of data with noise\n",
    "\n",
    "    display(Plots.scatter!(data_OD[1, :], data_OD[2, :], xlabel=\"Time\", ylabel=\"Arb. Units\", label= nothing, color=:red, markersize=2, size=(300, 300)))\n",
    "\n",
    "    results_ODE_fit = fitting_one_well_ODE_constrained(\n",
    "        data_OD,\n",
    "        string(f),\n",
    "        \"test_ODE\",\n",
    "        \"baranyi_richards\",\n",
    "        p1_guess;\n",
    "        lb=lb_1,\n",
    "        ub=ub_1\n",
    "    )\n",
    "    display(Plots.plot!(results_ODE_fit[4], results_ODE_fit[3], xlabel=\"Time\", ylabel=\"Arb. Units\", label= nothing, color=:red, markersize=2, size=(300, 300)))\n",
    "\n",
    "\n",
    "    if f == feature_range[1]\n",
    "        results_fit = results_ODE_fit[2]\n",
    "    else\n",
    "        results_fit = hcat(results_fit, results_ODE_fit[2])\n",
    "    end"
   ]
  },
  {
   "cell_type": "code",
   "execution_count": null,
   "id": "efc11777",
   "metadata": {},
   "outputs": [],
   "source": []
  },
  {
   "cell_type": "code",
   "execution_count": null,
   "id": "93121a7b",
   "metadata": {},
   "outputs": [],
   "source": [
    "end"
   ]
  },
  {
   "cell_type": "code",
   "execution_count": null,
   "id": "e04540f3",
   "metadata": {
    "lines_to_next_cell": 2
   },
   "outputs": [],
   "source": [
    "scatter(results_fit[2,:],results_fit[4,:,],xlabel=\"Feature value\", ylabel=\"Growth rate\",)"
   ]
  },
  {
   "cell_type": "code",
   "execution_count": null,
   "id": "0d010829",
   "metadata": {},
   "outputs": [],
   "source": [
    "# setting option for symbolic regression\n",
    "options = SymbolicRegression.Options(\n",
    "    binary_operators=[+, /, *, -],\n",
    "    unary_operators=[square],\n",
    "    constraints=nothing,\n",
    "    elementwise_loss=nothing,\n",
    "    loss_function=nothing,\n",
    "    tournament_selection_n=12,\n",
    "    tournament_selection_p=0.86,\n",
    "    topn=12,\n",
    "    complexity_of_operators=nothing,\n",
    "    complexity_of_constants=nothing,\n",
    "    complexity_of_variables=nothing,\n",
    "    parsimony=0.05,\n",
    "    dimensional_constraint_penalty=nothing,\n",
    "    alpha=0.100000,\n",
    "    maxsize=10,\n",
    "    maxdepth=nothing\n",
    ")\n",
    "# generating feature matrix\n",
    "# the first column is the label as a string of the feature value we used for the fitting labeling"
   ]
  },
  {
   "cell_type": "code",
   "execution_count": null,
   "id": "a16ea336",
   "metadata": {
    "lines_to_next_cell": 2
   },
   "outputs": [],
   "source": [
    "feature_matrix = [[string(f),f] for f in feature_range]\n",
    "feature_matrix = permutedims(reduce(hcat,feature_matrix))"
   ]
  },
  {
   "cell_type": "code",
   "execution_count": null,
   "id": "2365d8f8",
   "metadata": {},
   "outputs": [],
   "source": [
    "gr_sy_reg = Kinbiont.downstream_symbolic_regression(results_fit, feature_matrix, 4; options=options)"
   ]
  },
  {
   "cell_type": "code",
   "execution_count": null,
   "id": "1eb2edc9",
   "metadata": {},
   "outputs": [],
   "source": [
    "scatter(results_fit[2,:],results_fit[4,:,],xlabel=\"Feature value\", ylabel=\"Growth rate\",)\n",
    "hline!(unique(gr_sy_reg[3][:, 1]), label=[\"Eq. 1\" nothing], line=(3, :green, :dash))\n",
    "plot!(unique(results_fit[2,:]), unique(gr_sy_reg[3][:, 2]), label=[\"Eq. 2\" nothing], line=(3, :red))\n",
    "plot!(unique(results_fit[2,:]), unique(gr_sy_reg[3][:, 3]), label=[\"Eq. 3\" nothing], line=(3, :blue, :dashdot))\n",
    "plot!(unique(results_fit[2,:]), unique(gr_sy_reg[3][:, 4]), label=[\"Eq. 3\" nothing], line=(3, :blue, :dashdot))"
   ]
  },
  {
   "cell_type": "code",
   "execution_count": null,
   "id": "f876f85a",
   "metadata": {},
   "outputs": [],
   "source": [
    "plot!(unique(results_fit[2,:]), unique(gr_sy_reg[3][:, 5]), label=[\"Eq. 3\" nothing], line=(3, :blue, :dashdot))"
   ]
  }
 ],
 "metadata": {
  "jupytext": {
   "cell_metadata_filter": "-all",
   "main_language": "julia",
   "notebook_metadata_filter": "-all"
  }
 },
 "nbformat": 4,
 "nbformat_minor": 5
}
