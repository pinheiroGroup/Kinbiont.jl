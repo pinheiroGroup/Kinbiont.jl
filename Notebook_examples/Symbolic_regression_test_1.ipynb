{
 "cells": [
  {
   "cell_type": "code",
   "execution_count": null,
   "id": "b0ebc560",
   "metadata": {},
   "outputs": [],
   "source": [
    "using Kinbiont\n",
    "using DifferentialEquations\n",
    "using CSV\n",
    "using SymbolicRegression\n",
    "using Plots\n",
    "using StatsBase\n",
    "using Distributions"
   ]
  },
  {
   "cell_type": "markdown",
   "id": "0757ddcf",
   "metadata": {},
   "source": [
    "In this example, we will use Kinbiont to generate data about a single species. We suppose that the growth rate depends on an experimental feature (mu = 1 / (1 + feature)) that the user can tune (make different experiments).\n",
    "But we suppose that the user does not know how this experimental condition affects the growth rate. Then, we perform the experiment at different conditions and fit the data with a simple model, where the growth rate is an effective parameter fixed by the experimental condition (i.e., mu(feature) -> mu_eff).\n",
    "Finally, applying symbolic regression on the fitted results, we retrieve the relationship between the experimental feature and the effective growth rate."
   ]
  },
  {
   "cell_type": "code",
   "execution_count": null,
   "id": "959b7af4",
   "metadata": {},
   "outputs": [],
   "source": [
    "# We define the function that alters the growth rate\n",
    "function unknown_response(feature)\n",
    "    response = 1 / (1 + feature)\n",
    "    return response\n",
    "end"
   ]
  },
  {
   "cell_type": "code",
   "execution_count": null,
   "id": "c0b6daa5",
   "metadata": {},
   "outputs": [],
   "source": [
    "# Defining the used ODE model\n",
    "results_fit = Any"
   ]
  },
  {
   "cell_type": "code",
   "execution_count": null,
   "id": "8c5e3f1e",
   "metadata": {},
   "outputs": [],
   "source": [
    "ODE_models = \"baranyi_richards\""
   ]
  },
  {
   "cell_type": "code",
   "execution_count": null,
   "id": "21fe6841",
   "metadata": {},
   "outputs": [],
   "source": [
    "ub_1 = [0.2, 5.1, 500.0, 5.0]\n",
    "lb_1 = [0.0001, 0.1, 0.00, 0.2]\n",
    "p1_guess = lb_1 .+ (ub_1 .- lb_1) ./ 2"
   ]
  },
  {
   "cell_type": "code",
   "execution_count": null,
   "id": "4a1c0afd",
   "metadata": {},
   "outputs": [],
   "source": [
    "# Defining the range of the perturbation on feature\n",
    "feature_range = 0.0:0.4:4.0"
   ]
  },
  {
   "cell_type": "code",
   "execution_count": null,
   "id": "b356c3a0",
   "metadata": {},
   "outputs": [],
   "source": [
    "# Defining the parameters values for the simulation\n",
    "p_sim = [0.1, 1.0, 50.0, 1.0]\n",
    "psim_1_0 = p_sim[1]"
   ]
  },
  {
   "cell_type": "code",
   "execution_count": null,
   "id": "1be68a28",
   "metadata": {},
   "outputs": [],
   "source": [
    "t_min = 0.0\n",
    "t_max = 800.0\n",
    "n_start = [0.1]\n",
    "delta_t = 5.0\n",
    "noise_value = 0.02"
   ]
  },
  {
   "cell_type": "code",
   "execution_count": null,
   "id": "45a73e32",
   "metadata": {},
   "outputs": [],
   "source": [
    "plot(0, 0)\n",
    "for f in feature_range\n",
    "    # Changing the parameters with unknown perturbation\n",
    "    p_sim[1] = psim_1_0 * unknown_response(f)\n",
    "\n",
    "    # Calling the simulation function\n",
    "    sim = Kinbiont.ODE_sim(\"baranyi_richards\", n_start, t_min, t_max, delta_t, p_sim)\n",
    "\n",
    "    # Adding uniform random noise\n",
    "    noise_uniform = rand(Uniform(-noise_value, noise_value), length(sim.t))\n",
    "\n",
    "    data_t = reduce(hcat, sim.t)\n",
    "    data_o = reduce(hcat, sim.u)\n",
    "    data_OD = vcat(data_t, data_o)\n",
    "    data_OD[2, :] = data_OD[2, :] .+ noise_uniform\n",
    "\n",
    "    # Plotting scatterplot of data with noise\n",
    "    display(Plots.scatter!(data_OD[1, :], data_OD[2, :], xlabel=\"Time\", ylabel=\"Arb. Units\", label=nothing, color=:red, markersize=2, size=(300, 300)))\n",
    "\n",
    "    results_ODE_fit = fitting_one_well_ODE_constrained(\n",
    "        data_OD,\n",
    "        string(f),\n",
    "        \"test_ODE\",\n",
    "        \"baranyi_richards\",\n",
    "        p1_guess;\n",
    "        lb=lb_1,\n",
    "        ub=ub_1\n",
    "    )\n",
    "\n",
    "    display(Plots.plot!(results_ODE_fit[4], results_ODE_fit[3], xlabel=\"Time\", ylabel=\"Arb. Units\", label=nothing, color=:red, markersize=2, size=(300, 300)))\n",
    "\n",
    "    if f == feature_range[1]\n",
    "        results_fit = results_ODE_fit[2]\n",
    "    else\n",
    "        results_fit = hcat(results_fit, results_ODE_fit[2])\n",
    "    end\n",
    "end"
   ]
  },
  {
   "cell_type": "code",
   "execution_count": null,
   "id": "1faaa42d",
   "metadata": {},
   "outputs": [],
   "source": [
    "scatter(results_fit[2, :], results_fit[4, :], xlabel=\"Feature value\", ylabel=\"Growth rate\")"
   ]
  },
  {
   "cell_type": "code",
   "execution_count": null,
   "id": "0e01a6a1",
   "metadata": {},
   "outputs": [],
   "source": [
    "# Setting options for symbolic regression\n",
    "options = SymbolicRegression.Options(\n",
    "    binary_operators=[+, /, *, -],\n",
    "    unary_operators=[],\n",
    "    constraints=nothing,\n",
    "    elementwise_loss=nothing,\n",
    "    loss_function=nothing,\n",
    "    tournament_selection_n=12,\n",
    "    tournament_selection_p=0.86,\n",
    "    topn=12,\n",
    "    complexity_of_operators=nothing,\n",
    "    complexity_of_constants=nothing,\n",
    "    complexity_of_variables=nothing,\n",
    "    parsimony=0.05,\n",
    "    dimensional_constraint_penalty=nothing,\n",
    "    alpha=0.100000,\n",
    "    maxsize=10,\n",
    "    maxdepth=nothing\n",
    ")"
   ]
  },
  {
   "cell_type": "code",
   "execution_count": null,
   "id": "b2217037",
   "metadata": {},
   "outputs": [],
   "source": [
    "# Generating feature matrix\n",
    "# The first column is the label as a string of the feature value we used for the fitting labeling\n",
    "feature_matrix = [[string(f), f] for f in feature_range]\n",
    "feature_matrix = permutedims(reduce(hcat, feature_matrix))"
   ]
  },
  {
   "cell_type": "code",
   "execution_count": null,
   "id": "f110947e",
   "metadata": {},
   "outputs": [],
   "source": [
    "# Symbolic regression between the feature and the growth rate (4th row of the results_fit)\n",
    "gr_sy_reg = Kinbiont.downstream_symbolic_regression(results_fit, feature_matrix, 4; options=options)"
   ]
  },
  {
   "cell_type": "code",
   "execution_count": null,
   "id": "dce6dbc3",
   "metadata": {},
   "outputs": [],
   "source": [
    "scatter(results_fit[2, :], results_fit[4, :], xlabel=\"Feature value\", ylabel=\"Growth rate\")\n",
    "hline!(unique(gr_sy_reg[3][:, 1]), label=[\"Eq. 1\" nothing], line=(3, :green, :dash))\n",
    "plot!(unique(results_fit[2, :]), unique(gr_sy_reg[3][:, 2]), label=[\"Eq. 2\" nothing], line=(3, :red))\n",
    "plot!(unique(results_fit[2, :]), unique(gr_sy_reg[3][:, 3]), label=[\"Eq. 3\" nothing], line=(3, :blue, :dashdot))\n",
    "plot!(unique(results_fit[2, :]), unique(gr_sy_reg[3][:, 3]), label=[\"Eq. 3\" nothing], line=(3, :blue, :dashdot))"
   ]
  }
 ],
 "metadata": {
  "jupytext": {
   "cell_metadata_filter": "-all",
   "main_language": "julia",
   "notebook_metadata_filter": "-all"
  }
 },
 "nbformat": 4,
 "nbformat_minor": 5
}
