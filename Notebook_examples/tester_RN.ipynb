{
 "cells": [
  {
   "cell_type": "code",
   "execution_count": null,
   "id": "f7feb75e",
   "metadata": {},
   "outputs": [],
   "source": [
    "using Kinbiont\n",
    "using DifferentialEquations\n",
    "using OptimizationBBO\n",
    "using Plots\n",
    "using Catalyst\n",
    "using DiffEqParamEstim\n",
    "using Random\n",
    "using Distributions"
   ]
  },
  {
   "cell_type": "markdown",
   "id": "980e500a",
   "metadata": {},
   "source": [
    "--------------------------------------------------------------\n",
    "**Michaelis-Menten Reaction Network Simulation**\n",
    "--------------------------------------------------------------"
   ]
  },
  {
   "cell_type": "code",
   "execution_count": null,
   "id": "cf88e708",
   "metadata": {},
   "outputs": [],
   "source": [
    "# Initial conditions\n",
    "u0 = [:S => 301, :E => 100, :SE => 0, :P => 0]\n",
    "ps = [:kB => 0.00166, :kD => 0.0001, :kP => 0.1]"
   ]
  },
  {
   "cell_type": "code",
   "execution_count": null,
   "id": "a6ffa01a",
   "metadata": {},
   "outputs": [],
   "source": [
    "# Define Michaelis-Menten enzyme kinetics reaction network\n",
    "model_Michaelis_Menten = @reaction_network begin\n",
    "    kB, S + E --> SE\n",
    "    kD, SE --> S + E\n",
    "    kP, SE --> P + E\n",
    "end "
   ]
  },
  {
   "cell_type": "code",
   "execution_count": null,
   "id": "442a1476",
   "metadata": {},
   "outputs": [],
   "source": [
    "# Run simulation\n",
    "Simulation = Kinbiont.Kinbiont_Reaction_network_sim(\n",
    "    \"Michaelis_Menten\",\n",
    "    u0,\n",
    "    0.0, 10.0, 0.1, # Start time, end time, step size\n",
    "    ps\n",
    ")"
   ]
  },
  {
   "cell_type": "code",
   "execution_count": null,
   "id": "bf72e617",
   "metadata": {},
   "outputs": [],
   "source": [
    "# Plot the simulation results\n",
    "plot(Simulation)"
   ]
  },
  {
   "cell_type": "code",
   "execution_count": null,
   "id": "73e73740",
   "metadata": {},
   "outputs": [],
   "source": [
    "# --------------------------------------------------------------\n",
    "# **Generate Noisy Data for Fitting**\n",
    "# --------------------------------------------------------------\n",
    "sol_time = reduce(hcat, Simulation.t)\n",
    "sol_t = reduce(hcat, Simulation.u)"
   ]
  },
  {
   "cell_type": "code",
   "execution_count": null,
   "id": "48aa2a47",
   "metadata": {},
   "outputs": [],
   "source": [
    "# Add noise to the dataset\n",
    "noise = rand(Uniform(-0.01, 0.05), size(sol_t))\n",
    "sol_t_noise = sol_t .+ noise\n",
    "data = vcat(sol_time, permutedims(sol_t_noise))"
   ]
  },
  {
   "cell_type": "code",
   "execution_count": null,
   "id": "c1f49d0a",
   "metadata": {},
   "outputs": [],
   "source": [
    "# Scatter plot of noisy data\n",
    "scatter(data[1, :], data[2, :], label=\"S\")\n",
    "scatter!(data[1, :], data[3, :], label=\"E\")\n",
    "scatter!(data[1, :], data[4, :], label=\"SE\")\n",
    "scatter!(data[1, :], data[5, :], label=\"P\")"
   ]
  },
  {
   "cell_type": "code",
   "execution_count": null,
   "id": "a2eafde4",
   "metadata": {},
   "outputs": [],
   "source": [
    "# --------------------------------------------------------------\n",
    "# **Fit Michaelis-Menten Model to Data**\n",
    "# --------------------------------------------------------------\n",
    "fit = RN_fit(data, model_Michaelis_Menten, u0, ps)\n",
    "plot!(fit[4])  # Overlay fit result on the plot"
   ]
  },
  {
   "cell_type": "markdown",
   "id": "3e1bce63",
   "metadata": {},
   "source": [
    "--------------------------------------------------------------\n",
    "**Glycolysis Reaction Network**\n",
    "--------------------------------------------------------------"
   ]
  },
  {
   "cell_type": "code",
   "execution_count": null,
   "id": "85814893",
   "metadata": {},
   "outputs": [],
   "source": [
    "model_Glycolysis = @reaction_network begin\n",
    "    (kf1, kr1), Glucose + ATP <--> Glucose6P + ADP\n",
    "    (kf2, kr2), Glucose6P <--> Fructose6P\n",
    "    (kf3, kr3), Fructose6P + ATP <--> Fructose16BP + ADP\n",
    "    (kf4, kr4), Fructose16BP <--> DHAP + GAP\n",
    "    (kf5, kr5), DHAP <--> GAP\n",
    "    (kf6, kr6), GAP + NADplus + Pi <--> BPG13 + NADH + Hplus\n",
    "    (kf7, kr7), BPG13 + ADP <--> PG3 + ATP\n",
    "    (kf8, kr8), PG3 <--> PG2\n",
    "    (kf9, kr9), PG2 <--> PEP + H2O\n",
    "    (kf10, kr10), PEP + ADP <--> Pyruvate + ATP\n",
    "end"
   ]
  },
  {
   "cell_type": "code",
   "execution_count": null,
   "id": "19bd0bbc",
   "metadata": {},
   "outputs": [],
   "source": [
    "# Initial conditions\n",
    "u0_glycolysis = [\n",
    "    :Glucose => 100, :ATP => 200, :Glucose6P => 0, \n",
    "    :Fructose6P => 0, :Fructose16BP => 0, :DHAP => 0, \n",
    "    :GAP => 0, :NADplus => 100, :NADH => 0, :Pi => 100, \n",
    "    :BPG13 => 0, :PG3 => 0, :PG2 => 0, :PEP => 0, \n",
    "    :Pyruvate => 0, :ADP => 0, :H2O => 0, :Hplus => 0\n",
    "]"
   ]
  },
  {
   "cell_type": "code",
   "execution_count": null,
   "id": "e640444d",
   "metadata": {},
   "outputs": [],
   "source": [
    "# Parameters\n",
    "ps_glycolysis = [\n",
    "    :kf1 => 0.0011, :kr1 => 0.005, \n",
    "    :kf2 => 0.005, :kr2 => 0.002, \n",
    "    :kf3 => 0.02, :kr3 => 0.01, \n",
    "    :kf4 => 0.015, :kr4 => 0.007, \n",
    "    :kf5 => 0.01, :kr5 => 0.005, \n",
    "    :kf6 => 0.02, :kr6 => 0.01, \n",
    "    :kf7 => 0.03, :kr7 => 0.015, \n",
    "    :kf8 => 0.01, :kr8 => 0.005, \n",
    "    :kf9 => 0.008, :kr9 => 0.004, \n",
    "    :kf10 => 0.04, :kr10 => 0.02\n",
    "]"
   ]
  },
  {
   "cell_type": "code",
   "execution_count": null,
   "id": "05f2a7d3",
   "metadata": {},
   "outputs": [],
   "source": [
    "# Simulate Glycolysis\n",
    "Simulation = Kinbiont.Kinbiont_Reaction_network_sim(\n",
    "    model_Glycolysis,\n",
    "    u0_glycolysis,\n",
    "    0.0, 30.0, 0.1, \n",
    "    ps_glycolysis\n",
    ")"
   ]
  },
  {
   "cell_type": "code",
   "execution_count": null,
   "id": "8681062b",
   "metadata": {},
   "outputs": [],
   "source": [
    "plot(Simulation)"
   ]
  },
  {
   "cell_type": "code",
   "execution_count": null,
   "id": "daf5b9d9",
   "metadata": {},
   "outputs": [],
   "source": [
    "# --------------------------------------------------------------\n",
    "# **TCA Cycle Reaction Network**\n",
    "# --------------------------------------------------------------\n",
    "model_TCA_cycle = @reaction_network begin\n",
    "    k1, Acetyl_CoA + Oxaloacetate + H2O --> Citrate\n",
    "    k2, Citrate --> Isocitrate\n",
    "    k3, Isocitrate + NAD_plus --> α_Ketoglutarate + NADH + CO2 + H_plus\n",
    "    k4, α_Ketoglutarate + NAD_plus + H2O --> Succinyl_CoA + NADH + CO2 + H_plus\n",
    "    k5, Succinyl_CoA --> Succinate\n",
    "    k6, Succinate + NAD_plus --> Fumarate + NADH + H_plus\n",
    "    k7, Fumarate + H2O --> Malate\n",
    "    k8, Malate + NAD_plus --> Oxaloacetate + NADH + H_plus\n",
    "end"
   ]
  },
  {
   "cell_type": "code",
   "execution_count": null,
   "id": "fad2617d",
   "metadata": {},
   "outputs": [],
   "source": [
    "# Initial conditions\n",
    "u0_TCA = [\n",
    "    :Acetyl_CoA => 1, :Citrate => 0, :Isocitrate => 0, :α_Ketoglutarate => 0,\n",
    "    :Succinyl_CoA => 0, :Succinate => 0, :Fumarate => 0, :Malate => 0, :Oxaloacetate => 0,\n",
    "    :H2O => 10, :NAD_plus => 10, :NADH => 0, :CO2 => 0, :H_plus => 0\n",
    "]"
   ]
  },
  {
   "cell_type": "code",
   "execution_count": null,
   "id": "eb800318",
   "metadata": {},
   "outputs": [],
   "source": [
    "# Parameters\n",
    "ps_TCA = [\n",
    "    :k1 => 1.0, :k2 => 1.0, :k3 => 1.0, :k4 => 1.0,\n",
    "    :k5 => 1.0, :k6 => 1.0, :k7 => 1.0, :k8 => 1.0\n",
    "]"
   ]
  },
  {
   "cell_type": "code",
   "execution_count": null,
   "id": "026ec87c",
   "metadata": {},
   "outputs": [],
   "source": [
    "# Simulate TCA Cycle\n",
    "Simulation = Kinbiont.Kinbiont_Reaction_network_sim(\n",
    "    model_TCA_cycle,\n",
    "    u0_TCA,\n",
    "    0.0, 30.0, 0.1,\n",
    "    ps_TCA\n",
    ")"
   ]
  },
  {
   "cell_type": "code",
   "execution_count": null,
   "id": "1de5d3c6",
   "metadata": {},
   "outputs": [],
   "source": [
    "plot(Simulation)"
   ]
  }
 ],
 "metadata": {
  "jupytext": {
   "cell_metadata_filter": "-all",
   "main_language": "julia",
   "notebook_metadata_filter": "-all"
  }
 },
 "nbformat": 4,
 "nbformat_minor": 5
}
