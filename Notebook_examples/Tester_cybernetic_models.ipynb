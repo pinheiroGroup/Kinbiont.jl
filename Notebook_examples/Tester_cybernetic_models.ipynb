{
 "cells": [
  {
   "cell_type": "code",
   "execution_count": null,
   "id": "a3537a2d",
   "metadata": {},
   "outputs": [],
   "source": [
    "using Kinbiont\n",
    "using DifferentialEquations\n",
    "using OptimizationBBO\n",
    "using NaNMath\n",
    "using Plots\n",
    "using Distributions\n",
    "using Optimization"
   ]
  },
  {
   "cell_type": "markdown",
   "id": "698d1e23",
   "metadata": {},
   "source": [
    "-------------------------------------------------------------------------------\n",
    "Cybernetic Models in Kinbiont\n",
    "-------------------------------------------------------------------------------\n",
    "This script demonstrates the following:\n",
    "1. Setting up a **Kinbiont Cybernetic Model** with predefined parameters.\n",
    "2. Running a simulation of biomass and substrate dynamics.\n",
    "3. Fitting experimental data to the model using **Kinbiont's optimization tools**.\n",
    "-------------------------------------------------------------------------------"
   ]
  },
  {
   "cell_type": "code",
   "execution_count": null,
   "id": "2406ef3d",
   "metadata": {
    "lines_to_next_cell": 2
   },
   "outputs": [],
   "source": [
    "# ------------------------------------------------------------------------------\n",
    "# Step 1: Define a Cybernetic Model with Known Parameters\n",
    "# ------------------------------------------------------------------------------\n",
    "function threshold_switching_rule(a, b, V_S, k_S, Y_S, P, S, cost, protein_thresholds)\n",
    "    n = length(S)\n",
    "    alloc = zeros(n)\n",
    "    # Sort substrates by descending utilization rate (V_S)\n",
    "    sorted_indices = sortperm(V_S, rev=true)\n",
    "\n",
    "    for i in sorted_indices\n",
    "        if S[i] > protein_thresholds\n",
    "            alloc[i] = 1.0    # Allocate all resources to this substrate\n",
    "            break\n",
    "        end\n",
    "    end\n",
    "\n",
    "    # If no substrate is above the threshold, fallback to equal allocation\n",
    "    if sum(alloc) == 0\n",
    "        alloc .= 1.0 / n\n",
    "    end\n",
    "\n",
    "    return alloc\n",
    "end"
   ]
  },
  {
   "cell_type": "code",
   "execution_count": null,
   "id": "e4e4abc0",
   "metadata": {},
   "outputs": [],
   "source": [
    "import Kinbiont.Kinbiont_Cybernetic_Model\n",
    "# Define the Kinbiont Cybernetic Model with specific parameters\n",
    "model = Kinbiont_Cybernetic_Model(\n",
    "    Bio_mass_conc = 1.0,  # Initial biomass concentration\n",
    "    Substrate_concentrations = [3.0, 3.0],  # Concentrations of 2 substrates\n",
    "    Protein_concentrations = [0.0, 0.0],  # Initial protein concentrations\n",
    "    allocation_rule = threshold_switching_rule,  # Dynamic resource allocation rule\n",
    "    reaction = nothing,  # No specific reaction function provided\n",
    "    cost = nothing,  # No cost function\n",
    "    protein_thresholds = 0.01,  # Protein activation threshold\n",
    "    a = [0.1, 0.4],  # Synthesis rate constants for proteins\n",
    "    b = [0.00001, 0.000001],  # Degradation constants for proteins\n",
    "    V_S = [0.7, 0.1],  # Substrate utilization rates\n",
    "    k_S = [0.1, 0.11],  # Saturation constants for substrates\n",
    "    Y_S = [0.07, 0.11]  # Yield coefficients for biomass per substrate\n",
    ")"
   ]
  },
  {
   "cell_type": "code",
   "execution_count": null,
   "id": "a0d01468",
   "metadata": {},
   "outputs": [],
   "source": [
    "# ------------------------------------------------------------------------------\n",
    "# Step 2: Run a Simulation of the Cybernetic Model\n",
    "# ------------------------------------------------------------------------------\n",
    "# Simulate the model over time (from t=0 to t=100) with a time step of 0.1.\n",
    "# We use the Tsit5 solver for integration.\n",
    "simulation = Kinbiont_Cybernetic_Model_simulation(model, 0.0, 100.0, 0.1; Integration_method = Tsit5())"
   ]
  },
  {
   "cell_type": "code",
   "execution_count": null,
   "id": "d2a70cea",
   "metadata": {},
   "outputs": [],
   "source": [
    "# Plot the results of the simulation\n",
    "plot(simulation)"
   ]
  },
  {
   "cell_type": "code",
   "execution_count": null,
   "id": "d1425d84",
   "metadata": {},
   "outputs": [],
   "source": [
    "# ------------------------------------------------------------------------------\n",
    "# Step 3: Prepare Data for Model Fitting\n",
    "# ------------------------------------------------------------------------------\n",
    "# Extract the data (biomass, substrate, and protein concentrations over time) from the simulation.\n",
    "# Prepare the data in the format expected for model fitting.\n",
    "data_to_fit = hcat(simulation.t, reduce(hcat, simulation.u)[1,:])\n",
    "data_to_fit = hcat(data_to_fit, reduce(hcat, simulation.u)[2,:])\n",
    "data_to_fit = hcat(data_to_fit, reduce(hcat, simulation.u)[3,:])\n",
    "data_to_fit = hcat(data_to_fit, reduce(hcat,simulation.u)[4,:])\n",
    "data_to_fit = hcat(data_to_fit, reduce(hcat, simulation.u)[5,:])\n",
    "data_to_fit = permutedims(data_to_fit)  # Convert data to column-major order"
   ]
  },
  {
   "cell_type": "code",
   "execution_count": null,
   "id": "4c8f7915",
   "metadata": {},
   "outputs": [],
   "source": [
    "# ------------------------------------------------------------------------------\n",
    "# Step 4: Define a Cybernetic Model with Unknown Parameters for Fitting\n",
    "# ------------------------------------------------------------------------------\n",
    "# Set up a new Kinbiont model where certain parameters (a, V_S) are unknown and will be fitted.\n",
    "model_fit = Kinbiont_Cybernetic_Model(\n",
    "    Bio_mass_conc = 1.01,  # Initial biomass concentration\n",
    "    Substrate_concentrations = [2.0, 5.0],  # Initial substrate concentrations\n",
    "    Protein_concentrations = [0.0, 0.0],  # No initial protein concentrations\n",
    "    allocation_rule = proportional_allocation_rule,  # Another dynamic allocation rule\n",
    "    reaction = nothing,  # No specific reaction function\n",
    "    cost = nothing,  # No cost function\n",
    "    protein_thresholds = 0.01,  # Protein activation threshold\n",
    "    a = [nothing, 0.1],  # One synthesis rate is unknown (to be fitted)\n",
    "    b = [0.00001, 0.000001],  # Known degradation constants\n",
    "    V_S = [nothing, 0.4],  # One substrate utilization rate is unknown (to be fitted)\n",
    "    k_S = [0.1, 0.11],  # Saturation constants\n",
    "    Y_S = [0.07, 0.11]  # Yield coefficients\n",
    ")"
   ]
  },
  {
   "cell_type": "code",
   "execution_count": null,
   "id": "5faf0f62",
   "metadata": {},
   "outputs": [],
   "source": [
    "# ------------------------------------------------------------------------------\n",
    "# Step 5: Fit the Cybernetic Model to Experimental Data\n",
    "# ------------------------------------------------------------------------------\n",
    "# Use the `fit_Cybernetic_models` function to fit the model parameters to experimental data.\n",
    "# The data_to_fit contains the time series of biomasses and other curves for model fitting.\n",
    "results = fit_Cybernetic_models(\n",
    "    data_to_fit,  # Experimental data to fit\n",
    "    \"test\",  # Name of the dataset for reference\n",
    "    model_fit,  # Cybernetic model with unknown parameters to fit\n",
    "    [0.01, 0.1];  # Initial guesses for the unknown parameters (a and V_S)\n",
    "    set_of_equations_to_fit = nothing  # No a sub set of equations to  fit\n",
    ")"
   ]
  },
  {
   "cell_type": "code",
   "execution_count": null,
   "id": "83f043cc",
   "metadata": {},
   "outputs": [],
   "source": [
    "plot(results[3])  # Plot the fitted model"
   ]
  }
 ],
 "metadata": {
  "jupytext": {
   "cell_metadata_filter": "-all",
   "main_language": "julia",
   "notebook_metadata_filter": "-all"
  }
 },
 "nbformat": 4,
 "nbformat_minor": 5
}
