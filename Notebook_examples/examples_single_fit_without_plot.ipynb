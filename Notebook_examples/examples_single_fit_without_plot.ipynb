{
 "cells": [
  {
   "cell_type": "code",
   "execution_count": null,
   "id": "e9fafb01",
   "metadata": {},
   "outputs": [],
   "source": [
    "using Kinbiont\n",
    "using DifferentialEquations\n",
    "using CSV\n",
    "using Distributions\n",
    "using StatsBase\n",
    "using OptimizationBBO\n",
    "using Optimization\n",
    "using OptimizationOptimJL"
   ]
  },
  {
   "cell_type": "code",
   "execution_count": null,
   "id": "da264851",
   "metadata": {},
   "outputs": [],
   "source": [
    "# Simulating data with an ODE\n",
    "model = \"triple_piecewise_adjusted_logistic\"\n",
    "n_start = [0.1]\n",
    "tstart = 0.0\n",
    "tmax = 500.0\n",
    "delta_t = 15.0"
   ]
  },
  {
   "cell_type": "code",
   "execution_count": null,
   "id": "a5f6ac76",
   "metadata": {},
   "outputs": [],
   "source": [
    "param_of_ode = [0.06, 1.0, 200, 0.5, 0.001, 450, -0.0002]"
   ]
  },
  {
   "cell_type": "code",
   "execution_count": null,
   "id": "dae7d13a",
   "metadata": {},
   "outputs": [],
   "source": [
    "# Calling the simulation function\n",
    "sim = ODE_sim(model, n_start, tstart, tmax, delta_t, param_of_ode)"
   ]
  },
  {
   "cell_type": "code",
   "execution_count": null,
   "id": "72043eb3",
   "metadata": {
    "lines_to_next_cell": 2
   },
   "outputs": [],
   "source": [
    "# Plotting scatterplot of data without noise\n",
    "Plots.scatter(sim, xlabel=\"Time\", ylabel=\"Arb. Units\", label=[\"Data \" nothing], color=:blue, size=(300, 300))"
   ]
  },
  {
   "cell_type": "code",
   "execution_count": null,
   "id": "38707622",
   "metadata": {
    "lines_to_next_cell": 2
   },
   "outputs": [],
   "source": [
    "#adding uniform random noise\n",
    "noise_unifom = rand(Uniform(-0.05,0.05),length(sim.t))"
   ]
  },
  {
   "cell_type": "code",
   "execution_count": null,
   "id": "bfd50b86",
   "metadata": {},
   "outputs": [],
   "source": [
    "data_t = reduce(hcat,sim.t)\n",
    "data_o = reduce(hcat,sim.u)\n",
    "data_OD = vcat(data_t,data_o)\n",
    "data_OD[2,:] = data_OD[2,:] .+ noise_unifom\n",
    "# ploting scatterplot of data with noise"
   ]
  },
  {
   "cell_type": "code",
   "execution_count": null,
   "id": "a057066e",
   "metadata": {
    "lines_to_next_cell": 2
   },
   "outputs": [],
   "source": [
    "Plots.scatter(data_OD[1,:],data_OD[2,:], xlabel=\"Time\", ylabel=\"Arb. Units\", label=[\"Data \" nothing],color=:red,markersize =2 ,size = (300,300))"
   ]
  },
  {
   "cell_type": "code",
   "execution_count": null,
   "id": "b731e101",
   "metadata": {
    "lines_to_next_cell": 2
   },
   "outputs": [],
   "source": [
    "res_log_lin = fitting_one_well_Log_Lin(\n",
    "    data_OD, # dataset first row times second row OD\n",
    "   \"test\", # name of the well\n",
    "    \"test log-lin fitting\"; #label of the experiment\n",
    "    type_of_smoothing=\"rolling_avg\", # type of smoothing\n",
    "    pt_avg=7, # number of the point for rolling avg not used in the other cases\n",
    "    pt_smoothing_derivative=7, # number of poits to smooth the derivative\n",
    "    pt_min_size_of_win=7, # minimum size of the exp windows in number of smooted points\n",
    ")"
   ]
  },
  {
   "cell_type": "markdown",
   "id": "b7dffa5e",
   "metadata": {
    "lines_to_next_cell": 2
   },
   "source": [
    "Fitting with ODE"
   ]
  },
  {
   "cell_type": "code",
   "execution_count": null,
   "id": "87766632",
   "metadata": {},
   "outputs": [],
   "source": [
    "model =\"aHPM\"\n",
    "# Upper bounds of the parameters of the ODE"
   ]
  },
  {
   "cell_type": "code",
   "execution_count": null,
   "id": "286a743a",
   "metadata": {},
   "outputs": [],
   "source": [
    "# Lower bounds of the parameters of the ODE\n",
    "P_GUESS = [0.01, 0.001, 1.00, 1]\n",
    "ub_ahpm = P_GUESS.*4\n",
    "lb_ahpm = P_GUESS./4\n",
    "# Performing ODE fitting WITHOUT RESTART \n",
    "@time results_ODE_fit = fitting_one_well_ODE_constrained(\n",
    "    data_OD, \n",
    "    \"test\",\n",
    "    \"test_ODE\",\n",
    "    model,\n",
    "    P_GUESS;\n",
    ")"
   ]
  },
  {
   "cell_type": "markdown",
   "id": "c5c6c985",
   "metadata": {},
   "source": [
    "Performing ODE fitting WITH BOUNDS AND RESTART "
   ]
  },
  {
   "cell_type": "code",
   "execution_count": null,
   "id": "7421524a",
   "metadata": {},
   "outputs": [],
   "source": [
    "@time results_ODE_fit = fitting_one_well_ODE_constrained(\n",
    "    data_OD, \n",
    "    \"test\",\n",
    "    \"test_ODE\",\n",
    "    model,\n",
    "    P_GUESS;\n",
    "    multistart = true,\n",
    "   lb = lb_ahpm,\n",
    "   ub = ub_ahpm"
   ]
  },
  {
   "cell_type": "code",
   "execution_count": null,
   "id": "fb9b1bdd",
   "metadata": {},
   "outputs": [],
   "source": [
    ")"
   ]
  },
  {
   "cell_type": "code",
   "execution_count": null,
   "id": "78dd1374",
   "metadata": {},
   "outputs": [],
   "source": []
  },
  {
   "cell_type": "markdown",
   "id": "04b22b43",
   "metadata": {},
   "source": [
    "Performing ODE fitting WITH BOUNDS "
   ]
  },
  {
   "cell_type": "code",
   "execution_count": null,
   "id": "37943eec",
   "metadata": {},
   "outputs": [],
   "source": [
    "@time results_ODE_fit = fitting_one_well_ODE_constrained(\n",
    "    data_OD, \n",
    "    \"test\",\n",
    "    \"test_ODE\",\n",
    "    model,\n",
    "    P_GUESS;\n",
    "    optimizer =BBO_adaptive_de_rand_1_bin_radiuslimited(),\n",
    "    lb = lb_ahpm,\n",
    "   ub = ub_ahpm"
   ]
  },
  {
   "cell_type": "code",
   "execution_count": null,
   "id": "8fc45d22",
   "metadata": {},
   "outputs": [],
   "source": [
    ")"
   ]
  },
  {
   "cell_type": "code",
   "execution_count": null,
   "id": "1b578bba",
   "metadata": {
    "lines_to_next_cell": 2
   },
   "outputs": [],
   "source": []
  },
  {
   "cell_type": "code",
   "execution_count": null,
   "id": "b5d600ee",
   "metadata": {},
   "outputs": [],
   "source": [
    "# performing fitting \n",
    "# Custom ODE function\n",
    "function ODE_custom(du, u, param, t)\n",
    "    du[1] = u[1] * (1 - u[1]) * param[2] + param[1] * u[1]\n",
    "end\n",
    "custom_ub = [1.2, 1.1]\n",
    "custom_lb = [0.0001, 0.00000001]"
   ]
  },
  {
   "cell_type": "code",
   "execution_count": null,
   "id": "06ad2320",
   "metadata": {},
   "outputs": [],
   "source": [
    "param_guess = [0.01,2.0]"
   ]
  },
  {
   "cell_type": "code",
   "execution_count": null,
   "id": "892ae490",
   "metadata": {
    "lines_to_next_cell": 2
   },
   "outputs": [],
   "source": [
    "# Performing custom ODE fitting without restart\n",
    "@time results_ODE_fit = fitting_one_well_custom_ODE(\n",
    "    data_OD, # dataset first row times second row OD\n",
    "   \"test\", # name of the well\n",
    "    \"test custom ode\", #label of the experiment\n",
    "   ODE_custom, # ode model to use\n",
    "   param_guess,\n",
    "    1; # number ode in the system\n",
    "  )"
   ]
  },
  {
   "cell_type": "markdown",
   "id": "a866d5f5",
   "metadata": {},
   "source": [
    "Performing custom ODE fitting with restart"
   ]
  },
  {
   "cell_type": "code",
   "execution_count": null,
   "id": "33787be0",
   "metadata": {},
   "outputs": [],
   "source": [
    "@time results_ODE_fit = fitting_one_well_custom_ODE(\n",
    "    data_OD, # dataset first row times second row OD\n",
    "   \"test\", # name of the well\n",
    "    \"test custom ode\", #label of the experiment\n",
    "   ODE_custom, # ode model to use\n",
    "   param_guess,\n",
    "    1; # number ode in the system\n",
    "    multistart = true,\n",
    "   lb = custom_lb,\n",
    "   ub = custom_ub    )\n",
    "\n",
    "   Plots.scatter(data_OD[1,:],data_OD[2,:], xlabel=\"Time\", ylabel=\"Arb. Units\", label=[\"Data \" nothing],color=:red,markersize =2 ,size = (300,300))\n",
    "   Plots.plot!(results_ODE_fit[4],results_ODE_fit[3], xlabel=\"Time\", ylabel=\"Arb. Units\", label=[\"fit \" nothing],color=:red,markersize =2 ,size = (300,300))"
   ]
  },
  {
   "cell_type": "code",
   "execution_count": null,
   "id": "c4a0bacd",
   "metadata": {
    "lines_to_next_cell": 2
   },
   "outputs": [],
   "source": [
    "# Number of steps for Morris sensitivity analysis\n",
    "n_step_sensitivity = 2\n",
    "P_GUESS = [0.01, 0.001, 1.00, 1]\n",
    "ub_ahpm = P_GUESS.*5\n",
    "lb_ahpm = P_GUESS./5\n",
    "# Performing Morris sensitivity analysis\n",
    "@time sensitivity_test = one_well_morris_sensitivity(\n",
    "    data_OD, \n",
    "    \"test\",\n",
    "     \"test_sensitivity\",\n",
    "      \"aHPM\", \n",
    "      lb_ahpm,\n",
    "       ub_ahpm,\n",
    "    N_step_morris=n_step_sensitivity ;\n",
    ")"
   ]
  },
  {
   "cell_type": "code",
   "execution_count": null,
   "id": "85972885",
   "metadata": {},
   "outputs": [],
   "source": [
    "@time sensitivity_test = one_well_morris_sensitivity(\n",
    "    data_OD, \n",
    "    \"test\",\n",
    "     \"test_sensitivity\",\n",
    "      \"aHPM\", \n",
    "      lb_ahpm,\n",
    "       ub_ahpm,\n",
    "    N_step_morris=n_step_sensitivity ;\n",
    "    multistart=true\n",
    ")"
   ]
  },
  {
   "cell_type": "code",
   "execution_count": null,
   "id": "b3512445",
   "metadata": {},
   "outputs": [],
   "source": [
    "# Models candidates and their parameter bounds\n",
    "list_of_models = [\"aHPM\",   \"baranyi_roberts\"]\n",
    "ub_1 =[ 0.1 , 0.1 , 0.1 , 5.001    ]\n",
    "lb_1 =[ 0.0001 , 0.001,0.0  , 0.001 ]\n",
    "p1_guess = lb_1 .+ (ub_1.-lb_1)./2"
   ]
  },
  {
   "cell_type": "code",
   "execution_count": null,
   "id": "8af35570",
   "metadata": {
    "lines_to_next_cell": 2
   },
   "outputs": [],
   "source": []
  },
  {
   "cell_type": "code",
   "execution_count": null,
   "id": "120411a9",
   "metadata": {},
   "outputs": [],
   "source": [
    "ub_4 =[ 1.2 , 5.1 , 500.0  ,5.0,5.0  ]\n",
    "lb_4 =[ 0.0001 , 0.1, 0.00 ,0.2,0.2 ]\n",
    "p4_guess = lb_4 .+ (ub_4.-lb_4)./2"
   ]
  },
  {
   "cell_type": "code",
   "execution_count": null,
   "id": "06b9d22c",
   "metadata": {},
   "outputs": [],
   "source": [
    "list_ub = [ub_1, ub_4]\n",
    "list_lb =[lb_1,  lb_4]\n",
    "list_guess = [p1_guess,  p4_guess]"
   ]
  },
  {
   "cell_type": "code",
   "execution_count": null,
   "id": "9a091bce",
   "metadata": {},
   "outputs": [],
   "source": [
    "# Performing model selection without box\n",
    "results_ms = ODE_Model_selection(\n",
    "    data_OD,\n",
    "    \"test\", \n",
    "    \"test_model_selection\",\n",
    "    list_of_models,\n",
    "    list_guess;\n",
    ")"
   ]
  },
  {
   "cell_type": "code",
   "execution_count": null,
   "id": "d1e5f457",
   "metadata": {
    "lines_to_next_cell": 2
   },
   "outputs": [],
   "source": [
    "# Performing model selection with box and multistart\n",
    "results_ms = ODE_Model_selection(\n",
    "    data_OD,\n",
    "    \"test\", \n",
    "    \"test_model_selection\",\n",
    "    list_of_models,\n",
    "    list_guess;\n",
    "    multistart = true,\n",
    "    lb_param_array = list_lb,\n",
    "    ub_param_array = list_ub  \n",
    ")"
   ]
  },
  {
   "cell_type": "markdown",
   "id": "8c7df314",
   "metadata": {},
   "source": [
    "testing NL fitting"
   ]
  },
  {
   "cell_type": "code",
   "execution_count": null,
   "id": "d17e0818",
   "metadata": {},
   "outputs": [],
   "source": [
    "nl_model = [\"NL_Richards\"]\n",
    "p_guess = [[1.0,1.0,0.01,300.0]]\n",
    "lb_nl =[[0.01,0.01,0.000001,00.01]]\n",
    "ub_nl =p_guess.*3"
   ]
  },
  {
   "cell_type": "code",
   "execution_count": null,
   "id": "762f537a",
   "metadata": {
    "lines_to_next_cell": 2
   },
   "outputs": [],
   "source": []
  },
  {
   "cell_type": "code",
   "execution_count": null,
   "id": "34fbfb8f",
   "metadata": {},
   "outputs": [],
   "source": [
    "# single fit\n",
    "@time nl_fit = NL_model_selection(data_OD, # dataset first row times second row OD\n",
    "\"test\", \n",
    "\"test_model_selection\",\n",
    "nl_model, #  model to use\n",
    "p_guess;\n",
    ")"
   ]
  },
  {
   "cell_type": "code",
   "execution_count": null,
   "id": "924c2dad",
   "metadata": {},
   "outputs": [],
   "source": [
    "Plots.scatter(data_OD[1,:],data_OD[2,:], xlabel=\"Time\", ylabel=\"Arb. Units\", label=[\"Data \" nothing],color=:red,markersize =2 ,size = (300,300))\n",
    "Plots.plot!(nl_fit[4],nl_fit[3], xlabel=\"Time\", ylabel=\"Arb. Units\", label=[\"fit \" nothing],color=:red,markersize =2 ,size = (300,300))"
   ]
  },
  {
   "cell_type": "code",
   "execution_count": null,
   "id": "eae5ca71",
   "metadata": {},
   "outputs": [],
   "source": [
    "# single fit with box\n",
    "@time nl_fit =  NL_model_selection(data_OD, # dataset first row times second row OD\n",
    "\"test\", \n",
    "\"test_model_selection\",\n",
    "nl_model, #  model to use\n",
    "p_guess;\n",
    "optimizer =BBO_adaptive_de_rand_1_bin_radiuslimited(),\n",
    "#multistart = true,\n",
    "lb_param_array =lb_nl,\n",
    "ub_param_array = ub_nl"
   ]
  },
  {
   "cell_type": "code",
   "execution_count": null,
   "id": "8c3c8a01",
   "metadata": {},
   "outputs": [],
   "source": [
    ")\n",
    "# single fit with box and multistart\n",
    "@time nl_fit =  NL_model_selection(data_OD, # dataset first row times second row OD\n",
    "\"test\", \n",
    "\"test_model_selection\",\n",
    "nl_model, #  model to use\n",
    "p_guess;\n",
    "#optimizer =BBO_adaptive_de_rand_1_bin_radiuslimited(),\n",
    "multistart = true,\n",
    "lb_param_array =lb_nl,\n",
    "ub_param_array = ub_nl"
   ]
  },
  {
   "cell_type": "code",
   "execution_count": null,
   "id": "01bfa723",
   "metadata": {
    "lines_to_next_cell": 2
   },
   "outputs": [],
   "source": [
    ")"
   ]
  },
  {
   "cell_type": "code",
   "execution_count": null,
   "id": "3fa3a766",
   "metadata": {},
   "outputs": [],
   "source": [
    "# single fit with box  gradient\n",
    "@time nl_fit =  NL_model_selection(data_OD, # dataset first row times second row OD\n",
    "\"test\", \n",
    "\"test_model_selection\",\n",
    "nl_model, #  model to use\n",
    "p_guess;\n",
    "#multistart = true,\n",
    "optimizer= BFGS(), \n",
    "auto_diff_method = Optimization.AutoFiniteDiff()"
   ]
  },
  {
   "cell_type": "code",
   "execution_count": null,
   "id": "73723745",
   "metadata": {},
   "outputs": [],
   "source": [
    ")"
   ]
  },
  {
   "cell_type": "code",
   "execution_count": null,
   "id": "8d8c3200",
   "metadata": {},
   "outputs": [],
   "source": []
  },
  {
   "cell_type": "code",
   "execution_count": null,
   "id": "f8db1e6d",
   "metadata": {},
   "outputs": [],
   "source": [
    "# single fit with box  gradient\n",
    "@time nl_fit =  NL_model_selection(data_OD, # dataset first row times second row OD\n",
    "\"test\", \n",
    "\"test_model_selection\",\n",
    "nl_model, #  model to use\n",
    "p_guess;\n",
    "#multistart = true,\n",
    "optimizer= BFGS(), \n",
    "auto_diff_method = Optimization.AutoFiniteDiff()"
   ]
  },
  {
   "cell_type": "code",
   "execution_count": null,
   "id": "375e8513",
   "metadata": {},
   "outputs": [],
   "source": [
    ")"
   ]
  },
  {
   "cell_type": "code",
   "execution_count": null,
   "id": "6caddc56",
   "metadata": {},
   "outputs": [],
   "source": []
  },
  {
   "cell_type": "markdown",
   "id": "5da5f78f",
   "metadata": {
    "lines_to_next_cell": 2
   },
   "source": [
    "Bootstrap"
   ]
  },
  {
   "cell_type": "code",
   "execution_count": null,
   "id": "28d99f05",
   "metadata": {
    "lines_to_next_cell": 2
   },
   "outputs": [],
   "source": [
    "@time nl_fit =  NL_model_selection(data_OD, # dataset first row times second row OD\n",
    "\"test\", \n",
    "\"test_model_selection\",\n",
    "nl_model, #  model to use\n",
    "p_guess;\n",
    "nrep =5,\n",
    "method_of_fitting =\"Bootstrap\",\n",
    ")"
   ]
  },
  {
   "cell_type": "code",
   "execution_count": null,
   "id": "59833711",
   "metadata": {},
   "outputs": [],
   "source": [
    "# single fit with box  \n",
    "@time nl_fit =  NL_model_selection(data_OD, # dataset first row times second row OD\n",
    "\"test\", \n",
    "\"test_model_selection\",\n",
    "nl_model, #  model to use\n",
    "p_guess;\n",
    "method_of_fitting =\"Bootstrap\",\n",
    "multistart = true,\n",
    "nrep =5,\n",
    "lb_param_array = lb_nl,\n",
    "ub_param_array = ub_nl\n",
    ")"
   ]
  },
  {
   "cell_type": "code",
   "execution_count": null,
   "id": "772d845a",
   "metadata": {},
   "outputs": [],
   "source": []
  },
  {
   "cell_type": "markdown",
   "id": "451ebfb0",
   "metadata": {},
   "source": [
    "sensitivity_test works only with box constrains"
   ]
  },
  {
   "cell_type": "code",
   "execution_count": null,
   "id": "96042856",
   "metadata": {},
   "outputs": [],
   "source": []
  },
  {
   "cell_type": "code",
   "execution_count": null,
   "id": "895d5e7e",
   "metadata": {},
   "outputs": [],
   "source": [
    "# single fit with box  \n",
    "@time nl_fit =  NL_model_selection(data_OD, # dataset first row times second row OD\n",
    "\"test\", \n",
    "\"test_model_selection\",\n",
    "nl_model, #  model to use\n",
    "p_guess;\n",
    "nrep =3,\n",
    "method_of_fitting =\"Morris_sensitivity\",\n",
    "multistart = true,\n",
    "lb_param_array = lb_nl,\n",
    "ub_param_array = ub_nl\n",
    ")"
   ]
  },
  {
   "cell_type": "code",
   "execution_count": null,
   "id": "f5944730",
   "metadata": {
    "lines_to_next_cell": 2
   },
   "outputs": [],
   "source": []
  },
  {
   "cell_type": "markdown",
   "id": "81761be2",
   "metadata": {},
   "source": [
    "model selection"
   ]
  },
  {
   "cell_type": "code",
   "execution_count": null,
   "id": "2437c7d8",
   "metadata": {},
   "outputs": [],
   "source": []
  }
 ],
 "metadata": {
  "jupytext": {
   "cell_metadata_filter": "-all",
   "main_language": "julia",
   "notebook_metadata_filter": "-all"
  }
 },
 "nbformat": 4,
 "nbformat_minor": 5
}
