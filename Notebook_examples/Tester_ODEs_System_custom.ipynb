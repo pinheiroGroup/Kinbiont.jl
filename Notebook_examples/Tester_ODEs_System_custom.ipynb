{
 "cells": [
  {
   "cell_type": "code",
   "execution_count": null,
   "id": "f5a6dfb2",
   "metadata": {},
   "outputs": [],
   "source": [
    "using Kinbiont\n",
    "using DifferentialEquations\n",
    "using OptimizationBBO\n",
    "using NaNMath\n",
    "using Plots\n",
    "using Distributions"
   ]
  },
  {
   "cell_type": "markdown",
   "id": "e5fd45d6",
   "metadata": {},
   "source": [
    "------------------------------------------------------------------------------\n",
    "Macromolecular Crowding and Enzyme Aggregation Model\n",
    "------------------------------------------------------------------------------\n",
    "Background:\n",
    "The cytosol of cells is highly crowded with macromolecules, occupying 20-44% \n",
    "of the total cellular volume. This crowding increases with the specific \n",
    "growth rate (SGR) and affects metabolic rates due to:\n",
    "1. Increased viscosity, restricting diffusion.\n",
    "2. Shifts in biochemical equilibria, favoring macromolecular aggregation.\n",
    "\n",
    "One key unresolved aspect is how enzyme aggregation impacts metabolic dynamics. \n",
    "To address this, we model enzyme aggregation as a reversible process:\n",
    "- Free enzymes (E) bind together to form inactive aggregates (En).\n",
    "- Aggregates can dissociate back into active enzymes with the help of chaperones.\n",
    "- This process directly affects the available enzymatic activity in the cell.\n",
    "\n",
    "Below, we implement a **simple kinetic mechanism** for this aggregation process.\n",
    "------------------------------------------------------------------------------"
   ]
  },
  {
   "cell_type": "code",
   "execution_count": null,
   "id": "3a0d0e98",
   "metadata": {},
   "outputs": [],
   "source": [
    "# ------------------------------------------------------------------------------\n",
    "# Step 1: Define the Enzyme Aggregation Model (ODE System)\n",
    "# ------------------------------------------------------------------------------\n",
    "function enzyme_aggregation(du, u, param, t)\n",
    "    # Unpacking state variables:\n",
    "    e, x, y, m = u  \n",
    "    # e  -> Free active enzymes\n",
    "    # x  -> Enzyme-substrate complex\n",
    "    # y  -> Aggregates (inactive enzyme forms)\n",
    "    # m  -> Substrate concentration\n",
    "\n",
    "    # Unpacking parameters:\n",
    "    k1, k2, k3, k4, k_cat, n = param  \n",
    "    # k1, k2 -> Aggregation/dissociation rates\n",
    "    # k3, k4 -> Substrate binding/release rates\n",
    "    # k_cat  -> Catalytic rate\n",
    "    # n      -> Hill coefficient (cooperativity in aggregation)\n",
    "\n",
    "    # ODE System:\n",
    "    du[1] = k4 * x - k3 * m * e + k2 * y^n - k1 * e + k_cat * x  # Free enzyme balance\n",
    "    du[2] = k3 * m * e - k4 * x - k_cat * x                      # Enzyme-substrate complex\n",
    "    du[3] = k1 * e - k2 * y^n                                    # Inactive enzyme aggregates\n",
    "    du[4] = -du[1]                                              # Substrate degradation rate\n",
    "end"
   ]
  },
  {
   "cell_type": "code",
   "execution_count": null,
   "id": "c1e6b4b1",
   "metadata": {},
   "outputs": [],
   "source": [
    "# ------------------------------------------------------------------------------\n",
    "# Step 2: Define Initial Conditions and Parameters\n",
    "# ------------------------------------------------------------------------------\n",
    "u0 = [1.0, 0.1, 0.1, 1.0]  # Initial conditions: [e, x, y, m]"
   ]
  },
  {
   "cell_type": "code",
   "execution_count": null,
   "id": "e87bb4ff",
   "metadata": {},
   "outputs": [],
   "source": [
    "param = [0.1, 0.1, 0.05, 0.05, 0.02, 2]  \n",
    "# Parameter list: [k1, k2, k3, k4, k_cat, n]"
   ]
  },
  {
   "cell_type": "code",
   "execution_count": null,
   "id": "d6cbe9ce",
   "metadata": {},
   "outputs": [],
   "source": [
    "# ------------------------------------------------------------------------------\n",
    "# Step 3: Run the Simulation\n",
    "# ------------------------------------------------------------------------------\n",
    "Simulation = ODEs_system_sim(\n",
    "    enzyme_aggregation, # Custom ODE function\n",
    "    u0,  # Initial conditions\n",
    "    0.0, # Start time\n",
    "    30.0, # End time\n",
    "    1.0, # Time step for Poisson approximation\n",
    "    param # Model parameters\n",
    ")"
   ]
  },
  {
   "cell_type": "code",
   "execution_count": null,
   "id": "4ce4ed46",
   "metadata": {},
   "outputs": [],
   "source": [
    "# ------------------------------------------------------------------------------\n",
    "# Step 4: Plot the Simulated Data\n",
    "# ------------------------------------------------------------------------------\n",
    "scatter(Simulation)  # Scatter plot of the simulation results"
   ]
  },
  {
   "cell_type": "code",
   "execution_count": null,
   "id": "c6759cf8",
   "metadata": {},
   "outputs": [],
   "source": [
    "# ------------------------------------------------------------------------------\n",
    "# Step 5: Add Noise and Format Data for Kinbiont\n",
    "# ------------------------------------------------------------------------------\n",
    "sol_time = reduce(hcat, Simulation.t) # Extract time points\n",
    "sol_t = reduce(hcat, Simulation.u)    # Extract solution values"
   ]
  },
  {
   "cell_type": "code",
   "execution_count": null,
   "id": "9152df29",
   "metadata": {},
   "outputs": [],
   "source": [
    "# Adding uniform random noise to the simulated data\n",
    "noise_uniform = rand(Uniform(-0.05, 0.05), size(sol_t)[2])\n",
    "sol_t_noise = [sol_t[i, :] .+ rand(Uniform(-0.05, 0.05), size(sol_t)[2]) for i in 1:size(sol_t)[1]]\n",
    "sol_t_noise = permutedims(reduce(hcat, sol_t_noise))"
   ]
  },
  {
   "cell_type": "code",
   "execution_count": null,
   "id": "5ee53cf9",
   "metadata": {},
   "outputs": [],
   "source": [
    "# Combine time and noisy solution data into a single matrix\n",
    "data = vcat(sol_time, sol_t_noise)"
   ]
  },
  {
   "cell_type": "code",
   "execution_count": null,
   "id": "a6720633",
   "metadata": {},
   "outputs": [],
   "source": [
    "# ------------------------------------------------------------------------------\n",
    "# Step 6: Plot Noisy Data\n",
    "# ------------------------------------------------------------------------------\n",
    "display(scatter(data[1, :], data[2, :]))  # Free enzymes\n",
    "display(scatter!(data[1, :], data[3, :])) # Enzyme-substrate complex\n",
    "display(scatter!(data[1, :], data[4, :])) # Aggregates\n",
    "display(scatter!(data[1, :], data[5, :])) # Substrate"
   ]
  },
  {
   "cell_type": "code",
   "execution_count": null,
   "id": "982fce7a",
   "metadata": {},
   "outputs": [],
   "source": [
    "# ------------------------------------------------------------------------------\n",
    "# Step 7: Fit the Model Using Kinbiont\n",
    "# ------------------------------------------------------------------------------\n",
    "fit = fit_ODEs_System(\n",
    "    data,\n",
    "    \"test\",  # Label for dataset\n",
    "    enzyme_aggregation,  # Custom ODE function\n",
    "    param,  # Initial parameter guess\n",
    "    u0  # Initial conditions\n",
    ")"
   ]
  },
  {
   "cell_type": "code",
   "execution_count": null,
   "id": "8f8e2907",
   "metadata": {},
   "outputs": [],
   "source": [
    "# ------------------------------------------------------------------------------\n",
    "# Step 8: Plot the Fitted Model\n",
    "# ------------------------------------------------------------------------------\n",
    "plot!(fit[3])  # Overlay fitted model on the data"
   ]
  }
 ],
 "metadata": {
  "jupytext": {
   "cell_metadata_filter": "-all",
   "main_language": "julia",
   "notebook_metadata_filter": "-all"
  }
 },
 "nbformat": 4,
 "nbformat_minor": 5
}
