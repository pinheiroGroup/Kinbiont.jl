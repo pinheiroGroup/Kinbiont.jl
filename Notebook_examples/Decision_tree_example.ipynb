{
 "cells": [
  {
   "cell_type": "code",
   "execution_count": null,
   "id": "90db4341",
   "metadata": {},
   "outputs": [],
   "source": [
    "using Kinbiont\n",
    "using Plots\n",
    "using StatsBase\n",
    "using AbstractTrees\n",
    "using MLJDecisionTreeInterface\n",
    "using TreeRecipe\n",
    "using DecisionTree\n",
    "using Distributions\n",
    "using Random"
   ]
  },
  {
   "cell_type": "markdown",
   "id": "2b1f1c68",
   "metadata": {},
   "source": [
    "In this example, we will use Kinbiont to generate data about a single species that is exposed to different antibiotics, both alone and in different combinations.\n",
    "We generate a simple function that modifies the growth rate of the species according to the antibiotics present in the media. We suppose that the user repeats the experiment, fits the data, and finally applies a decision tree algorithm using the antibiotics present in the media as features and the growth rate of the model as the quantity to predict.\n",
    "We show how we can decompose the effect of the antibiotics on the kinetics."
   ]
  },
  {
   "cell_type": "code",
   "execution_count": null,
   "id": "98d61de5",
   "metadata": {},
   "outputs": [],
   "source": [
    "# We initialize the array for the results\n",
    "results_fit = Any"
   ]
  },
  {
   "cell_type": "markdown",
   "id": "24a42ea3",
   "metadata": {},
   "source": [
    "We initialize the model, the guess, and the bounds to fit"
   ]
  },
  {
   "cell_type": "code",
   "execution_count": null,
   "id": "37c0e686",
   "metadata": {},
   "outputs": [],
   "source": [
    "ODE_models = \"baranyi_richards\""
   ]
  },
  {
   "cell_type": "code",
   "execution_count": null,
   "id": "20d9ba6b",
   "metadata": {},
   "outputs": [],
   "source": [
    "ub_1 = [0.2, 5.1, 500.0, 5.0]\n",
    "lb_1 = [0.0001, 0.2, 0.00, 0.2]\n",
    "p1_guess = lb_1 .+ (ub_1 .- lb_1) ./ 2"
   ]
  },
  {
   "cell_type": "markdown",
   "id": "7720f0cd",
   "metadata": {},
   "source": [
    "We use the following rules to modify the growth rate of the species according to the antibiotics present in the media"
   ]
  },
  {
   "cell_type": "code",
   "execution_count": null,
   "id": "55a93981",
   "metadata": {},
   "outputs": [],
   "source": [
    "function transform_abx_vector(input_vector::Vector, mu::Float64)\n",
    "    \n",
    "    # Define concentration mapping rules\n",
    "    concentration_map = Dict(\n",
    "        (1, 0, 0) => 1.0 ,    # abx_1 -> μ\n",
    "        (0, 1, 0) => 0.5 ,    # abx_2 -> 0.5μ\n",
    "        (0, 0, 1) => 0.3 ,    # abx_3 -> 0.3μ\n",
    "        (1, 1, 0) => 0.0 ,    # abx_1 + abx_2 -> 0μ\n",
    "        (1, 0, 1) => 0.3 ,    # abx_1 + abx_3 -> 0.3μ\n",
    "        (0, 1, 1) => 0.0 ,    # abx_2 + abx_3 -> 0μ\n",
    "        (1, 1, 1) => 0.0,     # abx_1 + abx_2 + abx_3 -> 0.0μ\n",
    "        (0, 0, 0) => 1.0      # No antibiotics -> 1.0μ\n",
    "    )\n",
    "    \n",
    "    mu_correct = concentration_map[Tuple(input_vector[2:end])] * mu   # Default to 0μ if not found\n",
    "    return mu_correct\n",
    "end"
   ]
  },
  {
   "cell_type": "code",
   "execution_count": null,
   "id": "a056c1ed",
   "metadata": {},
   "outputs": [],
   "source": [
    "# Generating the random matrix of the features\n",
    "# Define the dimensions of the matrix\n",
    "cols = 3\n",
    "n_experiment = 100"
   ]
  },
  {
   "cell_type": "code",
   "execution_count": null,
   "id": "a5ed9006",
   "metadata": {},
   "outputs": [],
   "source": [
    "# Generate a random matrix with 0s and 1s (antibiotic not present or present)\n",
    "random_matrix = rand(0:1, n_experiment, cols)\n",
    "labels = string.(1:1:n_experiment)\n",
    "random_matrix = hcat(labels, random_matrix)\n",
    "random_matrix"
   ]
  },
  {
   "cell_type": "code",
   "execution_count": null,
   "id": "0a6c7afa",
   "metadata": {},
   "outputs": [],
   "source": [
    "# Defining the parameter values for the simulation \n",
    "p_sim = [0.05, 1.0, 50.0, 1.0]\n",
    "psim_1_0 = p_sim[1]\n",
    "p1_array = [transform_abx_vector(random_matrix[f, :], psim_1_0) for f in 1:size(random_matrix)[1]]"
   ]
  },
  {
   "cell_type": "code",
   "execution_count": null,
   "id": "7ccfbe38",
   "metadata": {},
   "outputs": [],
   "source": [
    "t_min = 0.0\n",
    "t_max = 800.0\n",
    "n_start = [0.1]\n",
    "delta_t = 10.0\n",
    "noise_value = 0.03"
   ]
  },
  {
   "cell_type": "code",
   "execution_count": null,
   "id": "913c7c3e",
   "metadata": {},
   "outputs": [],
   "source": [
    "plot(0, 0)\n",
    "for f in 1:size(random_matrix)[1]\n",
    "\n",
    "    # Changing the growth rate given the antibiotics present in the media\n",
    "    p_sim[1] = transform_abx_vector(random_matrix[f, :], psim_1_0)\n",
    "\n",
    "    # Calling the simulation function\n",
    "    sim = Kinbiont.ODE_sim(\"baranyi_richards\", n_start, t_min, t_max, delta_t, p_sim)\n",
    "\n",
    "    # Adding uniform random noise\n",
    "    noise_uniform = rand(Uniform(-noise_value, noise_value), length(sim.t))\n",
    "\n",
    "    data_t = reduce(hcat, sim.t)\n",
    "    data_o = reduce(hcat, sim.u)\n",
    "    data_OD = vcat(data_t, data_o)\n",
    "    data_OD[2, :] = data_OD[2, :] .+ noise_uniform\n",
    "    # Plotting scatterplot of data with noise\n",
    "\n",
    "    display(Plots.scatter!(data_OD[1, :], data_OD[2, :], xlabel=\"Time\", ylabel=\"Arb. Units\", label=nothing, color=:red, markersize=2, size=(300, 300)))\n",
    "    \n",
    "    # Fit\n",
    "    results_ODE_fit = fitting_one_well_ODE_constrained(\n",
    "        data_OD,\n",
    "        string(random_matrix[f, 1]),\n",
    "        \"test_ODE\",\n",
    "        \"baranyi_richards\",\n",
    "        p1_guess;\n",
    "        lb=lb_1,\n",
    "        ub=ub_1\n",
    "    )\n",
    "    \n",
    "    # Plot fit\n",
    "    display(Plots.plot!(results_ODE_fit[4], results_ODE_fit[3], xlabel=\"Time\", ylabel=\"Arb. Units\", label=nothing, color=:red, markersize=2, size=(300, 300)))\n",
    "\n",
    "    # Storing results\n",
    "    if f == 1\n",
    "        results_fit = results_ODE_fit[2]\n",
    "    else\n",
    "        results_fit = hcat(results_fit, results_ODE_fit[2])\n",
    "    end"
   ]
  },
  {
   "cell_type": "code",
   "execution_count": null,
   "id": "012e1ba1",
   "metadata": {},
   "outputs": [],
   "source": [
    "end"
   ]
  },
  {
   "cell_type": "code",
   "execution_count": null,
   "id": "98842772",
   "metadata": {},
   "outputs": [],
   "source": [
    "# Parameters of the decision tree\n",
    "n_folds = 10\n",
    "depth = -1 "
   ]
  },
  {
   "cell_type": "code",
   "execution_count": null,
   "id": "a4e9ad93",
   "metadata": {},
   "outputs": [],
   "source": [
    "# Set random seed for reproducibility\n",
    "seed = Random.seed!(1234)"
   ]
  },
  {
   "cell_type": "code",
   "execution_count": null,
   "id": "6613d489",
   "metadata": {},
   "outputs": [],
   "source": [
    "# Generating feature matrix\n",
    "# The first column is the label as a string of the feature values we used for fitting\n",
    "feature_matrix = vcat([\"label\" \"abx_1\" \"abx_2\" \"abx_3\"], random_matrix)\n",
    "feature_names = [\"abx_1\", \"abx_2\", \"abx_3\"]"
   ]
  },
  {
   "cell_type": "code",
   "execution_count": null,
   "id": "a2aaeb51",
   "metadata": {},
   "outputs": [],
   "source": [
    "# Decision tree regression between the antibiotics present in the media and the growth rate of the species\n",
    "dt_gr = Kinbiont.downstream_decision_tree_regression(results_fit,\n",
    "        feature_matrix,\n",
    "        4; # Row to learn\n",
    "        do_pruning=false,\n",
    "        verbose=true,\n",
    "        do_cross_validation=true,\n",
    "        max_depth=depth,\n",
    "        n_folds_cv=n_folds,\n",
    "        seed=seed\n",
    "    )"
   ]
  },
  {
   "cell_type": "code",
   "execution_count": null,
   "id": "2c526955",
   "metadata": {},
   "outputs": [],
   "source": [
    "# Wrap the decision tree model for visualization\n",
    "wt = DecisionTree.wrap(dt_gr[1], (featurenames = feature_names,))"
   ]
  },
  {
   "cell_type": "code",
   "execution_count": null,
   "id": "0e2c0417",
   "metadata": {},
   "outputs": [],
   "source": [
    "# Plot the decision tree\n",
    "p2 = Plots.plot(wt, 0.9, 0.2; size=(1400, 700), connect_labels=[\"yes\", \"no\"])"
   ]
  }
 ],
 "metadata": {
  "jupytext": {
   "cell_metadata_filter": "-all",
   "main_language": "julia",
   "notebook_metadata_filter": "-all"
  }
 },
 "nbformat": 4,
 "nbformat_minor": 5
}
