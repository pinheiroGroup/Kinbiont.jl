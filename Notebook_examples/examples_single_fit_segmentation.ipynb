{
 "cells": [
  {
   "cell_type": "code",
   "execution_count": null,
   "id": "34ed6a3d",
   "metadata": {},
   "outputs": [],
   "source": [
    "using Kinbiont\n",
    "using DifferentialEquations\n",
    "using CSV\n",
    "using Distributions\n",
    "using StatsBase\n",
    "using OptimizationBBO\n",
    "using Optimization\n",
    "using OptimizationOptimJL\n",
    "using Plots"
   ]
  },
  {
   "cell_type": "markdown",
   "id": "de52f0e5",
   "metadata": {
    "lines_to_next_cell": 2
   },
   "source": [
    "Now i generate data with change point"
   ]
  },
  {
   "cell_type": "markdown",
   "id": "4cefd165",
   "metadata": {},
   "source": [
    "first segment ODE"
   ]
  },
  {
   "cell_type": "code",
   "execution_count": null,
   "id": "2a971326",
   "metadata": {},
   "outputs": [],
   "source": [
    "model = \"logistic\"\n",
    "n_start =[0.1]\n",
    "tstart =0.0"
   ]
  },
  {
   "cell_type": "code",
   "execution_count": null,
   "id": "0b1c29c4",
   "metadata": {},
   "outputs": [],
   "source": [
    "tmax = 0100.0\n",
    "delta_t=2.0\n",
    "param_of_ode= [0.1,0.2]"
   ]
  },
  {
   "cell_type": "code",
   "execution_count": null,
   "id": "81c8c5cf",
   "metadata": {},
   "outputs": [],
   "source": [
    "sim_1 = ODE_sim(model, #string of the model\n",
    "    n_start, # starting condition\n",
    "    tstart, # start time of the sim\n",
    "    tmax, # final time of the sim\n",
    "    delta_t, # delta t for poisson approx\n",
    "    param_of_ode # parameters of the ODE model\n",
    ")"
   ]
  },
  {
   "cell_type": "code",
   "execution_count": null,
   "id": "0b062f63",
   "metadata": {},
   "outputs": [],
   "source": [
    "sol_1 =reduce(vcat,sim_1)"
   ]
  },
  {
   "cell_type": "markdown",
   "id": "4679e980",
   "metadata": {
    "lines_to_next_cell": 2
   },
   "source": [
    "second segment ODE"
   ]
  },
  {
   "cell_type": "code",
   "execution_count": null,
   "id": "91474081",
   "metadata": {
    "lines_to_next_cell": 2
   },
   "outputs": [],
   "source": [
    "model = \"logistic\"\n",
    "n_start =[sol_1[end]]\n",
    "tstart =100.0\n",
    "tmax = 0200.0\n",
    "delta_t=2.0\n",
    "param_of_ode= [0.2,0.5]"
   ]
  },
  {
   "cell_type": "code",
   "execution_count": null,
   "id": "0c149ee4",
   "metadata": {},
   "outputs": [],
   "source": [
    "sim_2= ODE_sim(model, #string of the model\n",
    "    n_start, # starting condition\n",
    "    tstart, # start time of the sim\n",
    "    tmax, # final time of the sim\n",
    "    delta_t, # delta t for poisson approx\n",
    "    param_of_ode # parameters of the ODE model\n",
    ")"
   ]
  },
  {
   "cell_type": "code",
   "execution_count": null,
   "id": "f16082c5",
   "metadata": {
    "lines_to_next_cell": 2
   },
   "outputs": [],
   "source": [
    "sol_2 =reduce(vcat,sim_2)\n",
    "# third segment ODE"
   ]
  },
  {
   "cell_type": "code",
   "execution_count": null,
   "id": "3095aea2",
   "metadata": {},
   "outputs": [],
   "source": [
    "model = \"logistic\"\n",
    "n_start =[sol_2[end]]\n",
    "tstart =200.0\n",
    "tmax = 0300.0\n",
    "delta_t=2.0\n",
    "param_of_ode= [0.1,0.9]"
   ]
  },
  {
   "cell_type": "code",
   "execution_count": null,
   "id": "7066ad8d",
   "metadata": {},
   "outputs": [],
   "source": [
    "sim_3= ODE_sim(model, #string of the model\n",
    "    n_start, # starting condition\n",
    "    tstart, # start time of the sim\n",
    "    tmax, # final time of the sim\n",
    "    delta_t, # delta t for poisson approx\n",
    "    param_of_ode # parameters of the ODE model\n",
    ")"
   ]
  },
  {
   "cell_type": "code",
   "execution_count": null,
   "id": "c08f19bd",
   "metadata": {},
   "outputs": [],
   "source": [
    "sol_3 =reduce(vcat,sim_3)\n",
    "times_sim =vcat(sim_1.t,sim_2.t)\n",
    "times_sim =vcat(times_sim,sim_3.t)"
   ]
  },
  {
   "cell_type": "code",
   "execution_count": null,
   "id": "e94318c9",
   "metadata": {
    "lines_to_next_cell": 2
   },
   "outputs": [],
   "source": [
    "# binding the simulatios\n",
    "sol_sim =vcat(sol_1,sol_2)\n",
    "sol_sim =vcat(sol_sim,sol_3)"
   ]
  },
  {
   "cell_type": "code",
   "execution_count": null,
   "id": "ae105fed",
   "metadata": {},
   "outputs": [],
   "source": [
    "Plots.scatter(times_sim,sol_sim, xlabel=\"Time\", ylabel=\"Arb. Units\", label=[\"Data \" nothing],  color=:blue, size = (300,300))"
   ]
  },
  {
   "cell_type": "code",
   "execution_count": null,
   "id": "d814696f",
   "metadata": {},
   "outputs": [],
   "source": []
  },
  {
   "cell_type": "code",
   "execution_count": null,
   "id": "2b908cf4",
   "metadata": {},
   "outputs": [],
   "source": [
    "data_OD = Matrix(transpose(hcat(times_sim,sol_sim)))"
   ]
  },
  {
   "cell_type": "code",
   "execution_count": null,
   "id": "e1907c56",
   "metadata": {},
   "outputs": [],
   "source": [
    "# Adding uniform noise to the dataset\n",
    "noise_uniform = rand(Uniform(-0.01, 0.01), length(sol_sim))\n",
    "data_OD = Matrix(transpose(hcat(times_sim, sol_sim)))\n",
    "data_OD[2, :] = data_OD[2, :] .+ noise_uniform"
   ]
  },
  {
   "cell_type": "code",
   "execution_count": null,
   "id": "90135db6",
   "metadata": {},
   "outputs": [],
   "source": []
  },
  {
   "cell_type": "code",
   "execution_count": null,
   "id": "1314cea2",
   "metadata": {},
   "outputs": [],
   "source": [
    "# Initializing all the models for selection\n",
    "ub_exp = [0.1]\n",
    "lb_exp = [-0.01]\n",
    "p1_guess = lb_exp .+(ub_exp.-lb_exp)/.2"
   ]
  },
  {
   "cell_type": "code",
   "execution_count": null,
   "id": "105a472e",
   "metadata": {},
   "outputs": [],
   "source": [
    "ub_logistic = [0.9, 5.0]\n",
    "lb_logistic = [0.0001, 0.001]\n",
    "p2_guess = lb_logistic .+(ub_logistic.-lb_logistic)/.2"
   ]
  },
  {
   "cell_type": "code",
   "execution_count": null,
   "id": "9f5c970e",
   "metadata": {
    "lines_to_next_cell": 2
   },
   "outputs": [],
   "source": [
    "ub_hpm = [0.1, 20.0, 50.001]\n",
    "lb_hpm = [0.0001, 0.000001, 0.001]\n",
    "p3_guess = lb_hpm .+(ub_hpm.-lb_hpm)/.2"
   ]
  },
  {
   "cell_type": "code",
   "execution_count": null,
   "id": "82217480",
   "metadata": {},
   "outputs": [],
   "source": [
    "list_of_models = [\"exponential\",  \"logistic\",\"HPM\"]\n",
    "list_ub_param = [ub_exp,ub_logistic, ub_hpm]\n",
    "list_lb_param = [lb_exp, lb_logistic,lb_hpm]\n",
    "list_guess = [p1_guess, p2_guess, p3_guess]\n",
    "# fitting fixed cp\n",
    "cdp_list = [100.0, 200.0]"
   ]
  },
  {
   "cell_type": "code",
   "execution_count": null,
   "id": "2c405edb",
   "metadata": {
    "lines_to_next_cell": 2
   },
   "outputs": [],
   "source": [
    "@time seg_fitting = selection_ODE_fixed_intervals(\n",
    "   data_OD, # dataset first row times second row OD\n",
    "    \"test\", # name of the well\n",
    "    \"\", #label of the experiment\n",
    "    list_of_models, # ode models to use\n",
    "    list_guess,\n",
    "    cdp_list;\n",
    "    beta_smoothing_ms=2.0, #  parameter of the AIC penality\n",
    "    correction_AIC=true,\n",
    ")\n",
    "Plots.scatter(data_OD[1, :], data_OD[2, :], xlabel=\"Time\", ylabel=\"Arb. Units\", label=[\"Data \" nothing], color=:blue, markersize=2, size=(300, 300))\n",
    "Plots.plot!(seg_fitting[3], seg_fitting[4], xlabel=\"Time\", ylabel=\"Arb. Units\", label=[\"fit \" nothing], color=:red, markersize=2, size=(300, 300))"
   ]
  },
  {
   "cell_type": "code",
   "execution_count": null,
   "id": "c0d87527",
   "metadata": {},
   "outputs": [],
   "source": [
    "seg_fitting = selection_ODE_fixed_intervals(\n",
    "   data_OD, # dataset first row times second row OD\n",
    "    \"test\", # name of the well\n",
    "    \"\", #label of the experiment\n",
    "    list_of_models, # ode models to use\n",
    "    list_guess,\n",
    "    cdp_list;\n",
    "    lb_param_array=list_lb_param, # lower bound param\n",
    "    ub_param_array=list_ub_param, # upper bound param\n",
    "    beta_smoothing_ms=2.0, #  parameter of the AIC penality\n",
    "    correction_AIC=true,\n",
    "    multistart=true,"
   ]
  },
  {
   "cell_type": "code",
   "execution_count": null,
   "id": "d5416ca2",
   "metadata": {},
   "outputs": [],
   "source": [
    ")\n",
    "Plots.scatter(data_OD[1, :], data_OD[2, :], xlabel=\"Time\", ylabel=\"Arb. Units\", label=[\"Data \" nothing], color=:blue, markersize=2, size=(300, 300))\n",
    "Plots.plot!(seg_fitting[3], seg_fitting[4], xlabel=\"Time\", ylabel=\"Arb. Units\", label=[\"fit \" nothing], color=:red, markersize=2, size=(300, 300))\n",
    "# fitting fixed number of cp"
   ]
  },
  {
   "cell_type": "code",
   "execution_count": null,
   "id": "75278410",
   "metadata": {},
   "outputs": [],
   "source": [
    "@time seg_fitting = segmentation_ODE(\n",
    "   data_OD, # dataset first row times second row OD\n",
    "    \"test\", # name of the well\n",
    "    \"\", #label of the experiment\n",
    "    list_of_models, # ode models to use\n",
    "    list_guess,\n",
    "    2;\n",
    "    detect_number_cpd=true,\n",
    "    fixed_cpd=false,\n",
    "    beta_smoothing_ms=2.0, #  parameter of the AIC penality\n",
    "    correction_AIC=true,\n",
    ")"
   ]
  },
  {
   "cell_type": "code",
   "execution_count": null,
   "id": "27c5f249",
   "metadata": {
    "lines_to_next_cell": 2
   },
   "outputs": [],
   "source": [
    "Plots.scatter(data_OD[1, :], data_OD[2, :], xlabel=\"Time\", ylabel=\"Arb. Units\", label=[\"Data \" nothing], color=:blue, markersize=2, size=(300, 300))\n",
    "Plots.plot!(seg_fitting[4], seg_fitting[3], xlabel=\"Time\", ylabel=\"Arb. Units\", label=[\"fit \" nothing], color=:red, markersize=2, size=(300, 300))"
   ]
  },
  {
   "cell_type": "code",
   "execution_count": null,
   "id": "7b137337",
   "metadata": {},
   "outputs": [],
   "source": [
    "@time seg_fitting = segmentation_ODE(\n",
    "   data_OD, # dataset first row times second row OD\n",
    "    \"test\", # name of the well\n",
    "    \"\", #label of the experiment\n",
    "    list_of_models, # ode models to use\n",
    "    list_guess,\n",
    "    2;\n",
    "    detect_number_cpd=false,\n",
    "    fixed_cpd=false,\n",
    "    beta_smoothing_ms=2.0, #  parameter of the AIC penality\n",
    "    correction_AIC=true,\n",
    ")"
   ]
  },
  {
   "cell_type": "code",
   "execution_count": null,
   "id": "9b845d8f",
   "metadata": {},
   "outputs": [],
   "source": [
    "Plots.scatter(data_OD[1, :], data_OD[2, :], xlabel=\"Time\", ylabel=\"Arb. Units\", label=[\"Data \" nothing], color=:blue, markersize=2, size=(300, 300))\n",
    "Plots.plot!(seg_fitting[4], seg_fitting[3], xlabel=\"Time\", ylabel=\"Arb. Units\", label=[\"fit \" nothing], color=:red, markersize=2, size=(300, 300))"
   ]
  },
  {
   "cell_type": "code",
   "execution_count": null,
   "id": "7163982e",
   "metadata": {},
   "outputs": [],
   "source": []
  },
  {
   "cell_type": "code",
   "execution_count": null,
   "id": "d335cdd8",
   "metadata": {},
   "outputs": [],
   "source": [
    "@time seg_fitting = segmentation_ODE(\n",
    "   data_OD, # dataset first row times second row OD\n",
    "    \"test\", # name of the well\n",
    "    \"\", #label of the experiment\n",
    "    list_of_models, # ode models to use\n",
    "    list_guess,\n",
    "    2;\n",
    "    detect_number_cpd=false,\n",
    "    fixed_cpd=true,\n",
    "    beta_smoothing_ms=2.0, #  parameter of the AIC penality\n",
    "    correction_AIC=true,\n",
    ")"
   ]
  },
  {
   "cell_type": "code",
   "execution_count": null,
   "id": "381f050a",
   "metadata": {},
   "outputs": [],
   "source": [
    "Plots.scatter(data_OD[1, :], data_OD[2, :], xlabel=\"Time\", ylabel=\"Arb. Units\", label=[\"Data \" nothing], color=:blue, markersize=2, size=(300, 300))\n",
    "Plots.plot!(seg_fitting[4], seg_fitting[3], xlabel=\"Time\", ylabel=\"Arb. Units\", label=[\"fit \" nothing], color=:red, markersize=2, size=(300, 300))"
   ]
  },
  {
   "cell_type": "markdown",
   "id": "a5ba1024",
   "metadata": {},
   "source": [
    "testing restart"
   ]
  },
  {
   "cell_type": "code",
   "execution_count": null,
   "id": "13e69163",
   "metadata": {},
   "outputs": [],
   "source": [
    "@time seg_fitting = segmentation_ODE(\n",
    "   data_OD, # dataset first row times second row OD\n",
    "    \"test\", # name of the well\n",
    "    \"\", #label of the experiment\n",
    "    list_of_models, # ode models to use\n",
    "    list_guess,\n",
    "    2;\n",
    "    detect_number_cpd=false,\n",
    "    fixed_cpd=true,\n",
    "    multistart =true,\n",
    "    beta_smoothing_ms=2.0, #  parameter of the AIC penality\n",
    "    correction_AIC=true,\n",
    "    lb_param_array=list_lb_param, # lower bound param\n",
    "    ub_param_array=list_ub_param, # upper bound param\n",
    ")"
   ]
  },
  {
   "cell_type": "code",
   "execution_count": null,
   "id": "69167e1c",
   "metadata": {},
   "outputs": [],
   "source": [
    "Plots.scatter(data_OD[1, :], data_OD[2, :], xlabel=\"Time\", ylabel=\"Arb. Units\", label=[\"Data \" nothing], color=:blue, markersize=2, size=(300, 300))\n",
    "Plots.plot!(seg_fitting[4], seg_fitting[3], xlabel=\"Time\", ylabel=\"Arb. Units\", label=[\"fit \" nothing], color=:red, markersize=2, size=(300, 300))"
   ]
  },
  {
   "cell_type": "code",
   "execution_count": null,
   "id": "870d017e",
   "metadata": {},
   "outputs": [],
   "source": []
  },
  {
   "cell_type": "markdown",
   "id": "3c163b61",
   "metadata": {},
   "source": [
    "NL segmentation fitting "
   ]
  },
  {
   "cell_type": "code",
   "execution_count": null,
   "id": "c227e2e6",
   "metadata": {},
   "outputs": [],
   "source": []
  },
  {
   "cell_type": "code",
   "execution_count": null,
   "id": "d194be41",
   "metadata": {},
   "outputs": [],
   "source": []
  },
  {
   "cell_type": "code",
   "execution_count": null,
   "id": "2026b253",
   "metadata": {},
   "outputs": [],
   "source": []
  },
  {
   "cell_type": "code",
   "execution_count": null,
   "id": "0702e583",
   "metadata": {},
   "outputs": [],
   "source": [
    "# Initializing all the models for selection\n",
    "ub_1 = [0.3 , 0.1]\n",
    "lb_1 = [0.01 , -0.01]\n",
    "p1_guess = lb_1 .+(ub_1.-lb_1)/.2"
   ]
  },
  {
   "cell_type": "code",
   "execution_count": null,
   "id": "b879a1e6",
   "metadata": {},
   "outputs": [],
   "source": [
    "ub_2 = [1.9, 0.1,500.0]\n",
    "lb_2 = [0.0001,0.001 ,0.001]\n",
    "p2_guess = lb_2 .+(ub_2.-lb_2)/.2"
   ]
  },
  {
   "cell_type": "code",
   "execution_count": null,
   "id": "3c7aeb19",
   "metadata": {
    "lines_to_next_cell": 2
   },
   "outputs": [],
   "source": [
    "ub_3 = [0.1, 1.1, 500.0]\n",
    "lb_3 = [0.0001, 0.000001, 0.001]\n",
    "p3_guess = lb_3 .+(ub_3.-lb_3)/.2"
   ]
  },
  {
   "cell_type": "code",
   "execution_count": null,
   "id": "b7a8e0b8",
   "metadata": {},
   "outputs": [],
   "source": [
    "list_of_models_nl = [\"NL_exponential\",  \"NL_logistic\",\"NL_Gompertz\"]\n",
    "list_ub_param = [ub_1,ub_2, ub_3]\n",
    "list_lb_param = [lb_1, lb_2,lb_3]\n",
    "list_guess = [p1_guess, p2_guess, p3_guess]\n",
    "# fitting fixed cp\n",
    "cdp_list = [100.0, 200.0]"
   ]
  },
  {
   "cell_type": "code",
   "execution_count": null,
   "id": "361a8a58",
   "metadata": {},
   "outputs": [],
   "source": [
    "@time seg_fitting = selection_NL_fixed_interval(\n",
    "   data_OD, # dataset first row times second row OD\n",
    "    \"test\", # name of the well\n",
    "    \"\", #label of the experiment\n",
    "    list_of_models_nl, # ode models to use\n",
    "    list_guess,\n",
    "    cdp_list;\n",
    "    pt_smooth_derivative = 3\n",
    ")"
   ]
  },
  {
   "cell_type": "code",
   "execution_count": null,
   "id": "93ab7242",
   "metadata": {
    "lines_to_next_cell": 2
   },
   "outputs": [],
   "source": [
    "Plots.scatter(data_OD[1, :], data_OD[2, :], xlabel=\"Time\", ylabel=\"Arb. Units\", label=[\"Data \" nothing], color=:blue, markersize=2, size=(300, 300))\n",
    "Plots.plot!(seg_fitting[3], seg_fitting[2], xlabel=\"Time\", ylabel=\"Arb. Units\", label=[\"fit \" nothing], color=:red, markersize=2, size=(300, 300))"
   ]
  },
  {
   "cell_type": "code",
   "execution_count": null,
   "id": "7b43a827",
   "metadata": {},
   "outputs": [],
   "source": [
    "seg_fitting = selection_NL_fixed_interval(\n",
    "   data_OD, # dataset first row times second row OD\n",
    "    \"test\", # name of the well\n",
    "    \"\", #label of the experiment\n",
    "    list_of_models_nl, # ode models to use\n",
    "    list_guess,\n",
    "    cdp_list;\n",
    "    lb_param_array=list_lb_param, # lower bound param\n",
    "    ub_param_array=list_ub_param, # upper bound param\n",
    "    beta_smoothing_ms=2.0, #  parameter of the AIC penality\n",
    "    correction_AIC=true,\n",
    "    multistart=true,"
   ]
  },
  {
   "cell_type": "code",
   "execution_count": null,
   "id": "b501df9f",
   "metadata": {},
   "outputs": [],
   "source": [
    ")\n",
    "Plots.scatter(data_OD[1, :], data_OD[2, :], xlabel=\"Time\", ylabel=\"Arb. Units\", label=[\"Data \" nothing], color=:blue, markersize=2, size=(300, 300))\n",
    "Plots.plot!(seg_fitting[3], seg_fitting[2], xlabel=\"Time\", ylabel=\"Arb. Units\", label=[\"fit \" nothing], color=:red, markersize=2, size=(300, 300))\n",
    "# fitting fixed number of cp"
   ]
  },
  {
   "cell_type": "code",
   "execution_count": null,
   "id": "be7b7117",
   "metadata": {},
   "outputs": [],
   "source": [
    "@time seg_fitting = segmentation_NL(\n",
    "   data_OD, # dataset first row times second row OD\n",
    "    \"test\", # name of the well\n",
    "    \"\", #label of the experiment\n",
    "    list_of_models_nl, # ode models to use\n",
    "    list_guess,\n",
    "    2;\n",
    "    detect_number_cpd=true,\n",
    "    fixed_cpd=false,\n",
    "    beta_smoothing_ms=2.0, #  parameter of the AIC penality\n",
    "    correction_AIC=true,\n",
    ")"
   ]
  },
  {
   "cell_type": "code",
   "execution_count": null,
   "id": "8213d37f",
   "metadata": {
    "lines_to_next_cell": 2
   },
   "outputs": [],
   "source": [
    "Plots.scatter(data_OD[1, :], data_OD[2, :], xlabel=\"Time\", ylabel=\"Arb. Units\", label=[\"Data \" nothing], color=:blue, markersize=2, size=(300, 300))\n",
    "Plots.plot!(seg_fitting[4], seg_fitting[3], xlabel=\"Time\", ylabel=\"Arb. Units\", label=[\"fit \" nothing], color=:red, markersize=2, size=(300, 300))"
   ]
  },
  {
   "cell_type": "code",
   "execution_count": null,
   "id": "6793e234",
   "metadata": {},
   "outputs": [],
   "source": [
    "@time seg_fitting = segmentation_NL(\n",
    "   data_OD, # dataset first row times second row OD\n",
    "    \"test\", # name of the well\n",
    "    \"\", #label of the experiment\n",
    "    list_of_models_nl, # ode models to use\n",
    "    list_guess,\n",
    "    2;\n",
    "    detect_number_cpd=false,\n",
    "    fixed_cpd=false,\n",
    "    beta_smoothing_ms=2.0, #  parameter of the AIC penality\n",
    "    correction_AIC=true,\n",
    ")"
   ]
  },
  {
   "cell_type": "code",
   "execution_count": null,
   "id": "78a5839a",
   "metadata": {},
   "outputs": [],
   "source": [
    "Plots.scatter(data_OD[1, :], data_OD[2, :], xlabel=\"Time\", ylabel=\"Arb. Units\", label=[\"Data \" nothing], color=:blue, markersize=2, size=(300, 300))\n",
    "Plots.plot!(seg_fitting[4], seg_fitting[3], xlabel=\"Time\", ylabel=\"Arb. Units\", label=[\"fit \" nothing], color=:red, markersize=2, size=(300, 300))"
   ]
  },
  {
   "cell_type": "code",
   "execution_count": null,
   "id": "98d95065",
   "metadata": {},
   "outputs": [],
   "source": []
  },
  {
   "cell_type": "code",
   "execution_count": null,
   "id": "f1b9c53c",
   "metadata": {},
   "outputs": [],
   "source": [
    "@time seg_fitting = segmentation_NL(\n",
    "   data_OD, # dataset first row times second row OD\n",
    "    \"test\", # name of the well\n",
    "    \"\", #label of the experiment\n",
    "    list_of_models_nl, # ode models to use\n",
    "    list_guess,\n",
    "    2;\n",
    "    detect_number_cpd=false,\n",
    "    fixed_cpd=true,\n",
    "    beta_smoothing_ms=2.0, #  parameter of the AIC penality\n",
    "    correction_AIC=true,\n",
    ")"
   ]
  },
  {
   "cell_type": "code",
   "execution_count": null,
   "id": "39fb9d30",
   "metadata": {},
   "outputs": [],
   "source": [
    "Plots.scatter(data_OD[1, :], data_OD[2, :], xlabel=\"Time\", ylabel=\"Arb. Units\", label=[\"Data \" nothing], color=:blue, markersize=2, size=(300, 300))\n",
    "Plots.plot!(seg_fitting[4], seg_fitting[3], xlabel=\"Time\", ylabel=\"Arb. Units\", label=[\"fit \" nothing], color=:red, markersize=2, size=(300, 300))"
   ]
  },
  {
   "cell_type": "markdown",
   "id": "4decb981",
   "metadata": {},
   "source": [
    "testing restart"
   ]
  },
  {
   "cell_type": "code",
   "execution_count": null,
   "id": "1b746af3",
   "metadata": {},
   "outputs": [],
   "source": [
    "@time seg_fitting = segmentation_NL(\n",
    "   data_OD, # dataset first row times second row OD\n",
    "    \"test\", # name of the well\n",
    "    \"\", #label of the experiment\n",
    "    list_of_models_nl, # ode models to use\n",
    "    list_guess,\n",
    "    2;\n",
    "    detect_number_cpd=false,\n",
    "    fixed_cpd=true,\n",
    "    multistart =true,\n",
    "    beta_smoothing_ms=2.0, #  parameter of the AIC penality\n",
    "    correction_AIC=true,\n",
    "    lb_param_array=list_lb_param, # lower bound param\n",
    "    ub_param_array=list_ub_param, # upper bound param\n",
    ")"
   ]
  },
  {
   "cell_type": "code",
   "execution_count": null,
   "id": "1ad4805f",
   "metadata": {},
   "outputs": [],
   "source": [
    "Plots.scatter(data_OD[1, :], data_OD[2, :], xlabel=\"Time\", ylabel=\"Arb. Units\", label=[\"Data \" nothing], color=:blue, markersize=2, size=(300, 300))\n",
    "Plots.plot!(seg_fitting[4], seg_fitting[3], xlabel=\"Time\", ylabel=\"Arb. Units\", label=[\"fit \" nothing], color=:red, markersize=2, size=(300, 300))"
   ]
  }
 ],
 "metadata": {
  "jupytext": {
   "cell_metadata_filter": "-all",
   "main_language": "julia",
   "notebook_metadata_filter": "-all"
  }
 },
 "nbformat": 4,
 "nbformat_minor": 5
}
