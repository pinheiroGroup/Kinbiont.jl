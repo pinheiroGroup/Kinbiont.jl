{
 "cells": [
  {
   "cell_type": "code",
   "execution_count": null,
   "id": "86638393",
   "metadata": {},
   "outputs": [],
   "source": [
    "using Kinbiont\n",
    "using DifferentialEquations\n",
    "using CSV\n",
    "using SymbolicRegression\n",
    "using Plots\n",
    "using StatsBase\n",
    "using Distributions"
   ]
  },
  {
   "cell_type": "markdown",
   "id": "a37caba6",
   "metadata": {},
   "source": [
    "------------------------------------------------------------------------------\n",
    "------------------------------------------------------------------------------\n",
    "The system described below represents an interaction between four variables:\n",
    "- **u1**: A reactant influenced by u4\n",
    "- **u2**: A product formed via an intermediate reaction\n",
    "- **u3**: Another intermediate compound\n",
    "- **u4**: Decreases as it drives the reaction forward\n",
    "\n",
    "Our goal is to examples how to fit the ODE system that is user defined \n",
    "------------------------------------------------------------------------------"
   ]
  },
  {
   "cell_type": "code",
   "execution_count": null,
   "id": "4f21c084",
   "metadata": {},
   "outputs": [],
   "source": [
    "# ------------------------------------------------------------------------------\n",
    "# Step 1: Define the ODE System with an Unknown Functional Form\n",
    "# ------------------------------------------------------------------------------\n",
    "function model_1(du, u, param, t)\n",
    "    # State variables:\n",
    "    # u1 -> Reactant\n",
    "    # u2 -> Intermediate product\n",
    "    # u3 -> Final product\n",
    "    # u4 -> Driving factor (e.g., enzyme, catalyst, or resource pool)\n",
    "\n",
    "    # Parameter descriptions:\n",
    "    # param[1] -> Rate of reactant conversion, dependent on u4\n",
    "    # param[2] -> Degradation rate of intermediates\n",
    "    # param[3] -> Transition rate from u2 to u3\n",
    "    # param[4] -> Scaling factor for the first reaction\n",
    "\n",
    "    # Differential equations:\n",
    "    du[1] = param[1] * u[1] * u[4]                  # Reactant conversion\n",
    "    du[2] = param[4] * du[1] - param[3] * u[2] - param[2] * u[2]  # Intermediate balance\n",
    "    du[3] = param[3] * u[2] - param[2] * u[3]       # Final product formation\n",
    "    du[4] = -du[1]                                  # Resource consumption\n",
    "end"
   ]
  },
  {
   "cell_type": "code",
   "execution_count": null,
   "id": "379dcea6",
   "metadata": {},
   "outputs": [],
   "source": [
    "# ------------------------------------------------------------------------------\n",
    "# Step 2: Set Initial Conditions and Parameter Ranges\n",
    "# ------------------------------------------------------------------------------\n",
    "u0 = [0.1, 0.0, 0.0, 1.0]  # Initial conditions for [u1, u2, u3, u4]"
   ]
  },
  {
   "cell_type": "code",
   "execution_count": null,
   "id": "1a5c3747",
   "metadata": {},
   "outputs": [],
   "source": [
    "# True parameter values (used for simulation)\n",
    "param = [0.1, 0.01, 0.5, 0.42]"
   ]
  },
  {
   "cell_type": "code",
   "execution_count": null,
   "id": "ee6a2b11",
   "metadata": {},
   "outputs": [],
   "source": [
    "# Define lower and upper bounds for parameter estimation\n",
    "lb1 = [0.01, 0.0001, 0.0, 0.01]  # Lower bounds\n",
    "ub1 = [0.2, 0.3, 1.1, 1.0]       # Upper bounds"
   ]
  },
  {
   "cell_type": "code",
   "execution_count": null,
   "id": "6d480dca",
   "metadata": {},
   "outputs": [],
   "source": [
    "# Initial parameter guess (midpoint between bounds)\n",
    "param_guess = lb1 .+ (ub1 .- lb1) ./ 2  "
   ]
  },
  {
   "cell_type": "code",
   "execution_count": null,
   "id": "17ccecff",
   "metadata": {},
   "outputs": [],
   "source": [
    "# Noise level\n",
    "noise_value = 0.01"
   ]
  },
  {
   "cell_type": "code",
   "execution_count": null,
   "id": "72882a7e",
   "metadata": {},
   "outputs": [],
   "source": [
    "# ------------------------------------------------------------------------------\n",
    "# Step 3: Simulate the ODE System\n",
    "# ------------------------------------------------------------------------------\n",
    "Simulation = ODEs_system_sim(\n",
    "    model_1, # ODE function\n",
    "    u0,      # Initial conditions\n",
    "    0.0,     # Start time\n",
    "    50.0,    # End time\n",
    "    1.0,     # Time step for Poisson approximation\n",
    "    param    # True parameters\n",
    ")"
   ]
  },
  {
   "cell_type": "code",
   "execution_count": null,
   "id": "8a50e539",
   "metadata": {},
   "outputs": [],
   "source": [
    "# ------------------------------------------------------------------------------\n",
    "# Step 4: Add Noise to Simulated Data\n",
    "# ------------------------------------------------------------------------------\n",
    "sol_time = reduce(hcat, Simulation.t) # Extract time points\n",
    "sol_t = reduce(hcat, Simulation.u)    # Extract simulation data"
   ]
  },
  {
   "cell_type": "code",
   "execution_count": null,
   "id": "3a656792",
   "metadata": {},
   "outputs": [],
   "source": [
    "# Adding uniform random noise to mimic experimental uncertainty\n",
    "noise_uniform = rand(Uniform(-0.05, 0.05), size(sol_t)[2])\n",
    "sol_t_noise = [sol_t[i, :] .+ rand(Uniform(-0.05, 0.05), size(sol_t)[2]) for i in 1:size(sol_t)[1]]\n",
    "sol_t_noise = permutedims(reduce(hcat, sol_t_noise))"
   ]
  },
  {
   "cell_type": "code",
   "execution_count": null,
   "id": "0d7a3baf",
   "metadata": {},
   "outputs": [],
   "source": [
    "# Combine noisy data with time points\n",
    "data = vcat(sol_time, sol_t_noise)"
   ]
  },
  {
   "cell_type": "code",
   "execution_count": null,
   "id": "09b86374",
   "metadata": {},
   "outputs": [],
   "source": [
    "# ------------------------------------------------------------------------------\n",
    "# Step 5: Visualize Noisy Data\n",
    "# ------------------------------------------------------------------------------\n",
    "display(scatter(data[1, :], data[2, :], label=\"u1\"))\n",
    "display(scatter!(data[1, :], data[3, :], label=\"u2\"))\n",
    "display(scatter!(data[1, :], data[4, :], label=\"u3\"))\n",
    "display(scatter!(data[1, :], data[5, :], label=\"u4\"))"
   ]
  },
  {
   "cell_type": "code",
   "execution_count": null,
   "id": "417523b0",
   "metadata": {},
   "outputs": [],
   "source": [
    "# ------------------------------------------------------------------------------\n",
    "# Step 6: Fit the Model Using Kinbiont\n",
    "# ------------------------------------------------------------------------------\n",
    "fit = fit_ODEs_System(\n",
    "    data,\n",
    "    \"test\",     # Label for dataset\n",
    "    model_1,    # ODE model\n",
    "    param_guess, # Initial parameter guess\n",
    "    u0;         # Initial conditions\n",
    "    lb=lb1,     # Lower bounds\n",
    "    ub=ub1      # Upper bounds\n",
    ")"
   ]
  },
  {
   "cell_type": "code",
   "execution_count": null,
   "id": "caeccb56",
   "metadata": {},
   "outputs": [],
   "source": [
    "# ------------------------------------------------------------------------------\n",
    "# Step 7: Plot the Fitted Model\n",
    "# ------------------------------------------------------------------------------\n",
    "plot!(fit[3], label=\"Fitted Model\")"
   ]
  }
 ],
 "metadata": {
  "jupytext": {
   "cell_metadata_filter": "-all",
   "main_language": "julia",
   "notebook_metadata_filter": "-all"
  }
 },
 "nbformat": 4,
 "nbformat_minor": 5
}
